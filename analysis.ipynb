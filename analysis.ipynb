{
 "cells": [
  {
   "cell_type": "code",
   "execution_count": 2,
   "metadata": {},
   "outputs": [],
   "source": [
    "import librosa\n",
    "import matplotlib.pyplot as plt\n",
    "import numpy as np"
   ]
  },
  {
   "attachments": {},
   "cell_type": "markdown",
   "metadata": {},
   "source": [
    "### Visualize"
   ]
  },
  {
   "cell_type": "code",
   "execution_count": null,
   "metadata": {},
   "outputs": [],
   "source": [
    "audio_file = 'test/audio/chunks/recorded_audio_20230918_015105.wav'\n",
    "audio, sample_rate = librosa.load(audio_file, sr=None)\n",
    "\n",
    "# Plot the normalized audio waveform\n",
    "plt.figure(figsize=(12, 4))\n",
    "librosa.display.waveshow(audio, sr=sample_rate)\n",
    "plt.title(\"Normalized Audio Waveform\")\n",
    "plt.xlabel(\"Time (s)\")\n",
    "plt.ylabel(\"Amplitude\")\n",
    "plt.show()"
   ]
  },
  {
   "attachments": {},
   "cell_type": "markdown",
   "metadata": {},
   "source": [
    "#### Create Spectrogram"
   ]
  },
  {
   "cell_type": "code",
   "execution_count": null,
   "metadata": {},
   "outputs": [],
   "source": [
    "plt.figure(figsize=(12, 6))\n",
    "D = librosa.amplitude_to_db(np.abs(librosa.stft(audio)), ref=np.max)\n",
    "librosa.display.specshow(D, sr=sample_rate, x_axis='time', y_axis='log')\n",
    "plt.colorbar(format='%+2.0f dB')\n",
    "plt.title(\"Spectrogram of Normalized Audio\")\n",
    "plt.show()"
   ]
  },
  {
   "attachments": {},
   "cell_type": "markdown",
   "metadata": {},
   "source": [
    "#### Pitch variation"
   ]
  },
  {
   "cell_type": "code",
   "execution_count": null,
   "metadata": {},
   "outputs": [],
   "source": [
    "import librosa\n",
    "import librosa.display\n",
    "import matplotlib.pyplot as plt\n",
    "import numpy as np\n",
    "\n",
    "# Load the audio file\n",
    "audio_file = 'test/audio/chunks/recorded_audio_20230918_015105.wav'  # Replace with the path to your audio file\n",
    "y, sr = librosa.load(audio_file, sr=None)\n",
    "\n",
    "# Calculate the pitch variation\n",
    "pitch, magnitudes = librosa.piptrack(y=y, sr=sr)\n",
    "mean_pitch = pitch[pitch > 0].mean()\n",
    "\n",
    "# Calculate the intensity variation\n",
    "intensity = librosa.feature.rms(y=y)\n",
    "\n",
    "# Plot the pitch and intensity\n",
    "plt.figure(figsize=(12, 6))\n",
    "\n",
    "plt.subplot(2, 1, 1)\n",
    "librosa.display.waveshow(y, sr=sr)\n",
    "plt.title('Waveform')\n",
    "\n",
    "plt.subplot(2, 1, 2)\n",
    "librosa.display.specshow(librosa.amplitude_to_db(magnitudes, ref=np.max), y_axis='log', x_axis='time')\n",
    "plt.colorbar(format='%+2.0f dB')\n",
    "plt.title(f'Pitch Variation (Mean Pitch: {mean_pitch:.2f} Hz)')\n",
    "\n",
    "plt.tight_layout()\n",
    "plt.show()"
   ]
  },
  {
   "attachments": {},
   "cell_type": "markdown",
   "metadata": {},
   "source": [
    "### -------------------------------------------\n",
    "### UPDATED CLUSTERING\n",
    "### -------------------------------------------"
   ]
  },
  {
   "cell_type": "code",
   "execution_count": 3,
   "metadata": {},
   "outputs": [],
   "source": [
    "import src.utils.audio_utils as audio_utils\n",
    "import modules.pyannote as pyannote\n",
    "import modules.whisper as whisper\n",
    "import src.utils.system_utils as system_utils\n",
    "import os"
   ]
  },
  {
   "cell_type": "code",
   "execution_count": null,
   "metadata": {},
   "outputs": [],
   "source": [
    "transcription_model  = whisper.load_model()"
   ]
  },
  {
   "cell_type": "code",
   "execution_count": null,
   "metadata": {},
   "outputs": [],
   "source": [
    "#audio_utils.start_continuous_recording(True, False)"
   ]
  },
  {
   "cell_type": "code",
   "execution_count": 4,
   "metadata": {},
   "outputs": [],
   "source": [
    "DOTENV_PATH = './venv/env_variables.env'\n",
    "PYANNOTE_ACCESS_TOKEN = pyannote.get_pyannote_access_token(DOTENV_PATH)"
   ]
  },
  {
   "cell_type": "code",
   "execution_count": 5,
   "metadata": {},
   "outputs": [
    {
     "name": "stderr",
     "output_type": "stream",
     "text": [
      "The torchaudio backend is switched to 'soundfile'. Note that 'sox_io' is not supported on Windows.\n",
      "torchvision is not available - cannot save figures\n",
      "The torchaudio backend is switched to 'soundfile'. Note that 'sox_io' is not supported on Windows.\n",
      "Lightning automatically upgraded your loaded checkpoint from v1.5.4 to v2.0.7. To apply the upgrade to your files permanently, run `python -m pytorch_lightning.utilities.upgrade_checkpoint --file C:\\Users\\adamb\\.cache\\torch\\pyannote\\models--pyannote--segmentation\\snapshots\\c4c8ceafcbb3a7a280c2d357aee9fbc9b0be7f9b\\pytorch_model.bin`\n"
     ]
    },
    {
     "name": "stdout",
     "output_type": "stream",
     "text": [
      "Model was trained with pyannote.audio 0.0.1, yours is 2.1.1. Bad things might happen unless you revert pyannote.audio to 0.x.\n",
      "Model was trained with torch 1.10.0+cu102, yours is 2.0.1+cpu. Bad things might happen unless you revert torch to 1.x.\n"
     ]
    }
   ],
   "source": [
    "pyannote_pipeline = pyannote.get_pyannote_pipeline(pyannote_access_token=PYANNOTE_ACCESS_TOKEN)"
   ]
  },
  {
   "attachments": {},
   "cell_type": "markdown",
   "metadata": {},
   "source": [
    "#### Speech activity detection demo"
   ]
  },
  {
   "cell_type": "code",
   "execution_count": 6,
   "metadata": {},
   "outputs": [
    {
     "data": {
      "text/plain": [
       "False"
      ]
     },
     "execution_count": 6,
     "metadata": {},
     "output_type": "execute_result"
    }
   ],
   "source": [
    "audio = 'enhanced_audio/temp/test.wav'\n",
    "audio1 = 'enhanced_audio/silent_speech/recorded_audio_20230924_223955.wav'\n",
    "audio2 = 'enhanced_audio/silent_speech/recorded_audio_20230924_224352.wav'\n",
    "\n",
    "speech_activity = audio_utils.speech_exists(audio1)\n",
    "speech_activity"
   ]
  },
  {
   "cell_type": "code",
   "execution_count": 7,
   "metadata": {},
   "outputs": [
    {
     "name": "stderr",
     "output_type": "stream",
     "text": [
      "Lightning automatically upgraded your loaded checkpoint from v1.2.7 to v2.0.7. To apply the upgrade to your files permanently, run `python -m pytorch_lightning.utilities.upgrade_checkpoint --file C:\\Users\\adamb\\.cache\\torch\\pyannote\\models--pyannote--embedding\\snapshots\\ef54f1b59c9fbef89ea2bab0e27b4a5dd9cfce36\\pytorch_model.bin`\n",
      "Lightning automatically upgraded your loaded checkpoint from v1.2.7 to v2.0.7. To apply the upgrade to your files permanently, run `python -m pytorch_lightning.utilities.upgrade_checkpoint --file C:\\Users\\adamb\\.cache\\torch\\pyannote\\models--pyannote--embedding\\snapshots\\ef54f1b59c9fbef89ea2bab0e27b4a5dd9cfce36\\pytorch_model.bin`\n"
     ]
    },
    {
     "name": "stdout",
     "output_type": "stream",
     "text": [
      "Model was trained with pyannote.audio 0.0.1, yours is 2.1.1. Bad things might happen unless you revert pyannote.audio to 0.x.\n",
      "Model was trained with torch 1.8.1+cu102, yours is 2.0.1+cpu. Bad things might happen unless you revert torch to 1.x.\n",
      "Model was trained with pyannote.audio 0.0.1, yours is 2.1.1. Bad things might happen unless you revert pyannote.audio to 0.x.\n",
      "Model was trained with torch 1.8.1+cu102, yours is 2.0.1+cpu. Bad things might happen unless you revert torch to 1.x.\n"
     ]
    }
   ],
   "source": [
    "embedding_model = pyannote.get_embedding_model(PYANNOTE_ACCESS_TOKEN)"
   ]
  },
  {
   "attachments": {},
   "cell_type": "markdown",
   "metadata": {},
   "source": [
    "#### Clustering example"
   ]
  },
  {
   "cell_type": "code",
   "execution_count": 13,
   "metadata": {},
   "outputs": [
    {
     "data": {
      "image/png": "[encoded data removed]",
      "text/plain": [
       "<Figure size 640x480 with 1 Axes>"
      ]
     },
     "metadata": {},
     "output_type": "display_data"
    },
    {
     "name": "stdout",
     "output_type": "stream",
     "text": [
      "cluster:  3   ['enhanced_audio/non_silent/crop_at_end_recorded_audio_20230907_223245_s1.wav_SPEAKER_00__0_20230908_174952.wav', 'enhanced_audio/non_silent/crop_at_end_recorded_audio_20230907_223255_s1.wav_SPEAKER_00__1_20230908_175101.wav', 'enhanced_audio/non_silent/crop_at_end_recorded_audio_20230907_223305_s1.wav_SPEAKER_00__1_20230908_175112.wav', 'enhanced_audio/non_silent/crop_at_end_recorded_audio_20230907_223315_s1.wav_SPEAKER_00__0_20230908_175049.wav'] \n",
      "\n",
      "cluster:  2   ['enhanced_audio/non_silent/crop_at_end_recorded_audio_20230907_223415_s2.wav_SPEAKER_00__1_20230908_175057.wav', 'enhanced_audio/non_silent/crop_at_end_recorded_audio_20230907_223425_s2.wav_SPEAKER_00__1_20230908_175053.wav', 'enhanced_audio/non_silent/crop_at_end_recorded_audio_20230907_223435_s2.wav_SPEAKER_00__1_20230908_175108.wav'] \n",
      "\n",
      "cluster:  1   ['enhanced_audio/non_silent/crop_at_end_recorded_audio_20230908_133604_s3.wav_SPEAKER_00__2_20230908_175120.wav', 'enhanced_audio/non_silent/crop_at_end_recorded_audio_20230908_133614_s3.wav_SPEAKER_00__3_20230908_175017.wav', 'enhanced_audio/non_silent/crop_at_end_recorded_audio_20230908_133624_s3.wav_SPEAKER_01__1_20230908_175105.wav', 'enhanced_audio/non_silent/crop_at_end_recorded_audio_20230908_133634_s3.wav_SPEAKER_00__2_20230908_175116.wav', 'enhanced_audio/non_silent/crop_at_end_recorded_audio_20230908_133644_s3.wav_SPEAKER_00__2_20230908_175038.wav'] \n",
      "\n"
     ]
    }
   ],
   "source": [
    "import os\n",
    "import numpy as np\n",
    "from sklearn.metrics.pairwise import cosine_similarity\n",
    "from scipy.cluster.hierarchy import linkage, dendrogram, fcluster\n",
    "from models.cluster_point import ClusterPoint\n",
    "\n",
    "CLUSTER_ROOT = 'enhanced_audio/non_silent/'#'enhanced_audio/test_clips/'\n",
    "\n",
    "def init_embeddings_cluster(CLUSTER_ROOT, embedding_model):\n",
    "    cluster_point = ClusterPoint()\n",
    "    cluster_files = os.listdir(CLUSTER_ROOT) \n",
    "    embeddings_dict = {}\n",
    "    for i, file in enumerate(cluster_files):\n",
    "        file_path = os.path.join(CLUSTER_ROOT, file)\n",
    "        if file_path not in embeddings_dict:\n",
    "            embeddings_dict[file_path] = pyannote.get_speaker_embedding_vector(embedding_model, file_path)\n",
    "\n",
    "    embedding_arrays = np.array(list(embeddings_dict.values()))\n",
    "    cosine_similarity_matrix = cosine_similarity(embedding_arrays, embedding_arrays)\n",
    "\n",
    "    # Compute linkage matrix\n",
    "    linkage_matrix = linkage(1 - cosine_similarity_matrix, method='ward')\n",
    "\n",
    "    # Create a dendrogram\n",
    "    dendrogram(linkage_matrix)\n",
    "\n",
    "    # Plot the dendrogram (optional)\n",
    "    import matplotlib.pyplot as plt\n",
    "    plt.show()\n",
    "\n",
    "        # Set a threshold or number of clusters based on your visual inspection\n",
    "    threshold = 1.4  # Adjust this value as needed\n",
    "\n",
    "    # Cut the dendrogram to obtain cluster labels\n",
    "    cluster_labels = fcluster(linkage_matrix, t=threshold, criterion='distance')\n",
    "    cluster_labels\n",
    "\n",
    "    # Create a dictionary to associate file names with cluster labels\n",
    "    clustered_data = {}\n",
    "    clustered_embeddings = {}\n",
    "    for i, (file_name, embedding) in enumerate(embeddings_dict.items()):\n",
    "        cluster_label = cluster_labels[i]\n",
    "        if cluster_label not in clustered_data:\n",
    "            clustered_data[cluster_label] = []\n",
    "            clustered_embeddings[cluster_label] = []\n",
    "        clustered_data[cluster_label].append(file_name)\n",
    "        clustered_embeddings[cluster_label].append(embedding)\n",
    "        \n",
    "        #system_utils.delete_specific_file(file_name)\n",
    "\n",
    "    # Now, clustered_data contains clusters as keys and lists of file names as values\n",
    "    for i in clustered_data:\n",
    "        print(\"cluster: \", i, \" \",clustered_data[i],\"\\n\")\n",
    "    \n",
    "    return clustered_embeddings\n",
    "\n",
    "clustered_embeddings = init_embeddings_cluster(CLUSTER_ROOT, embedding_model)"
   ]
  }
 ],
 "metadata": {
  "kernelspec": {
   "display_name": "tensorflow_base_env",
   "language": "python",
   "name": "python3"
  },
  "language_info": {
   "codemirror_mode": {
    "name": "ipython",
    "version": 3
   },
   "file_extension": ".py",
   "mimetype": "text/x-python",
   "name": "python",
   "nbconvert_exporter": "python",
   "pygments_lexer": "ipython3",
   "version": "3.11.0"
  },
  "orig_nbformat": 4
 },
 "nbformat": 4,
 "nbformat_minor": 2
}
