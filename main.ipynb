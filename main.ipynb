{
 "cells": [
  {
   "cell_type": "code",
   "execution_count": 16,
   "metadata": {},
   "outputs": [],
   "source": [
    "import wave\n",
    "import sys\n",
    "\n",
    "import pyaudio\n",
    "from src.utils.audio_utils  import record_audio_chunk\n",
    "from modules.whisper import load_model, transcribe_audio"
   ]
  },
  {
   "cell_type": "code",
   "execution_count": 2,
   "metadata": {},
   "outputs": [
    {
     "name": "stdout",
     "output_type": "stream",
     "text": [
      "* recording\n",
      "* done recording\n"
     ]
    }
   ],
   "source": [
    "record_audio_chunk(1)\n",
    "## declarations"
   ]
  },
  {
   "cell_type": "code",
   "execution_count": 7,
   "metadata": {},
   "outputs": [],
   "source": [
    "#import whisper\n",
    "#import os\n",
    "#import numpy as np\n",
    "#import torch"
   ]
  },
  {
   "cell_type": "code",
   "execution_count": 8,
   "metadata": {},
   "outputs": [],
   "source": [
    "#torch.cuda.is_available()\n",
    "#DEVICE = \"cuda\" if torch.cuda.is_available() else \"cpu\""
   ]
  },
  {
   "cell_type": "code",
   "execution_count": 9,
   "metadata": {},
   "outputs": [
    {
     "data": {
      "text/plain": [
       "'cpu'"
      ]
     },
     "execution_count": 9,
     "metadata": {},
     "output_type": "execute_result"
    }
   ],
   "source": [
    "#DEVICE"
   ]
  },
  {
   "attachments": {},
   "cell_type": "markdown",
   "metadata": {},
   "source": [
    "### chose to load model with processing device either cpu or gpu"
   ]
  },
  {
   "cell_type": "code",
   "execution_count": 17,
   "metadata": {},
   "outputs": [
    {
     "name": "stdout",
     "output_type": "stream",
     "text": [
      "Model is English-only and has 71,825,408 parameters.\n"
     ]
    },
    {
     "name": "stderr",
     "output_type": "stream",
     "text": [
      "c:\\Users\\adamb\\DevProjects\\python_envs\\tensorflow_base_env\\Lib\\site-packages\\whisper\\transcribe.py:114: UserWarning: FP16 is not supported on CPU; using FP32 instead\n",
      "  warnings.warn(\"FP16 is not supported on CPU; using FP32 instead\")\n"
     ]
    },
    {
     "data": {
      "text/plain": [
       "\" First Particular recording. I wanted to talk about why we're having so much trouble in America today. Sometimes you have this particular issue where...\""
      ]
     },
     "execution_count": 17,
     "metadata": {},
     "output_type": "execute_result"
    }
   ],
   "source": [
    "#MODEL_TYPE = \"base.en\"\n",
    "#model = whisper.load_model(MODEL_TYPE, device=DEVICE)\n",
    "#print(\n",
    "#    f\"Model is {'multilingual' if model.is_multilingual else 'English-only'} \"\n",
    "#    f\"and has {sum(np.prod(p.shape) for p in model.parameters()):,} parameters.\"\n",
    "#)\n",
    "\n",
    "model = load_model()\n",
    "file_name = \"audio/1_voice_chunk.wav\"\n",
    "current_caption = transcribe_audio(model, file_name)\n",
    "current_caption"
   ]
  },
  {
   "attachments": {},
   "cell_type": "markdown",
   "metadata": {},
   "source": [
    "### load file to transcribe"
   ]
  },
  {
   "cell_type": "code",
   "execution_count": 14,
   "metadata": {},
   "outputs": [
    {
     "name": "stderr",
     "output_type": "stream",
     "text": [
      "c:\\Users\\adamb\\DevProjects\\python_envs\\tensorflow_base_env\\Lib\\site-packages\\whisper\\transcribe.py:114: UserWarning: FP16 is not supported on CPU; using FP32 instead\n",
      "  warnings.warn(\"FP16 is not supported on CPU; using FP32 instead\")\n"
     ]
    }
   ],
   "source": [
    "#audio = whisper.load_audio(\"audio/1_voice_chunk.wav\")\n",
    "#audio = whisper.pad_or_trim(audio)\n",
    "#mel = whisper.log_mel_spectrogram(audio).to(model.device)\n",
    "#file_name = \"audio/1_voice_chunk.wav\"\n",
    "#result = model.transcribe(file_name)\n"
   ]
  },
  {
   "cell_type": "code",
   "execution_count": 15,
   "metadata": {},
   "outputs": [
    {
     "name": "stdout",
     "output_type": "stream",
     "text": [
      " First Particular recording. I wanted to talk about why we're having so much trouble in America today. Sometimes you have this particular issue where...\n"
     ]
    }
   ],
   "source": [
    "output_text = result[\"text\"]\n",
    "print(output_text)"
   ]
  },
  {
   "cell_type": "code",
   "execution_count": null,
   "metadata": {},
   "outputs": [],
   "source": [
    "#import tensorflow as tf"
   ]
  },
  {
   "cell_type": "code",
   "execution_count": null,
   "metadata": {},
   "outputs": [],
   "source": [
    "#print(tf.reduce_sum(tf.random.normal([1000, 1000])))"
   ]
  },
  {
   "cell_type": "code",
   "execution_count": null,
   "metadata": {},
   "outputs": [],
   "source": [
    "#print(tf.config.list_physical_devices('GPU'))"
   ]
  }
 ],
 "metadata": {
  "kernelspec": {
   "display_name": "tensorflow_base",
   "language": "python",
   "name": "python3"
  },
  "language_info": {
   "codemirror_mode": {
    "name": "ipython",
    "version": 3
   },
   "file_extension": ".py",
   "mimetype": "text/x-python",
   "name": "python",
   "nbconvert_exporter": "python",
   "pygments_lexer": "ipython3",
   "version": "3.11.0"
  },
  "orig_nbformat": 4
 },
 "nbformat": 4,
 "nbformat_minor": 2
}
