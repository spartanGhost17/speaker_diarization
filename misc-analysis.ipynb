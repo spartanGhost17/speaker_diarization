{
 "cells": [
  {
   "cell_type": "code",
   "execution_count": null,
   "metadata": {},
   "outputs": [],
   "source": [
    "import wave\n",
    "import sys\n",
    "\n",
    "import pyaudio\n",
    "from src.utils.system_utils import create_folder_structure\n",
    "from src.utils.audio_utils import record_audio_chunk, concatenate_stream, download_mp3, start_continuous_recording, crop_wav, enhance_audio_signal, speach_activity_detection\n",
    "from modules.whisper import load_model, transcribe_audio\n",
    "from modules.pyannote import embedding_cosine_similarity, get_embedding_model, get_pyannote_access_token, get_pyannote_pipeline, get_diarization_speaker_info_df"
   ]
  },
  {
   "cell_type": "code",
   "execution_count": null,
   "metadata": {},
   "outputs": [],
   "source": [
    "#record_audio_chunk(3)\n",
    "## declarations"
   ]
  },
  {
   "cell_type": "code",
   "execution_count": null,
   "metadata": {},
   "outputs": [],
   "source": [
    "#torch.cuda.is_available()\n",
    "#DEVICE = \"cuda\" if torch.cuda.is_available() else \"cpu\""
   ]
  },
  {
   "cell_type": "code",
   "execution_count": null,
   "metadata": {},
   "outputs": [],
   "source": [
    "#DEVICE"
   ]
  },
  {
   "attachments": {},
   "cell_type": "markdown",
   "metadata": {},
   "source": [
    "### chose to load model with processing device either cpu or gpu"
   ]
  },
  {
   "cell_type": "code",
   "execution_count": null,
   "metadata": {},
   "outputs": [],
   "source": [
    "#MODEL_TYPE = \"base.en\"\n",
    "#model = whisper.load_model(MODEL_TYPE, device=DEVICE)\n",
    "#print(\n",
    "#    f\"Model is {'multilingual' if model.is_multilingual else 'English-only'} \"\n",
    "#    f\"and has {sum(np.prod(p.shape) for p in model.parameters()):,} parameters.\"\n",
    "#)\n",
    "\n",
    "model = load_model()"
   ]
  },
  {
   "cell_type": "code",
   "execution_count": null,
   "metadata": {},
   "outputs": [],
   "source": [
    "file_name = \"audio/full_audio/full_audio.wav\"\n",
    "current_caption = transcribe_audio(model, file_name)\n",
    "current_caption"
   ]
  },
  {
   "cell_type": "code",
   "execution_count": null,
   "metadata": {},
   "outputs": [],
   "source": []
  },
  {
   "cell_type": "code",
   "execution_count": null,
   "metadata": {},
   "outputs": [],
   "source": [
    "import requests\n",
    "import tempfile"
   ]
  },
  {
   "cell_type": "code",
   "execution_count": null,
   "metadata": {},
   "outputs": [],
   "source": [
    "AUDIO_URL = \"https://www.listennotes.com/podcast-clips/369-paul-rosolie-amazon-jungle-uncontacted-z5w0HVahToE/\" \n",
    "\n",
    "download_mp3(AUDIO_URL, \"lex-fridman.mp3\")"
   ]
  },
  {
   "cell_type": "code",
   "execution_count": null,
   "metadata": {},
   "outputs": [],
   "source": [
    "#loop through files\n",
    "\n",
    "import os\n",
    "directory = 'audio/chunks/'\n",
    "list_test = []\n",
    "for filename in os.listdir(directory):\n",
    "    f = os.path.join(directory, filename)\n",
    "    \n",
    "    if os.path.isfile(f):\n",
    "        current_caption = transcribe_audio(model, f)\n",
    "        print(\"list of data:\", current_caption[0])\n",
    "        list_test.append(current_caption[0])\n",
    "        #print(f\"file:{f} id:{current_caption['id']} \\n transcribed-text:{current_caption['text']} start: {current_caption['start']} , end: {current_caption['end']}\")\n",
    "\n",
    "current_caption[1]\n",
    "## make sure full_audio exists\n",
    "## if yes concatenate with it, if not create a full_audio with file that is empty and concatenate with it \n",
    "#concatenate_stream(\"audio/chunks/1_voice_chunk.wav\", \"audio/chunks/2_voice_chunk.wav\")"
   ]
  },
  {
   "cell_type": "code",
   "execution_count": null,
   "metadata": {},
   "outputs": [],
   "source": [
    "current_caption[0][0].get_text()"
   ]
  },
  {
   "cell_type": "code",
   "execution_count": null,
   "metadata": {},
   "outputs": [],
   "source": [
    "print(list_test[3][1])"
   ]
  },
  {
   "cell_type": "code",
   "execution_count": null,
   "metadata": {},
   "outputs": [],
   "source": []
  },
  {
   "cell_type": "code",
   "execution_count": null,
   "metadata": {},
   "outputs": [],
   "source": [
    "for entry in list_test:\n",
    "    print(entry)\n",
    "    print(\"\\n\")"
   ]
  },
  {
   "cell_type": "code",
   "execution_count": null,
   "metadata": {},
   "outputs": [],
   "source": [
    "len(os.listdir(directory))"
   ]
  },
  {
   "cell_type": "code",
   "execution_count": null,
   "metadata": {},
   "outputs": [],
   "source": [
    "file_name = \"lex-fridman.mp3\"\n",
    "\n",
    "current_caption = transcribe_audio(model, file_name) #only in maximum 30 seconds sliding windows.\n",
    "current_caption"
   ]
  },
  {
   "cell_type": "code",
   "execution_count": null,
   "metadata": {},
   "outputs": [],
   "source": [
    "from pydub import AudioSegment\n",
    "#pip install pydub"
   ]
  },
  {
   "cell_type": "code",
   "execution_count": null,
   "metadata": {},
   "outputs": [],
   "source": [
    "def convert_mp3_to_wav(mp3_fname, output_file_name=None): \n",
    "    sound = AudioSegment.from_mp3(mp3_fname)\n",
    "    \n",
    "    if output_file_name:\n",
    "       temp_file_name = output_file_name\n",
    "       sound.export(output_file_name, format=\"wav\")\n",
    "\n",
    "    else:\n",
    "        #create temp file\n",
    "        temp_file = tempfile.NamedTemporaryFile(suffix=\".wav\", delete=False)\n",
    "        temp_file_name = temp_file.name\n",
    "        sound.export(temp_file_name, format=\"wav\")\n",
    "\n",
    "    return temp_file_name"
   ]
  },
  {
   "attachments": {},
   "cell_type": "markdown",
   "metadata": {},
   "source": [
    "## Transform the mp3 to wav\n"
   ]
  },
  {
   "cell_type": "code",
   "execution_count": null,
   "metadata": {},
   "outputs": [],
   "source": [
    "#wav_file_name = convert_mp3_to_wav(\"audio/podcast/lex_ai_neil_gershenfeld.mp3\", \"audio/podcast/lex_ai_neil_gershenfeld.wav\")"
   ]
  },
  {
   "cell_type": "code",
   "execution_count": null,
   "metadata": {},
   "outputs": [],
   "source": [
    "sound = AudioSegment.from_mp3(\"audio/podcast/lex_ai_neil_gershenfeld.mp3\")\n",
    "output_path = \"audio/podcast/\"\n",
    "sound.export(output_path, format=\"wav\")"
   ]
  },
  {
   "attachments": {},
   "cell_type": "markdown",
   "metadata": {},
   "source": [
    "create folder structure"
   ]
  },
  {
   "cell_type": "code",
   "execution_count": null,
   "metadata": {},
   "outputs": [],
   "source": [
    "from pydub import AudioSegment\n",
    "\n",
    "def initialize_folders():\n",
    "    root_folder = 'test/audio'\n",
    "    audio_subfolders = ['chunks', 'temp', 'speaker_segments', 'temp/temp_speaker_segements', 'temp/normalized_audio', 'temp/merged_audio']\n",
    "\n",
    "    for folder in audio_subfolders:\n",
    "        create_folder_structure(root_folder, folder)"
   ]
  },
  {
   "cell_type": "code",
   "execution_count": null,
   "metadata": {},
   "outputs": [],
   "source": [
    "folder_path"
   ]
  },
  {
   "cell_type": "code",
   "execution_count": null,
   "metadata": {},
   "outputs": [],
   "source": [
    "def create_silent_1sec_wav(file_path):\n",
    "    # Create an empty audio segment (1 second of silence)\n",
    "    empty_audio = AudioSegment.silent(duration=1000, frame_rate=16000)  # 1000 milliseconds = 1 second\n",
    "\n",
    "    # Export the empty audio segment as a .wav file\n",
    "    empty_audio.export(file_path, format=\"wav\")"
   ]
  },
  {
   "cell_type": "code",
   "execution_count": null,
   "metadata": {},
   "outputs": [],
   "source": [
    "MERGED_FILE_PATH = 'test/audio/temp/merged_audio/output_normalized_audio.wav'\n",
    "create_silent_1sec_wav(MERGED_FILE_PATH)"
   ]
  },
  {
   "cell_type": "code",
   "execution_count": null,
   "metadata": {},
   "outputs": [],
   "source": [
    "import os\n",
    "def delete_specific_file(file_path):\n",
    "    try:\n",
    "        # Attempt to delete the file\n",
    "        os.remove(file_path)\n",
    "        print(f\"Deleted: {file_path}\")\n",
    "    except FileNotFoundError:\n",
    "        print(f\"The file {file_path} does not exist.\")\n",
    "    except Exception as e:\n",
    "        print(f\"Error deleting {file_path}: {str(e)}\")"
   ]
  },
  {
   "cell_type": "code",
   "execution_count": null,
   "metadata": {},
   "outputs": [],
   "source": [
    "import os\n",
    "# List all files and subdirectories in the folder\n",
    "def delete_folder_files(folder_path):\n",
    "    # List all files and subdirectories in the folder\n",
    "    for root, dirs, files in os.walk(folder_path):\n",
    "        for file in files:\n",
    "            file_path = os.path.join(root, file)\n",
    "            try:\n",
    "                # Delete the file\n",
    "                os.remove(file_path)\n",
    "                print(f\"Deleted: {file_path}\")\n",
    "            except Exception as e:\n",
    "                print(f\"Error deleting {file_path}: {str(e)}\")"
   ]
  },
  {
   "cell_type": "code",
   "execution_count": null,
   "metadata": {},
   "outputs": [],
   "source": [
    "import shutil\n",
    "def copy_to(source_file, destination_folder):\n",
    "    try:\n",
    "    # Copy the file to the destination folder\n",
    "        shutil.copy(source_file, destination_folder)\n",
    "        print(f\"File copied from {source_file} to {destination_folder}\")\n",
    "    except FileNotFoundError:\n",
    "        print(f\"The source file {source_file} does not exist.\")\n",
    "    except Exception as e:\n",
    "        print(f\"Error copying the file: {str(e)}\")"
   ]
  },
  {
   "cell_type": "code",
   "execution_count": null,
   "metadata": {},
   "outputs": [],
   "source": [
    "def merge_audio(merge_wav_path, file_path):\n",
    "    # Load the existing 'merge.wav' file\n",
    "    merge_audio = AudioSegment.from_wav(merge_wav_path)\n",
    "\n",
    "    audio_to_merge = AudioSegment.from_wav(file_path)\n",
    "    merge_audio += audio_to_merge\n",
    "\n",
    "    # Export the merged audio to 'test/temp/merge_audio/merge.wav'\n",
    "    merge_audio.export(merge_wav_path, format=\"wav\")"
   ]
  },
  {
   "attachments": {},
   "cell_type": "markdown",
   "metadata": {},
   "source": []
  },
  {
   "cell_type": "code",
   "execution_count": null,
   "metadata": {},
   "outputs": [],
   "source": [
    "delete_folder_files('audio/temp/merged_audio/')"
   ]
  },
  {
   "attachments": {},
   "cell_type": "markdown",
   "metadata": {},
   "source": [
    "#### itialize software and get all models"
   ]
  },
  {
   "attachments": {},
   "cell_type": "markdown",
   "metadata": {},
   "source": [
    "##### Get .env variables  "
   ]
  },
  {
   "cell_type": "code",
   "execution_count": 1,
   "metadata": {},
   "outputs": [],
   "source": [
    "import modules.pyannote as pyannote\n",
    "import modules.whisper as whisper\n",
    "import src.utils.audio_utils as audio_utils\n",
    "import src.utils.system_utils as system_utils"
   ]
  },
  {
   "cell_type": "code",
   "execution_count": null,
   "metadata": {},
   "outputs": [],
   "source": [
    "dotenv_path = './venv/env_variables.env'\n",
    "PYANNOTE_ACCESS_TOKEN = pyannote.get_pyannote_access_token(dotenv_path)\n",
    "PYANNOTE_ACCESS_TOKEN"
   ]
  },
  {
   "attachments": {},
   "cell_type": "markdown",
   "metadata": {},
   "source": [
    "##### Load transcription model "
   ]
  },
  {
   "cell_type": "code",
   "execution_count": null,
   "metadata": {},
   "outputs": [],
   "source": [
    "#MODEL_TYPE = \"base.en\"\n",
    "#model = whisper.load_model(MODEL_TYPE, device=DEVICE)\n",
    "#print(\n",
    "#    f\"Model is {'multilingual' if model.is_multilingual else 'English-only'} \"\n",
    "#    f\"and has {sum(np.prod(p.shape) for p in model.parameters()):,} parameters.\"\n",
    "#)\n",
    "\n",
    "model = whisper.load_model()"
   ]
  },
  {
   "attachments": {},
   "cell_type": "markdown",
   "metadata": {},
   "source": [
    "##### Load annotation pipeline"
   ]
  },
  {
   "cell_type": "code",
   "execution_count": null,
   "metadata": {},
   "outputs": [],
   "source": [
    "pyannote_pipeline = pyannote.get_pyannote_pipeline(pyannote_access_token=PYANNOTE_ACCESS_TOKEN)"
   ]
  },
  {
   "attachments": {},
   "cell_type": "markdown",
   "metadata": {},
   "source": [
    "##### Load speaker embedding model"
   ]
  },
  {
   "cell_type": "code",
   "execution_count": null,
   "metadata": {},
   "outputs": [],
   "source": [
    "embedding_model = pyannote.get_embedding_model(PYANNOTE_ACCESS_TOKEN)"
   ]
  },
  {
   "attachments": {},
   "cell_type": "markdown",
   "metadata": {},
   "source": [
    "##### Continous Audio recording using circular buffer to prevent segement (data) loss"
   ]
  },
  {
   "cell_type": "code",
   "execution_count": null,
   "metadata": {},
   "outputs": [],
   "source": [
    "#start_continuous_recording()"
   ]
  },
  {
   "attachments": {},
   "cell_type": "markdown",
   "metadata": {},
   "source": [
    "#"
   ]
  },
  {
   "cell_type": "code",
   "execution_count": null,
   "metadata": {},
   "outputs": [],
   "source": [
    "import modules.whisper as whisper"
   ]
  },
  {
   "cell_type": "code",
   "execution_count": null,
   "metadata": {},
   "outputs": [],
   "source": [
    "whisper.test(pyannote_pipeline)"
   ]
  },
  {
   "cell_type": "code",
   "execution_count": null,
   "metadata": {},
   "outputs": [],
   "source": [
    "import sys\n",
    "import numpy as np\n",
    "import matplotlib.pyplot as plt\n",
    "from matplotlib.backends.backend_qt5agg import FigureCanvasQTAgg as FigureCanvas\n",
    "from PyQt5.QtWidgets import QApplication, QMainWindow, QPushButton, QVBoxLayout, QWidget, QLabel\n",
    "from PyQt5.QtCore import Qt, QTimer\n",
    "\n",
    "\n",
    "class SoundWaveWidget(FigureCanvas):\n",
    "    def __init__(self, parent=None, width=5, height=2, dpi=100):\n",
    "        self.figure, self.ax = plt.subplots(figsize=(width, height), dpi=dpi)\n",
    "        super().__init__(self.figure)\n",
    "        self.setParent(parent)\n",
    "        self.plot_sound_wave()\n",
    "\n",
    "    def plot_sound_wave(self):\n",
    "        t = np.linspace(0, 1, 1000)\n",
    "        wave = np.sin(2 * np.pi * 440 * t)\n",
    "        self.ax.plot(t, wave)\n",
    "        self.ax.set_axis_off()\n",
    "\n",
    "\n",
    "class DarkThemeUI(QMainWindow):\n",
    "    def __init__(self):\n",
    "        super().__init__()\n",
    "\n",
    "        self.setWindowTitle(\"Dark UI with Sound Wave\")\n",
    "        self.setGeometry(100, 100, 800, 600)\n",
    "        self.setStyleSheet(\"background-color: #222; color: white;\")\n",
    "\n",
    "        central_widget = QWidget(self)\n",
    "        self.setCentralWidget(central_widget)\n",
    "\n",
    "        layout = QVBoxLayout()\n",
    "        central_widget.setLayout(layout)\n",
    "\n",
    "        label = QLabel(\"Sound Wave Animation\", self)\n",
    "        label.setAlignment(Qt.AlignCenter)\n",
    "        label.setStyleSheet(\"font-size: 20px;\")\n",
    "\n",
    "        sound_wave_widget = SoundWaveWidget(self)\n",
    "\n",
    "        orange_button = QPushButton(\"Orange Button\", self)\n",
    "        orange_button.setStyleSheet(\"background-color: orange; color: white; font-size: 16px;\")\n",
    "        orange_button.clicked.connect(self.on_button_click)\n",
    "\n",
    "        layout.addWidget(label)\n",
    "        layout.addWidget(sound_wave_widget)\n",
    "        layout.addWidget(orange_button)\n",
    "\n",
    "    def on_button_click(self):\n",
    "        print(\"Orange button clicked!\")\n",
    "\n",
    "\n",
    "def main():\n",
    "    app = QApplication(sys.argv)\n",
    "    window = DarkThemeUI()\n",
    "    window.show()\n",
    "    sys.exit(app.exec_())\n",
    "\n",
    "\n",
    "if __name__ == \"__main__\":\n",
    "    main()\n"
   ]
  },
  {
   "cell_type": "code",
   "execution_count": null,
   "metadata": {},
   "outputs": [],
   "source": [
    "import os\n",
    "folder_path = 'test/audio/chunks/'\n",
    "folder_contents = os.listdir(folder_path)\n",
    "item_path = [os.path.join(folder_path, item) for item in folder_contents]\n",
    "item_path "
   ]
  },
  {
   "cell_type": "code",
   "execution_count": null,
   "metadata": {},
   "outputs": [],
   "source": [
    "sorted_file_list = sorted(item_path)\n",
    "sorted_file_list"
   ]
  },
  {
   "cell_type": "code",
   "execution_count": null,
   "metadata": {},
   "outputs": [],
   "source": [
    "\n",
    "\n",
    "#### test:\n",
    "import keyboard\n",
    "import os\n",
    "import time\n",
    "folder_path = 'test/audio/chunks/'\n",
    "ENHANCED_OUTPUT_PATH = 'test/audio/temp/normalized_audio/output_normalized_audio.wav'\n",
    "MERGED_FILE_PATH = 'test/audio/temp/merged_audio/output_normalized_audio.wav'\n",
    "\n",
    "\n",
    "import multiprocessing\n",
    "import threading\n",
    "import time\n",
    "from queue import Queue\n",
    "\n",
    "\n",
    "\n",
    "\n",
    "def kill_thread(exit_signal):\n",
    "    #global exit_signal\n",
    "    if keyboard.is_pressed(\"q\"):\n",
    "        print(\"Received 'q'. Signaling threads to exit...\")\n",
    "        exit_signal.value = True\n",
    "\n",
    "\n",
    "\n",
    "# Shared variable to signal the threads to exit\n",
    "signal = False\n",
    "\n",
    "# Create a pool of processes for f3\n",
    "max_processes = 4\n",
    "pool = multiprocessing.Pool(processes=max_processes)\n",
    "\n",
    "# Create a manager object for diarization results\n",
    "manager = multiprocessing.Manager()\n",
    "diarization_dict = manager.dict()\n",
    "exit_signal = manager.Value('b', signal)\n",
    "\n",
    "# Create an empty FIFO queue\n",
    "fifo_queue = Queue()\n",
    "\n",
    "# Create a condition variable\n",
    "condition = threading.Condition()\n",
    "\n",
    "# Create a thread for f4\n",
    "#pause_lock1 = threading.Lock()\n",
    "f4_thread = threading.Thread(target=whisper.continous_transcription, args=(diarization_dict, fifo_queue, exit_signal, condition))\n",
    "f4_thread.daemon = True  # Set the thread as a daemon so it exits when the main program exits\n",
    "f4_thread.name = \"Thread continous_transcription\"\n",
    "\n",
    "\n",
    "#keyboard_thread = threading.Thread(target=kill_thread, args=(exit_signal))\n",
    "#keyboard_thread.daemon = True # Set the thread as a daemon so it exits when the main program exits \n",
    "#keyboard_thread.name = \"Keyboard kill_thread\"\n",
    "\n",
    "\n",
    "\n",
    "# Start the f4 thread\n",
    "#f4_thread.start()\n",
    "#keyboard_thread.start()\n",
    "\n",
    "# Function to toggle the pause state of both threads\n",
    "toggle_pause = threading.Lock()\n",
    "\n",
    "# Register 'q' key press event for both threads\n",
    "#keyboard.on_press_key('q', toggle_pause)\n",
    "\n",
    "#def toggle_pause(event):\n",
    "#    with toggle_pause:\n",
    "#        if pause_lock1.locked():\n",
    "#            pause_lock1.release()\n",
    "#            print(f\"Thread 1 resumed.\")\n",
    "#        else:\n",
    "#            pause_lock1.acquire()\n",
    "#            print(f\"Thread 1 paused.\")\n",
    "\n",
    "        #if pause_lock2.locked():\n",
    "        #    pause_lock2.release()\n",
    "        #    print(f\"Thread 2 resumed.\")\n",
    "        #else:\n",
    "        #    pause_lock2.acquire()\n",
    "        #    print(f\"Thread 2 paused.\")\n",
    "\n",
    "# while condition: start from 7\n",
    "i = 0\n",
    "while True:\n",
    "    with condition:\n",
    "        folder_contents = os.listdir(folder_path)\n",
    "\n",
    "        #condition.notify_all()\n",
    "        if keyboard.is_pressed(\"q\"):\n",
    "            print(f\"thread kill\")\n",
    "            break\n",
    "        if len(folder_contents) < 0:#keyboard.is_pressed(\"q\"): #or i >= 2:\n",
    "            print(\"stop run threads\")\n",
    "            #print(\"Added items to the list. Resuming threads...\")\n",
    "            #condition.notify_all()  # Notify all waiting threads\n",
    "            # exit_signal = True\n",
    "            # Pause the thread\n",
    "            #pause_lock.acquire()\n",
    "            \n",
    "            #break\n",
    "        #else:\n",
    "        #    print(\"Added items to the list. Resuming threads...\")\n",
    "        #folder_contents = os.listdir(folder_path)\n",
    "\n",
    "        # Iterate over the current contents of the folder\n",
    "        for item in folder_contents:\n",
    "            item_path = os.path.join(folder_path, item)\n",
    "            #print(f\"File being evaluated:-> {item_path}\")\n",
    "            \n",
    "            #enhance_audio_signal(item_path, ENHANCED_OUTPUT_PATH) #clean up and enhance audio signal\n",
    "            \n",
    "            #concatenate_stream(MERGED_FILE_PATH, ENHANCED_OUTPUT_PATH, MERGED_FILE_PATH) #merge stream to previous one\n",
    "            #merge_audio(MERGED_FILE_PATH, ENHANCED_OUTPUT_PATH)\n",
    "            #diarization = apply_pyannote_pipeline()\n",
    "            #print(\"applied diarization\")\n",
    "            \n",
    "            if item_path not in fifo_queue.queue:\n",
    "                print(f\"File being added to queue:-> {item_path}\")\n",
    "                print(f\": timestamp start {time.strftime('%Y%m%d_%H%M%S')} \")\n",
    "\n",
    "                fifo_queue.put(item_path)\n",
    "                #condition.notify_all()#notify all threads\n",
    "                print(f\": timestamp end {time.strftime('%Y%m%d_%H%M%S')} \")\n",
    "                #pool.apply_async(whisper.cont_transcrpt_work, args=(item_path, item_path, diarization_dict, pyannote_pipeline))\n",
    "\n",
    "            #else:\n",
    "            #    print(f\"already in queue\")\n",
    "            \n",
    "            #diarized_speaker_info_df = get_diarization_speaker_info_df(pyannote_pipeline, ENHANCED_OUTPUT_PATH)\n",
    "            #diarized_speaker_info_df\n",
    "            \n",
    "            \n",
    "            #delete_specific_file(item_path)\n",
    "            #if i >= 2:\n",
    "            #    break\n",
    "        i += 1\n",
    "\n",
    "# Listen for 'q' key press to signal threads to exit\n",
    "#keyboard.wait('q')\n",
    "#print(\"Received 'q'. Signaling threads to exit...\")\n",
    "#exit_signal.value = True\n",
    "\n",
    "# Close the pool\n",
    "pool.close()\n",
    "\n",
    "# Wait for all processes to complete\n",
    "pool.join()\n",
    "\n",
    "\n",
    "#f4_thread.join()\n",
    "\n",
    "# Allow some time for f4 to process any remaining items in diarization_array\n",
    "time.sleep(5)  # Adjust the sleep duration as needed\n"
   ]
  },
  {
   "cell_type": "code",
   "execution_count": null,
   "metadata": {},
   "outputs": [],
   "source": [
    "import threading\n",
    "import time\n",
    "import random\n",
    "\n",
    "# Define a list that the threads will work with\n",
    "my_list = []\n",
    "\n",
    "# Create a condition variable\n",
    "condition = threading.Condition()\n",
    "\n",
    "# Function for the first thread\n",
    "def thread1_function():\n",
    "    global my_list\n",
    "    while True:\n",
    "        with condition:\n",
    "            if not my_list:\n",
    "                print(\"Thread 1: List is empty. Pausing...\")\n",
    "                condition.wait()  # Wait for a signal to resume\n",
    "            else:\n",
    "                item = my_list.pop(0)\n",
    "                print(f\"Thread 1: Removed item {item} from the list\")\n",
    "        time.sleep(1)\n",
    "\n",
    "# Function for the second thread\n",
    "def thread2_function():\n",
    "    global my_list\n",
    "    while True:\n",
    "        with condition:\n",
    "            if not my_list:\n",
    "                print(\"Thread 2: List is empty. Pausing...\")\n",
    "                condition.wait()  # Wait for a signal to resume\n",
    "            else:\n",
    "                item = my_list.pop(0)\n",
    "                print(f\"Thread 2: Removed item {item} from the list\")\n",
    "        time.sleep(1)\n",
    "\n",
    "# Create and start the threads\n",
    "thread1 = threading.Thread(target=thread1_function)\n",
    "thread2 = threading.Thread(target=thread2_function)\n",
    "thread1.start()\n",
    "thread2.start()\n",
    "\n",
    "# Add items to the list to wake up the threads\n",
    "time.sleep(3)  # Sleep for a moment to ensure threads have started\n",
    "\n",
    "i = 0\n",
    "while i < 4:\n",
    "    processing_time = random.uniform(0, 1)\n",
    "    time.sleep(processing_time)\n",
    "    my_list.append(i)\n",
    "    with condition:\n",
    "        print(\"Added items to the list. Resuming threads...\")\n",
    "        condition.notify_all()  # Notify all waiting threads\n",
    "    i += 1\n",
    "\n",
    "# Keep the program running\n",
    "while True:\n",
    "    pass\n"
   ]
  },
  {
   "attachments": {},
   "cell_type": "markdown",
   "metadata": {},
   "source": [
    "##### multi-processing step"
   ]
  },
  {
   "attachments": {},
   "cell_type": "markdown",
   "metadata": {},
   "source": [
    "multiprocessing.active_children()"
   ]
  },
  {
   "cell_type": "code",
   "execution_count": null,
   "metadata": {},
   "outputs": [],
   "source": [
    "import src.utils.system_utils as scutils\n",
    "\n",
    "scutils.test()"
   ]
  },
  {
   "attachments": {},
   "cell_type": "markdown",
   "metadata": {},
   "source": []
  },
  {
   "cell_type": "code",
   "execution_count": null,
   "metadata": {},
   "outputs": [],
   "source": [
    "import modules.pyannote as pyannote\n",
    "import src.utils.audio_utils as audio_utils\n",
    "\n",
    "embedding_model = pyannote.get_embedding_model(pyannote_access_token=PYANNOTE_ACCESS_TOKEN)\n"
   ]
  },
  {
   "cell_type": "code",
   "execution_count": null,
   "metadata": {},
   "outputs": [],
   "source": [
    "speaker_embedding = pyannote.get_speaker_embedding_vector(embedding_model, 'test/audio/temp/temp_speaker_segements/SPEAKER_02/recorded_audio_crop_3.wav')\n"
   ]
  },
  {
   "cell_type": "code",
   "execution_count": null,
   "metadata": {},
   "outputs": [],
   "source": [
    "#embedding_cosine_similarity, get_embedding_model\n",
    "speaker_embeddings = {}\n",
    "folder_path = 'test/audio/temp/temp_speaker_segements/'\n",
    "folder_contents = os.listdir(folder_path)\n",
    "for item in folder_contents:\n",
    "    item_path = os.path.join(folder_path, item)\n",
    "    speaker_files = os.listdir(item_path)\n",
    "    for speaker_file in speaker_files:\n",
    "        speaker_file_path = os.path.join(f'{item_path}/', speaker_file)\n",
    "        # check if file is not silent or durant is too short\n",
    "        df = audio_utils.speach_activity_detection(filename=speaker_file_path)\n",
    "        if (len(df.iloc[:][['start', 'stop']].values) >= 1) and (df.iloc[:][['start', 'stop']].values[0][1] > 0.1):\n",
    "            speaker_embedding = pyannote.get_speaker_embedding_vector(embedding_model, speaker_file_path)\n",
    "            if item not in speaker_embeddings: \n",
    "                speaker_embeddings[item] = []\n",
    "                speaker_embeddings[item].append(speaker_embedding)\n",
    "            else:\n",
    "                speaker_embeddings[item].append(speaker_embedding)\n",
    "            print(f'{speaker_file_path}')\n",
    "        else:\n",
    "            print(f\"delete file {speaker_file_path}\")\n",
    "            #delete_specific_file(speaker_file_path)\n"
   ]
  },
  {
   "attachments": {},
   "cell_type": "markdown",
   "metadata": {},
   "source": [
    "##### Enhance audio"
   ]
  },
  {
   "cell_type": "code",
   "execution_count": null,
   "metadata": {},
   "outputs": [],
   "source": [
    "\n",
    "\n",
    "audio_t = 'audio/chunks/recorded_audio_20230819_231924.wav'\n",
    "enhance_audio_signal(audio_t)"
   ]
  },
  {
   "attachments": {},
   "cell_type": "markdown",
   "metadata": {},
   "source": [
    "##### Apply diarization pipeline"
   ]
  },
  {
   "attachments": {},
   "cell_type": "markdown",
   "metadata": {},
   "source": [
    "apply pipeline"
   ]
  },
  {
   "cell_type": "code",
   "execution_count": null,
   "metadata": {},
   "outputs": [],
   "source": [
    "normalized_audio = 'audio/chunks/recorded_audio_20230819_231924.wav'\n",
    "\n",
    "#audio_path\n",
    "diarization = whisper.get_diarization_speaker_info_df(pyannote_pipeline, normalized_audio)\n"
   ]
  },
  {
   "cell_type": "code",
   "execution_count": null,
   "metadata": {},
   "outputs": [],
   "source": [
    "diarization.iloc[0]['stop']"
   ]
  },
  {
   "attachments": {},
   "cell_type": "markdown",
   "metadata": {},
   "source": [
    "get diarization object"
   ]
  },
  {
   "cell_type": "code",
   "execution_count": null,
   "metadata": {},
   "outputs": [],
   "source": [
    "diarized_speaker_info_df = get_diarization_speaker_info_df(pyannote_pipeline, ENHANCED_OUTPUT_PATH)\n",
    "diarized_speaker_info_df\n"
   ]
  },
  {
   "attachments": {},
   "cell_type": "markdown",
   "metadata": {},
   "source": []
  },
  {
   "cell_type": "code",
   "execution_count": null,
   "metadata": {},
   "outputs": [],
   "source": [
    "#if __name__ == \"__main__\":\n",
    "#    start_recording()"
   ]
  },
  {
   "cell_type": "code",
   "execution_count": null,
   "metadata": {},
   "outputs": [],
   "source": []
  },
  {
   "attachments": {},
   "cell_type": "markdown",
   "metadata": {},
   "source": []
  },
  {
   "cell_type": "code",
   "execution_count": 2,
   "metadata": {},
   "outputs": [],
   "source": [
    "import modules.whisper as whisper\n",
    "import src.utils.audio_utils as audio_utils\n",
    "import src.utils.system_utils as system_utils\n",
    "import modules.pyannote as pyannote\n",
    "from modules.whisper import get_transcription_object"
   ]
  },
  {
   "cell_type": "code",
   "execution_count": null,
   "metadata": {},
   "outputs": [],
   "source": [
    "folder_path = 'test/'\n",
    "\n",
    "system_utils.delete_folder(folder_path)"
   ]
  },
  {
   "cell_type": "code",
   "execution_count": null,
   "metadata": {},
   "outputs": [],
   "source": []
  },
  {
   "cell_type": "code",
   "execution_count": 3,
   "metadata": {},
   "outputs": [
    {
     "name": "stdout",
     "output_type": "stream",
     "text": [
      "Model is English-only and has 71,825,408 parameters.\n"
     ]
    }
   ],
   "source": [
    "transcription_model = whisper.load_model()"
   ]
  },
  {
   "cell_type": "code",
   "execution_count": 4,
   "metadata": {},
   "outputs": [
    {
     "name": "stderr",
     "output_type": "stream",
     "text": [
      "The torchaudio backend is switched to 'soundfile'. Note that 'sox_io' is not supported on Windows.\n",
      "torchvision is not available - cannot save figures\n",
      "The torchaudio backend is switched to 'soundfile'. Note that 'sox_io' is not supported on Windows.\n",
      "Lightning automatically upgraded your loaded checkpoint from v1.5.4 to v2.0.7. To apply the upgrade to your files permanently, run `python -m pytorch_lightning.utilities.upgrade_checkpoint --file C:\\Users\\adamb\\.cache\\torch\\pyannote\\models--pyannote--segmentation\\snapshots\\c4c8ceafcbb3a7a280c2d357aee9fbc9b0be7f9b\\pytorch_model.bin`\n"
     ]
    },
    {
     "name": "stdout",
     "output_type": "stream",
     "text": [
      "Model was trained with pyannote.audio 0.0.1, yours is 2.1.1. Bad things might happen unless you revert pyannote.audio to 0.x.\n",
      "Model was trained with torch 1.10.0+cu102, yours is 2.0.1+cpu. Bad things might happen unless you revert torch to 1.x.\n"
     ]
    }
   ],
   "source": [
    "DOTENV_PATH = './venv/env_variables.env'\n",
    "PYANNOTE_ACCESS_TOKEN = pyannote.get_pyannote_access_token(DOTENV_PATH)\n",
    "\n",
    "\n",
    "pyannote_pipeline = pyannote.get_pyannote_pipeline(pyannote_access_token=PYANNOTE_ACCESS_TOKEN)"
   ]
  },
  {
   "cell_type": "code",
   "execution_count": null,
   "metadata": {},
   "outputs": [],
   "source": [
    "audio_utils.enhance_audio_signal('test/audio/chunks/recorded_audio_20230819_231954.wav', 'test/audio/temp/enhanced_chunks/recorded_audio_20230819_231954.wav')\n"
   ]
  },
  {
   "cell_type": "code",
   "execution_count": null,
   "metadata": {},
   "outputs": [],
   "source": [
    "\n",
    "\n",
    "dz_obj = pyannote.get_diarization_speaker_info_df(pyannote_pipeline, 'test/audio/temp/enhanced_chunks/recorded_audio_20230819_231954.wav')\n",
    "\n",
    "dz_obj"
   ]
  },
  {
   "cell_type": "code",
   "execution_count": null,
   "metadata": {},
   "outputs": [],
   "source": [
    "current_caption = whisper.get_transcription_object(transcription_model, 'test/audio/temp/enhanced_chunks/recorded_audio_20230819_231954.wav')"
   ]
  },
  {
   "cell_type": "code",
   "execution_count": null,
   "metadata": {},
   "outputs": [],
   "source": [
    "current_caption[1]"
   ]
  },
  {
   "cell_type": "code",
   "execution_count": null,
   "metadata": {},
   "outputs": [],
   "source": [
    "for i, row in current_caption[1].iterrows():\n",
    "    print(f\" {float(row['start']) +10} text:{row['text']}\")"
   ]
  },
  {
   "cell_type": "code",
   "execution_count": null,
   "metadata": {},
   "outputs": [],
   "source": [
    "import os\n",
    "item = 'audio1.wav'\n",
    "ENHANCED_AUDIO_CHUNKS_PATH = 'test/audio/temp/enhanced_chunks/'\n",
    "ehanced_item_path = os.path.join(ENHANCED_AUDIO_CHUNKS_PATH, item)"
   ]
  },
  {
   "cell_type": "code",
   "execution_count": null,
   "metadata": {},
   "outputs": [],
   "source": [
    "ehanced_item_path"
   ]
  },
  {
   "cell_type": "code",
   "execution_count": null,
   "metadata": {},
   "outputs": [],
   "source": [
    "current_caption[1]"
   ]
  },
  {
   "cell_type": "code",
   "execution_count": null,
   "metadata": {},
   "outputs": [],
   "source": [
    "#file_name = \"audio/temp/output_normalized_audio.wav\"\n",
    "file_name = 'audio/chunks/recorded_audio_20230819_231934.wav'\n",
    "df = audio_utils.speach_activity_detection(filename=file_name)\n",
    "if (len(df.iloc[:][['start', 'stop']].values) >= 1) and (df.iloc[:][['start', 'stop']].values[0][1] > 0.1):\n",
    "    current_caption = whisper.get_transcription_object(transcription_model, file_name)\n",
    "    print(f\"speaker: {current_caption[1].iloc[0]['text']}\")"
   ]
  },
  {
   "cell_type": "code",
   "execution_count": null,
   "metadata": {},
   "outputs": [],
   "source": []
  },
  {
   "cell_type": "code",
   "execution_count": null,
   "metadata": {},
   "outputs": [],
   "source": [
    "current_caption[1]"
   ]
  },
  {
   "cell_type": "code",
   "execution_count": null,
   "metadata": {},
   "outputs": [],
   "source": [
    "import torch\n",
    "import torchaudio\n",
    "from fairseq.models.wav2vec import Wav2Vec2Model\n",
    "import torchvision.models as models\n",
    "\n",
    "# Load a pre-trained Wav2Vec 2.0 model as a feature extractor\n",
    "wav2vec_model = Wav2Vec2Model.from_pretrained(\"facebook/wav2vec2-base-960h\")\n",
    "\n",
    "# Load a pre-trained CNN model (e.g., ResNet) as a feature extractor\n",
    "cnn_model = models.resnet18(pretrained=True)\n",
    "cnn_model.fc = torch.nn.Identity()  # Remove the final classification layer\n",
    "\n",
    "# Load an example speech segment (you can use your own data here)\n",
    "audio, sample_rate = torchaudio.load(\"example.wav\")\n",
    "\n",
    "# Extract features using the Wav2Vec 2.0 model\n",
    "with torch.no_grad():\n",
    "    wav2vec_features = wav2vec_model.feature_extractor(audio)\n",
    "\n",
    "# Extract features using the CNN model\n",
    "with torch.no_grad():\n",
    "    cnn_features = cnn_model(audio)\n",
    "\n",
    "# Use an RNN-based model like LSTM for sequential data\n",
    "rnn_model = torch.nn.LSTM(input_size=40, hidden_size=128, num_layers=3, batch_first=True)\n",
    "\n",
    "# Assuming audio features are 40-dimensional and have been preprocessed\n",
    "# You can use a suitable preprocessing pipeline for your data\n",
    "\n",
    "# Extract features using the RNN model\n",
    "with torch.no_grad():\n",
    "    audio = torch.unsqueeze(audio, 0)  # Add a batch dimension\n",
    "    rnn_features, _ = rnn_model(audio)\n",
    "\n",
    "# 'wav2vec_features', 'cnn_features', and 'rnn_features' now contain the speaker embeddings\n"
   ]
  },
  {
   "attachments": {},
   "cell_type": "markdown",
   "metadata": {},
   "source": [
    "before transcription, diarize.\n",
    "================================================================\n",
    "use diarized speakers to create clips,\n",
    "create embedding from those -> add to embedding dictionary\n",
    "\n",
    "on first on second pass, repeat steps above and the extract embeddings and compare them to existing to assign to correct embeddings similarity"
   ]
  },
  {
   "cell_type": "code",
   "execution_count": null,
   "metadata": {},
   "outputs": [],
   "source": []
  },
  {
   "cell_type": "code",
   "execution_count": null,
   "metadata": {},
   "outputs": [],
   "source": [
    "print(current_caption[1].iloc[: 1]['text'])"
   ]
  },
  {
   "cell_type": "code",
   "execution_count": null,
   "metadata": {},
   "outputs": [],
   "source": [
    "type(current_caption[0][0].text)"
   ]
  },
  {
   "attachments": {},
   "cell_type": "markdown",
   "metadata": {},
   "source": []
  },
  {
   "cell_type": "code",
   "execution_count": null,
   "metadata": {},
   "outputs": [],
   "source": []
  },
  {
   "cell_type": "code",
   "execution_count": null,
   "metadata": {},
   "outputs": [],
   "source": []
  },
  {
   "cell_type": "code",
   "execution_count": null,
   "metadata": {},
   "outputs": [],
   "source": [
    "audio_to_enhance = \"audio/chunks/recorded_audio_20230819_231924.wav\"\n",
    "#audio 1\n",
    "#audio 5\n",
    "enhance_audio_signal(audio_to_enhance, ENHANCED_OUTPUT_PATH)"
   ]
  },
  {
   "cell_type": "code",
   "execution_count": null,
   "metadata": {},
   "outputs": [],
   "source": [
    "from pydub import AudioSegment\n",
    "\n",
    "# Specify the output file path and format (e.g., MP3, WAV, etc.)\n",
    "output_path = 'audio/temp/output_normalized_audio.wav'\n",
    "\n"
   ]
  },
  {
   "cell_type": "code",
   "execution_count": null,
   "metadata": {},
   "outputs": [],
   "source": [
    "diarized_speaker_info_df = get_diarization_speaker_info_df(diarization)\n",
    "diarized_speaker_info_df\n"
   ]
  },
  {
   "cell_type": "code",
   "execution_count": null,
   "metadata": {},
   "outputs": [],
   "source": [
    "def crop_wav(file_name, start, end):\n",
    "    sound = AudioSegment.from_wav(file_name)\n",
    "    \n",
    "    sound = sound.set_channels(1).set_frame_rate(16000) #mono channel\n",
    "    \n",
    "    start_ms = start * 1000\n",
    "    end_ms = end * 1000\n",
    "    #extract the first 60000 frames = 60 seconds\n",
    "    window = sound[start_ms : end_ms]\n",
    "    \n",
    "    return window"
   ]
  },
  {
   "cell_type": "code",
   "execution_count": null,
   "metadata": {},
   "outputs": [],
   "source": [
    "SPEAKER_SEGMENT_PATH = 'test/audio/temp/temp_speaker_segements/'\n",
    "speaker = 'SPEAKER_00'\n",
    "folder_path = f\"{SPEAKER_SEGMENT_PATH}{speaker}\"\n",
    "folder_path"
   ]
  },
  {
   "cell_type": "code",
   "execution_count": null,
   "metadata": {},
   "outputs": [],
   "source": [
    "import os\n",
    "import src.utils.audio_utils as audio_utils\n",
    "import time \n",
    "\n",
    "SPEAKER_SEGMENT_PATH = 'test/audio/temp/temp_speaker_segements_'\n",
    "\n",
    "speaker_embeddings = []\n",
    "def cluster_audio_chunks(diarized_speaker_info_df, SPEAKER_SEGMENT_PATH, normalized_audio_path):\n",
    "\n",
    "    speakers = diarized_speaker_info_df['speaker'].values\n",
    "    #SPEAKER_SEGMENT_PATH = 'test/audio/temp/temp_speaker_segements/'\n",
    "    #normalized_audio_path = 'test/audio/temp/normalized_audio/output_normalized_audio.wav'\n",
    "\n",
    "    for i, _ in enumerate(speakers):\n",
    "        #if folder doesn't exists then create folder\n",
    "        folder_path = f\"{SPEAKER_SEGMENT_PATH}\" #{speaker}\n",
    "        output_file_name = f\"{folder_path}/recorded_audio_crop_{time.strftime('%Y%m%d_%H%M%S')}.wav\"\n",
    "        #if not os.path.exists(folder_path):\n",
    "        #    os.makedirs(folder_path)\n",
    "        start = diarized_speaker_info_df.iloc[i]['start']\n",
    "        stop = diarized_speaker_info_df.iloc[i]['stop']\n",
    "        print(f\"start {start} stop {stop}\")\n",
    "        audio_utils.crop_wav(normalized_audio_path, output_file_name, start, stop)\n",
    "        #if len(speakers) > 1:\n",
    "            #audio_utils.crop_wav(normalized_audio_path, output_file_name, start, stop)\n",
    "        #else:\n",
    "            #just write it to the folder\n",
    "            #pass\n"
   ]
  },
  {
   "cell_type": "code",
   "execution_count": null,
   "metadata": {},
   "outputs": [],
   "source": [
    "SPEAKER_SEGMENT_PATH = 'test/audio/temp/temp_speaker_segements/'\n",
    "normalized_audio_path = 'test/audio/temp/normalized_audio/output_normalized_audio.wav' \n",
    "cluster_audio_chunks(diarized_speaker_info_df, SPEAKER_SEGMENT_PATH, normalized_audio_path)"
   ]
  },
  {
   "cell_type": "code",
   "execution_count": null,
   "metadata": {},
   "outputs": [],
   "source": [
    "import threading\n",
    "import time\n",
    "import keyboard\n",
    "\n",
    "# Shared variable to signal the threads to exit\n",
    "exit_signal = False\n",
    "\n",
    "# Function for the first thread\n",
    "def thread_function_1():\n",
    "    global exit_signal\n",
    "    while not exit_signal:\n",
    "        # Your code for thread 1 here\n",
    "        print(\"Thread 1 is running\")\n",
    "        time.sleep(1)  # Simulate some work\n",
    "\n",
    "# Function for the second thread\n",
    "def thread_function_2():\n",
    "    global exit_signal\n",
    "    while not exit_signal:\n",
    "        # Your code for thread 2 here\n",
    "        print(\"Thread 2 is running\")\n",
    "        time.sleep(1)  # Simulate some work\n",
    "\n",
    "# Create the first thread\n",
    "thread1 = threading.Thread(target=thread_function_1)\n",
    "\n",
    "# Create the second thread\n",
    "thread2 = threading.Thread(target=thread_function_2)\n",
    "\n",
    "# Start both threads\n",
    "thread1.start()\n",
    "thread2.start()\n",
    "\n",
    "# Wait for user input to exit\n",
    "input(\"Press 'q' and Enter to exit...\")\n",
    "\n",
    "#if keyboard.is_pressed(\"q\"):\n",
    "    # Set the exit signal to True to stop the threads\n",
    "#    exit_signal = True\n",
    "exit_signal = True\n",
    "# Wait for both threads to finish\n",
    "thread1.join()\n",
    "thread2.join()\n",
    "\n",
    "print(\"Both threads have exited.\")\n"
   ]
  },
  {
   "cell_type": "code",
   "execution_count": null,
   "metadata": {},
   "outputs": [],
   "source": [
    "import librosa\n",
    "audio_file = 'test/audio/cropped_speaker_segements/SPEAKER_02/recorded_audio_crop_2.wav'\n",
    "y, sr = librosa.load(audio_file, sr=None)\n",
    "\n",
    "sr"
   ]
  },
  {
   "cell_type": "code",
   "execution_count": null,
   "metadata": {},
   "outputs": [],
   "source": [
    "from pyannote.audio import Model\n",
    "from pyannote.audio import Inference\n",
    "\n",
    "from scipy.spatial.distance import cdist\n",
    "\n",
    "def get_embedding_model(pyannote_access_token):\n",
    "    model = Model.from_pretrained(\"pyannote/embedding\", \n",
    "                                use_auth_token=pyannote_access_token)\n",
    "\n",
    "    return model\n",
    "\n",
    "def embedding_cosine_similarity(model, speaker1_file, speaker2_file):\n",
    "    inference = Inference(model, window=\"whole\")\n",
    "    embedding1 = inference(speaker1_file)#(\"speaker1.wav\")\n",
    "    embedding2 = inference(speaker2_file)#(\"speaker2.wav\")\n",
    "\n",
    "    print(f\"embedding 1 {embedding1.reshape(1, -1)} \\n embedding 2 {embedding2.reshape(1, -1)}\")\n",
    "    # `embeddingX` is (1 x D) numpy array extracted from the file as a whole.\n",
    "\n",
    "    distance = cdist(embedding1.reshape(1, -1), embedding2.reshape(1, -1), metric=\"cosine\")[0,0]\n",
    "    \n",
    "    return distance"
   ]
  },
  {
   "cell_type": "code",
   "execution_count": null,
   "metadata": {},
   "outputs": [],
   "source": [
    "model = get_embedding_model(PYANNOTE_ACCESS_TOKEN)"
   ]
  },
  {
   "cell_type": "code",
   "execution_count": null,
   "metadata": {},
   "outputs": [],
   "source": [
    "from pyannote.audio import Model\n",
    "inference_model = Model.from_pretrained(\"pyannote/embedding\", \n",
    "                              use_auth_token=PYANNOTE_ACCESS_TOKEN)"
   ]
  },
  {
   "cell_type": "code",
   "execution_count": null,
   "metadata": {},
   "outputs": [],
   "source": [
    "from pyannote.audio import Model\n",
    "segmentation_model = Model.from_pretrained(\"pyannote/segmentation\", \n",
    "                              use_auth_token=PYANNOTE_ACCESS_TOKEN)"
   ]
  },
  {
   "cell_type": "code",
   "execution_count": null,
   "metadata": {},
   "outputs": [],
   "source": [
    "from pyannote.audio.pipelines import OverlappedSpeechDetection\n",
    "\n",
    "HYPER_PARAMETERS = {\n",
    "  # onset/offset activation thresholds\n",
    "  \"onset\": 0.5, \"offset\": 0.5,\n",
    "  # remove speech regions shorter than that many seconds.\n",
    "  \"min_duration_on\": 0.0,\n",
    "  # fill non-speech regions shorter than that many seconds.\n",
    "  \"min_duration_off\": 0.0\n",
    "}\n",
    "\n",
    "pipeline = OverlappedSpeechDetection(segmentation=segmentation_model)\n",
    "pipeline.instantiate(HYPER_PARAMETERS)\n",
    "osd = pipeline(\"audio/chunks/recorded_audio_20230819_232014.wav\")\n",
    "osd"
   ]
  },
  {
   "cell_type": "code",
   "execution_count": null,
   "metadata": {},
   "outputs": [],
   "source": [
    "from pyannote.audio import Inference\n",
    "from scipy.spatial.distance import cdist\n",
    "from sklearn.metrics.pairwise import cosine_similarity\n",
    "\n",
    "\n",
    "speaker1 = 'audio/chunks/recorded_audio_20230819_231934.wav'\n",
    "#speaker1 = 'test/audio/cropped_speaker_segements/SPEAKER_00/recorded_audio_crop_4.wav'\n",
    "speaker2 = 'test/audio/cropped_speaker_segements/SPEAKER_01/recorded_audio_crop_0.wav'\n",
    "\n",
    "inference = Inference(inference_model, window=\"whole\")\n",
    "embedding1 = inference(speaker1)\n",
    "embedding2 = inference(speaker2)\n",
    "\n",
    "print(embedding2.reshape(1, -1).shape)\n",
    "\n",
    "#distance = 1 - cdist(embedding1.reshape(1, -1), embedding2.reshape(1, -1), \"cosine\")[0,0]\n",
    "distance = cosine_similarity(embedding1.reshape(1, -1), embedding2.reshape(1, -1))[0,0]\n",
    "distance"
   ]
  },
  {
   "cell_type": "code",
   "execution_count": null,
   "metadata": {},
   "outputs": [],
   "source": [
    "audio, sr = librosa.load(speaker1, sr=None)\n",
    "sr"
   ]
  },
  {
   "cell_type": "code",
   "execution_count": null,
   "metadata": {},
   "outputs": [],
   "source": [
    "# Function to extract audio features (e.g., MFCCs) from a segment\n",
    "def extract_features(segment, target_length, sample_rate):\n",
    "    mfccs = librosa.feature.mfcc(y=segment, sr=sample_rate, n_mfcc=13)\n",
    "    \n",
    "    # Pad or truncate the feature vector to the target length\n",
    "    if mfccs.shape[1] < target_length:\n",
    "        mfccs = np.pad(mfccs, ((0, 0), (0, target_length - mfccs.shape[1])), mode='constant')\n",
    "    else:\n",
    "        mfccs = mfccs[:, :target_length]\n",
    "    \n",
    "    return mfccs.flatten()"
   ]
  },
  {
   "cell_type": "code",
   "execution_count": null,
   "metadata": {},
   "outputs": [],
   "source": [
    "import librosa\n",
    "import numpy as np\n",
    "from scipy.spatial.distance import cosine\n",
    "\n",
    "speaker1 = 'test/audio/cropped_speaker_segements/SPEAKER_00/recorded_audio_crop_4.wav'\n",
    "speaker2 = 'test/audio/cropped_speaker_segements/SPEAKER_02/recorded_audio_crop_3.wav'\n",
    "\n",
    "audio_data1, sr1 = librosa.load(speaker1, sr=None)\n",
    "mfcc_features1 = librosa.feature.mfcc(y=audio_data1, sr=sr1, n_mfcc=13)\n",
    "\n",
    "audio_data2, sr2 = librosa.load(speaker2, sr=None)\n",
    "# Make sure both audio files have the same number of MFCC coefficients\n",
    "mfcc_features2 = librosa.feature.mfcc(y=audio_data2, sr=sr2, n_mfcc=13)\n",
    "\n",
    "# Transpose the MFCC feature matrices to align the features correctly\n",
    "mfcc_features1 = mfcc_features1.T\n",
    "mfcc_features2 = mfcc_features2.T\n",
    "\n",
    "# Initialize a list to store cosine similarities\n",
    "similarities = []\n",
    "\n",
    "# Calculate cosine similarity for each pair of rows\n",
    "for row1, row2 in zip(mfcc_features1, mfcc_features2):\n",
    "    similarity = 1 - cosine(row1, row2)\n",
    "    similarities.append(similarity)\n",
    "\n",
    "# Calculate the mean similarity as an overall measure\n",
    "total_similarity = np.mean(similarities)\n",
    "\n",
    "print(f\"Total Cosine Similarity: {total_similarity}\")\n"
   ]
  },
  {
   "attachments": {},
   "cell_type": "markdown",
   "metadata": {},
   "source": [
    "Diarize accross files"
   ]
  },
  {
   "cell_type": "code",
   "execution_count": null,
   "metadata": {},
   "outputs": [],
   "source": []
  },
  {
   "attachments": {},
   "cell_type": "markdown",
   "metadata": {},
   "source": []
  },
  {
   "cell_type": "code",
   "execution_count": null,
   "metadata": {},
   "outputs": [],
   "source": [
    "current_caption = transcribe_audio(model, output_path) #only in maximum 30 seconds sliding windows.\n",
    "current_caption "
   ]
  },
  {
   "cell_type": "code",
   "execution_count": null,
   "metadata": {},
   "outputs": [],
   "source": [
    "from pyannote.audio.pipelines import OverlappedSpeechDetection\n",
    "from pyannote.audio import Model\n",
    "modelx = Model.from_pretrained(\"pyannote/segmentation\", \n",
    "                              use_auth_token=pyannote_access_token)\n",
    "\n",
    "HYPER_PARAMETERS = {\n",
    "  # onset/offset activation thresholds\n",
    "  \"onset\": 0.5, \"offset\": 0.5,\n",
    "  # remove speech regions shorter than that many seconds.\n",
    "  \"min_duration_on\": 0.0,\n",
    "  # fill non-speech regions shorter than that many seconds.\n",
    "  \"min_duration_off\": 0.0\n",
    "}\n",
    "\n",
    "pipeline = OverlappedSpeechDetection(segmentation=modelx)\n",
    "pipeline.instantiate(HYPER_PARAMETERS)\n",
    "osd = pipeline(\"audio/chunks/recorded_audio_20230819_231954.wav\")\n",
    "osd\n",
    "# `osd` is a pyannote.core.Annotation instance containing overlapped speech regions\n"
   ]
  },
  {
   "cell_type": "code",
   "execution_count": null,
   "metadata": {},
   "outputs": [],
   "source": [
    "import numpy as np\n",
    "import matplotlib.pyplot as plt\n",
    "from sklearn.cluster import KMeans\n",
    "from sklearn.preprocessing import StandardScaler\n",
    "import librosa\n",
    "import librosa.display\n",
    "\n",
    "# Load an audio file (replace 'your_audio_file.wav' with your audio file)\n",
    "audio_file = 'audio/chunks/recorded_audio_20230819_231924.wav'\n",
    "y, sr = librosa.load(audio_file)\n",
    "\n",
    "# Extract MFCC features\n",
    "mfccs = librosa.feature.mfcc(y=y, sr=sr, n_mfcc=13)  # You can adjust the number of MFCC coefficients\n",
    "\n",
    "# Transpose the MFCCs matrix\n",
    "mfccs = mfccs.T\n",
    "\n",
    "# Standardize the MFCC features\n",
    "scaler = StandardScaler()\n",
    "mfccs_standardized = scaler.fit_transform(mfccs)\n",
    "\n",
    "# Determine the optimal number of clusters using the Elbow Method\n",
    "inertia_values = []\n",
    "for k in range(1, 11):\n",
    "    kmeans = KMeans(n_clusters=k)\n",
    "    kmeans.fit(mfccs_standardized)\n",
    "    inertia_values.append(kmeans.inertia_)\n",
    "\n",
    "# Plot the Elbow curve\n",
    "plt.plot(range(1, 11), inertia_values, marker='o')\n",
    "plt.xlabel('Number of Clusters (K)')\n",
    "plt.ylabel('Inertia')\n",
    "plt.title('Elbow Method for Optimal K')\n",
    "plt.show()\n",
    "\n",
    "# Based on the Elbow curve, choose the optimal number of clusters (K)\n",
    "optimal_k = 4  # Adjust this based on the plot\n",
    "\n",
    "# Create a K-means model with the optimal K\n",
    "kmeans = KMeans(n_clusters=optimal_k)\n",
    "\n",
    "# Fit the model to the MFCC data\n",
    "kmeans.fit(mfccs_standardized)\n",
    "\n",
    "# Get cluster assignments for each frame of MFCCs\n",
    "cluster_assignments = kmeans.labels_\n",
    "\n",
    "# Visualize the clusters\n",
    "librosa.display.specshow(mfccs.T, sr=sr, x_axis='time')\n",
    "plt.colorbar()\n",
    "plt.title(f'K-Means Clustering with {optimal_k} Clusters')\n",
    "plt.show()\n"
   ]
  },
  {
   "cell_type": "code",
   "execution_count": null,
   "metadata": {},
   "outputs": [],
   "source": [
    "import librosa\n",
    "from sklearn.preprocessing import StandardScaler\n",
    "\n",
    "# Load an audio file (replace 'your_audio_file.wav' with your audio file)\n",
    "enhanced_audio_file = 'audio/temp/output_normalized_audio.wav'\n",
    "y, sr = librosa.load(enhanced_audio_file)\n",
    "\n",
    "# Extract MFCC features\n",
    "mfccs = librosa.feature.mfcc(y=y, sr=sr, n_mfcc=13)  # You can adjust the number of MFCC coefficients\n",
    "\n",
    "# Transpose the MFCCs matrix\n",
    "mfccs = mfccs.T\n",
    "\n",
    "# Standardize the MFCC features\n",
    "scaler = StandardScaler()\n",
    "mfccs_standardized = scaler.fit_transform(mfccs)"
   ]
  },
  {
   "cell_type": "code",
   "execution_count": null,
   "metadata": {},
   "outputs": [],
   "source": [
    "from sklearn.cluster import KMeans\n",
    "from sklearn.metrics import silhouette_score\n",
    "\n",
    "silhouette_scores = []\n",
    "\n",
    "for k in range(2, 11):\n",
    "    kmeans = KMeans(n_clusters=k)\n",
    "    labels = kmeans.fit_predict(mfccs_standardized)\n",
    "    score = silhouette_score(mfccs_standardized, labels)\n",
    "    silhouette_scores.append(score)\n",
    "\n",
    "optimal_k = silhouette_scores.index(max(silhouette_scores)) + 2  # +2 because we started from K=2\n"
   ]
  },
  {
   "cell_type": "code",
   "execution_count": null,
   "metadata": {},
   "outputs": [],
   "source": [
    "optimal_k"
   ]
  },
  {
   "cell_type": "code",
   "execution_count": null,
   "metadata": {},
   "outputs": [],
   "source": [
    "from sklearn.cluster import DBSCAN\n",
    "import numpy as np\n",
    "\n",
    "# Create a DBSCAN model with appropriate parameters (eps and min_samples)\n",
    "dbscan = DBSCAN(eps=0.5, min_samples=4)\n",
    "\n",
    "# Fit the model to your data\n",
    "labels = dbscan.fit_predict(mfccs_standardized)\n",
    "\n",
    "# Get the unique cluster labels (including noise, labeled as -1)\n",
    "unique_labels = np.unique(labels)\n",
    "\n",
    "# Calculate the number of clusters (excluding noise points labeled as -1)\n",
    "num_clusters = len(unique_labels) - 1  # Subtract 1 to exclude the noise cluster (-1)\n",
    "\n",
    "# Print the number of clusters\n",
    "print(\"Number of clusters:\", num_clusters)\n",
    "\n",
    "# Get the cluster assignments for each data point\n",
    "print(\"Cluster assignments:\", labels)\n"
   ]
  },
  {
   "attachments": {},
   "cell_type": "markdown",
   "metadata": {},
   "source": [
    "#### DBSCAN WITH TIMESTAMPS"
   ]
  },
  {
   "cell_type": "code",
   "execution_count": null,
   "metadata": {},
   "outputs": [],
   "source": [
    "import numpy as np\n",
    "import librosa\n",
    "from sklearn.cluster import DBSCAN\n",
    "from sklearn.preprocessing import StandardScaler\n",
    "\n",
    "# Load the audio file\n",
    "audio_file = 'audio/temp/output_normalized_audio.wav'\n",
    "audio_data, sample_rate = librosa.load(audio_file, sr=None)  # Load with the original sample rate\n",
    "\n",
    "# Define the desired frame length and step (in samples)\n",
    "frame_length = int(sample_rate * 1)  # 1-second frames\n",
    "frame_step = int(sample_rate * 1)    # 1-second overlap\n",
    "\n",
    "# Ensure that frames are of equal length by padding or truncating\n",
    "num_frames = len(audio_data) // frame_step\n",
    "frames = [audio_data[i * frame_step: i * frame_step + frame_length] for i in range(num_frames)]\n",
    "\n",
    "# Extract features from each frame (MFCCs with transposition and standardization)\n",
    "def extract_features(frame, sample_rate):\n",
    "    # Extract MFCCs with transposition\n",
    "    mfccs = librosa.feature.mfcc(y=frame, sr=sample_rate, n_mfcc=13).T\n",
    "    \n",
    "    # Standardize the MFCCs\n",
    "    scaler = StandardScaler()\n",
    "    mfccs_standardized = scaler.fit_transform(mfccs)\n",
    "    \n",
    "    # Return the entire standardized MFCCs array\n",
    "    return mfccs_standardized.flatten()\n",
    "\n",
    "# Extract features for each frame and store them in a list\n",
    "feature_vectors = [extract_features(frame, sample_rate) for frame in frames]\n",
    "\n",
    "# Apply DBSCAN to cluster the frames\n",
    "dbscan = DBSCAN(eps=0.5, min_samples=4)\n",
    "cluster_labels = dbscan.fit_predict(feature_vectors)\n",
    "\n",
    "# Map cluster assignments back to time ranges in seconds\n",
    "frame_duration = len(audio_data) / len(frames) / sample_rate  # Duration of each frame in seconds\n",
    "time_ranges = [(i * frame_duration, (i + 1) * frame_duration) for i in range(len(frames))]\n",
    "\n",
    "# Associate cluster labels with time ranges\n",
    "cluster_assignments = list(zip(time_ranges, cluster_labels))\n",
    "\n",
    "# Print cluster assignments with time ranges in seconds\n",
    "for time_range, cluster_label in cluster_assignments:\n",
    "    print(f\"Time Range: {time_range[0]:.2f}s - {time_range[1]:.2f}s, Cluster Label: {cluster_label}\")\n"
   ]
  },
  {
   "cell_type": "code",
   "execution_count": null,
   "metadata": {},
   "outputs": [],
   "source": [
    "#----------------------------------------------------------------\n",
    "print(f\"entries: {len(feature_vectors)} - features: {len(feature_vectors[0])}\")\n",
    "# Get the unique cluster labels (including noise, labeled as -1)\n",
    "unique_labels = np.unique(cluster_labels)\n",
    "\n",
    "# Calculate the number of clusters (excluding noise points labeled as -1)\n",
    "num_clusters = len(unique_labels) - 1  # Subtract 1 to exclude the noise cluster (-1)\n",
    "\n",
    "# Print the number of clusters\n",
    "print(\"Number of clusters:\", num_clusters)\n",
    "#----------------------------------------------------------------"
   ]
  },
  {
   "cell_type": "code",
   "execution_count": null,
   "metadata": {},
   "outputs": [],
   "source": [
    "import numpy as np\n",
    "import librosa\n",
    "from sklearn.cluster import DBSCAN\n",
    "from sklearn.preprocessing import StandardScaler\n",
    "\n",
    "# Load an audio file (replace 'your_audio_file.wav' with your audio file)\n",
    "audio_file = 'audio/temp/output_normalized_audio.wav'\n",
    "y, sr = librosa.load(audio_file, sr=None)\n",
    "\n",
    "# Extract MFCC features\n",
    "mfccs = librosa.feature.mfcc(y=y, sr=sr, n_mfcc=13)  \n",
    "\n",
    "# Transpose the MFCCs matrix\n",
    "mfccs = mfccs.T\n",
    "\n",
    "# Standardize the MFCC features\n",
    "scaler = StandardScaler()\n",
    "mfccs_standardized = scaler.fit_transform(mfccs)\n",
    "# Create a DBSCAN model with appropriate parameters (eps and min_samples)\n",
    "#dbscan = DBSCAN(eps=0.5, min_samples=5)\n",
    "dbscan = DBSCAN(eps=0.5, min_samples=5)\n",
    "\n",
    "# Fit the model to your data\n",
    "labels = dbscan.fit_predict(mfccs_standardized)\n",
    "\n",
    "# Get the unique cluster labels (including noise, labeled as -1)\n",
    "unique_labels = np.unique(labels)\n",
    "\n",
    "# Calculate the number of clusters (excluding noise points labeled as -1)\n",
    "num_clusters = len(unique_labels) - 1  # Subtract 1 to exclude the noise cluster (-1)\n",
    "\n",
    "# Print the number of clusters\n",
    "print(\"Number of clusters:\", num_clusters)\n",
    "\n",
    "\n",
    "\n",
    "# Define the frame rate used for MFCC feature extraction (you need to know this)\n",
    "frame_rate = 100  # Replace with the actual frame rate used\n",
    "\n",
    "# Calculate the duration of each frame in seconds\n",
    "frame_duration = 1.0 / frame_rate\n",
    "\n",
    "# Initialize variables to track cluster timestamps\n",
    "cluster_timestamps = {}\n",
    "\n",
    "# Iterate through cluster labels and find timestamps\n",
    "for cluster_label in unique_labels:\n",
    "    if cluster_label == -1:\n",
    "        # Skip noise cluster\n",
    "        continue\n",
    "\n",
    "    # Find indices of frames belonging to the current cluster\n",
    "    cluster_indices = np.where(labels == cluster_label)[0]\n",
    "\n",
    "    # Calculate start and end timestamps for the cluster\n",
    "    start_time = cluster_indices[0] * frame_duration\n",
    "    end_time = (cluster_indices[-1] + 1) * frame_duration  # Add 1 for inclusive end time\n",
    "\n",
    "    # Store the timestamps for the cluster\n",
    "    cluster_timestamps[cluster_label] = (start_time, end_time)\n",
    "\n",
    "# Print the timestamps for each cluster\n",
    "for cluster_label, timestamps in cluster_timestamps.items():\n",
    "    start_time, end_time = timestamps\n",
    "    print(f\"Cluster {cluster_label}: Start Time {start_time:.2f}s, End Time {end_time:.2f}s\")\n"
   ]
  },
  {
   "cell_type": "code",
   "execution_count": null,
   "metadata": {},
   "outputs": [],
   "source": [
    "import numpy as np\n",
    "import librosa\n",
    "from scipy.cluster.hierarchy import dendrogram, linkage, fcluster\n",
    "import matplotlib.pyplot as plt\n",
    "\n",
    "# Replace this with your actual audio file or data\n",
    "audio_file = \"audio/temp/output_normalized_audio.wav\"\n",
    "\n",
    "# Load the audio and compute MFCCs\n",
    "audio, sr = librosa.load(audio_file, sr=None)  # Load audio with its original sampling rate\n",
    "mfccs = librosa.feature.mfcc(y=audio, sr=sr, n_mfcc=13)  # Compute MFCCs (adjust parameters as needed)\n",
    "\n",
    "# Transpose the MFCCs matrix to have segments as rows and features as columns\n",
    "x_vectors = mfccs.T\n",
    "\n",
    "# Calculate the linkage matrix for hierarchical clustering\n",
    "linked = linkage(x_vectors, method='ward')\n",
    "\n",
    "# Plot the dendrogram to visually inspect it\n",
    "plt.figure(figsize=(10, 5))\n",
    "dendrogram(linked, p=10, truncate_mode='level', show_leaf_counts=True)\n",
    "plt.title('Hierarchical Clustering Dendrogram')\n",
    "plt.xlabel('Sample Index')\n",
    "plt.ylabel('Distance')\n",
    "plt.show()\n",
    "\n",
    "# Based on the dendrogram, select a suitable cutoff distance to determine the number of clusters\n",
    "# You can visually inspect the dendrogram and choose a distance where clusters are well-separated\n",
    "\n",
    "# For example, suppose you choose a distance of 1000 (you should adjust this based on your data)\n",
    "cutoff_distance = 2000\n",
    "\n",
    "# Use fcluster to assign segments to clusters based on the cutoff distance\n",
    "cluster_labels = fcluster(linked, t=cutoff_distance, criterion='distance')\n",
    "\n",
    "# Now, cluster_labels contains the cluster assignments for each audio segment\n",
    "\n",
    "clusters_x = []\n",
    "# Print the cluster assignments\n",
    "for i, label in enumerate(cluster_labels):\n",
    "    clusters_x.append(label)\n",
    "    #print(f\"Segment {i+1} is in Cluster {label}\")\n",
    "\n",
    "print(f\"uniques {np.unique(clusters_x)}\")\n"
   ]
  },
  {
   "attachments": {},
   "cell_type": "markdown",
   "metadata": {},
   "source": [
    "#### Hierarchical clustering with timestamp"
   ]
  },
  {
   "cell_type": "code",
   "execution_count": null,
   "metadata": {},
   "outputs": [],
   "source": [
    "import numpy as np\n",
    "import librosa\n",
    "from scipy.cluster.hierarchy import dendrogram, linkage, fcluster\n",
    "import matplotlib.pyplot as plt\n",
    "\n",
    "# Replace this with your actual audio file or data\n",
    "audio_file = \"audio/temp/output_normalized_audio.wav\"\n",
    "\n",
    "# Load the audio and compute MFCCs\n",
    "audio, sr = librosa.load(audio_file, sr=None)  # Load audio with its original sampling rate\n",
    "mfccs = librosa.feature.mfcc(y=audio, sr=sr, n_mfcc=13)  # Compute MFCCs (adjust parameters as needed)\n",
    "\n",
    "# Transpose the MFCCs matrix to have segments as rows and features as columns\n",
    "x_vectors = mfccs.T\n",
    "\n",
    "# Calculate the linkage matrix for hierarchical clustering\n",
    "linked = linkage(x_vectors, method='ward')\n",
    "\n",
    "# Plot the dendrogram to visually inspect it\n",
    "plt.figure(figsize=(10, 5))\n",
    "dendrogram(linked, p=10, truncate_mode='level', show_leaf_counts=True)\n",
    "plt.title('Hierarchical Clustering Dendrogram')\n",
    "plt.xlabel('Sample Index')\n",
    "plt.ylabel('Distance')\n",
    "plt.show()\n",
    "\n",
    "# Based on the dendrogram, select a suitable cutoff distance to determine the number of clusters\n",
    "# You can visually inspect the dendrogram and choose a distance where clusters are well-separated\n",
    "\n",
    "# For example, suppose you choose a distance of 1000 (you should adjust this based on your data)\n",
    "cutoff_distance = 1000\n",
    "\n",
    "# Use fcluster to assign segments to clusters based on the cutoff distance\n",
    "cluster_labels = fcluster(linked, t=cutoff_distance, criterion='distance')\n",
    "\n",
    "# Calculate the total duration of the audio\n",
    "audio_duration = len(audio) / sr  # in seconds\n",
    "\n",
    "# Estimate the hop size based on the audio duration and the number of frames\n",
    "num_frames = mfccs.shape[1]\n",
    "hop_size = audio_duration / num_frames\n",
    "\n",
    "# Create a list to store cluster boundaries (start and end timestamps)\n",
    "cluster_boundaries = []\n",
    "\n",
    "# Calculate the start and end timestamps for each cluster\n",
    "current_cluster = cluster_labels[0]\n",
    "start_timestamp = 0\n",
    "for i, label in enumerate(cluster_labels):\n",
    "    if label != current_cluster:\n",
    "        end_timestamp = (i - 1) * hop_size\n",
    "        cluster_boundaries.append((start_timestamp, end_timestamp, current_cluster))\n",
    "        start_timestamp = i * hop_size\n",
    "        current_cluster = label\n",
    "\n",
    "# Add the last cluster boundary\n",
    "end_timestamp = (len(cluster_labels) - 1) * hop_size\n",
    "cluster_boundaries.append((start_timestamp, end_timestamp, current_cluster))\n",
    "\n",
    "# Sort the cluster boundaries in ascending order of start timestamps\n",
    "cluster_boundaries.sort(key=lambda x: x[0])\n",
    "\n",
    "# Print the sorted cluster boundaries\n",
    "for i, (start_time, end_time, label) in enumerate(cluster_boundaries):\n",
    "    print(f\"Cluster {label}: Start Time = {start_time:.2f} sec, End Time = {end_time:.2f} sec\")\n"
   ]
  },
  {
   "cell_type": "code",
   "execution_count": null,
   "metadata": {},
   "outputs": [],
   "source": [
    "# Calculate the start time and duration for each cluster\n",
    "current_cluster = cluster_labels[0]\n",
    "start_timestamp = 0\n",
    "for i, label in enumerate(cluster_labels):\n",
    "    if label != current_cluster:\n",
    "        end_timestamp = i * hop_size  # End time of the current cluster\n",
    "        duration = end_timestamp - start_timestamp  # Duration of the current cluster\n",
    "        cluster_boundaries.append((start_timestamp, duration, current_cluster))\n",
    "        start_timestamp = i * hop_size\n",
    "        current_cluster = label\n",
    "\n",
    "# Calculate the duration for the last cluster\n",
    "end_timestamp = len(cluster_labels) * hop_size\n",
    "duration = end_timestamp - start_timestamp\n",
    "cluster_boundaries.append((start_timestamp, duration, current_cluster))\n",
    "\n",
    "# Sort the cluster boundaries in ascending order of start timestamps\n",
    "cluster_boundaries.sort(key=lambda x: x[0])\n",
    "\n",
    "# Print the sorted cluster boundaries\n",
    "for i, (start_time, duration, label) in enumerate(cluster_boundaries):\n",
    "    print(f\"Cluster {label}: Start Time = {start_time:.2f} sec, Duration = {duration:.2f} sec\")"
   ]
  },
  {
   "attachments": {},
   "cell_type": "markdown",
   "metadata": {},
   "source": [
    "ignore silence"
   ]
  },
  {
   "cell_type": "code",
   "execution_count": null,
   "metadata": {},
   "outputs": [],
   "source": [
    "audio_to_enhance = \"audio/chunks/recorded_audio_20230819_231924.wav\"\n",
    "#audio 1\n",
    "#audio 5\n",
    "enhance_audio_signal(audio_path=audio_to_enhance)"
   ]
  },
  {
   "cell_type": "code",
   "execution_count": null,
   "metadata": {},
   "outputs": [],
   "source": [
    "import numpy as np\n",
    "import librosa\n",
    "from sklearn.cluster import AgglomerativeClustering\n",
    "from sklearn.mixture import GaussianMixture\n",
    "import matplotlib.pyplot as plt\n",
    "\n",
    "# Set a random seed for reproducibility\n",
    "random_seed = 42\n",
    "np.random.seed(random_seed)\n",
    "\n",
    "# Load the audio data (replace 'your_audio_file.wav' with your actual file)\n",
    "audio_file = 'audio/temp/output_normalized_audio.wav'\n",
    "audio_data, sr = librosa.load(audio_file, sr=None)\n",
    "\n",
    "# Extract audio features (e.g., MFCCs) for clustering\n",
    "# You can use other features depending on your application\n",
    "mfcc_features = librosa.feature.mfcc(y=audio_data, sr=sr, n_mfcc=13)\n",
    "\n",
    "# Perform hierarchical clustering for different numbers of clusters\n",
    "n_clusters_range = range(1, 11)  # Adjust as needed\n",
    "bic_scores = []\n",
    "\n",
    "for n_clusters in n_clusters_range:\n",
    "    # Fit Agglomerative Clustering\n",
    "    clustering = AgglomerativeClustering(n_clusters=n_clusters)\n",
    "    labels = clustering.fit_predict(np.transpose(mfcc_features))  # Transpose for feature-wise clustering\n",
    "\n",
    "    # Calculate BIC for this clustering\n",
    "    gmm = GaussianMixture(n_components=n_clusters, random_state=random_seed)\n",
    "    gmm.fit(mfcc_features.T)  # Transpose back for sample-wise Gaussian Mixture Model\n",
    "    bic_scores.append(gmm.bic(mfcc_features.T))\n",
    "\n",
    "# Find the optimal number of clusters (minimum BIC score)\n",
    "optimal_n_clusters = n_clusters_range[np.argmin(bic_scores)]\n",
    "\n",
    "# Plot BIC scores to visualize the selection\n",
    "plt.figure(figsize=(10, 5))\n",
    "plt.plot(n_clusters_range, bic_scores, marker='o')\n",
    "plt.xlabel('Number of Clusters')\n",
    "plt.ylabel('BIC Score')\n",
    "plt.title('BIC Score vs. Number of Clusters')\n",
    "plt.grid(True)\n",
    "plt.axvline(x=optimal_n_clusters, color='r', linestyle='--', label='Optimal Clusters')\n",
    "plt.legend()\n",
    "plt.show()\n",
    "\n",
    "# Print the optimal number of clusters\n",
    "print(f\"Optimal Number of Clusters: {optimal_n_clusters}\")\n"
   ]
  },
  {
   "attachments": {},
   "cell_type": "markdown",
   "metadata": {},
   "source": []
  },
  {
   "cell_type": "code",
   "execution_count": null,
   "metadata": {},
   "outputs": [],
   "source": [
    "import src.utils.audio_utils as audio_utils\n",
    "import pyaudio\n",
    "\n",
    "#determine the available devices and max input channels for recording\n",
    "#p = pyaudio.PyAudio()\n",
    "\n",
    "#for i in range(p.get_device_count()):\n",
    "#    dev = p.get_device_info_by_index(i)\n",
    "#    print((i, dev['name'], dev['maxInputChannels']))\n",
    "\n",
    "\n",
    "audio_utils.start_continuous_recording(True, False)"
   ]
  },
  {
   "attachments": {},
   "cell_type": "markdown",
   "metadata": {},
   "source": [
    "#### check for variations in an audio signal, such as changes in pitch, intensity, or other characteristics "
   ]
  },
  {
   "cell_type": "code",
   "execution_count": null,
   "metadata": {},
   "outputs": [],
   "source": [
    "import src.utils.audio_utils as audio_utils\n",
    "audio_file = 'enhanced_audio/test_clips/cropped_SPEAKER_00_40.0.wav'  # Replace with the path to your audio file\n",
    "at = audio_utils.speach_activity_detection(audio_file)\n",
    "\n",
    "for idx, row in at.iterrows():\n",
    "    row['start']\n",
    "    audio_utils.crop_wav(audio_file, f\"enhanced_audio/non_silent/cropped_{float(row['stop'])}.wav\", float(row['start']), float(row['stop']))\n",
    "\n",
    "\n"
   ]
  },
  {
   "cell_type": "code",
   "execution_count": null,
   "metadata": {},
   "outputs": [],
   "source": [
    "import librosa\n",
    "import librosa.display\n",
    "import matplotlib.pyplot as plt\n",
    "import numpy as np\n",
    "\n",
    "# Load the audio file\n",
    "audio_file = 'enhanced_audio/chunks/recorded_audio_20230905_161155.wav'  # Replace with the path to your audio file\n",
    "y, sr = librosa.load(audio_file, sr=None)\n",
    "\n",
    "# Calculate the pitch variation\n",
    "pitch, magnitudes = librosa.piptrack(y=y, sr=sr)\n",
    "mean_pitch = pitch[pitch > 0].mean()\n",
    "\n",
    "# Calculate the intensity variation\n",
    "intensity = librosa.feature.rms(y=y)\n",
    "\n",
    "# Plot the pitch and intensity\n",
    "plt.figure(figsize=(12, 6))\n",
    "\n",
    "plt.subplot(2, 1, 1)\n",
    "librosa.display.waveshow(y, sr=sr)\n",
    "plt.title('Waveform')\n",
    "\n",
    "plt.subplot(2, 1, 2)\n",
    "librosa.display.specshow(librosa.amplitude_to_db(magnitudes, ref=np.max), y_axis='log', x_axis='time')\n",
    "#plt.colorbar(format='%+2.0f dB')\n",
    "plt.title(f'Pitch Variation (Mean Pitch: {mean_pitch:.2f} Hz)')\n",
    "\n",
    "plt.tight_layout()\n",
    "plt.show()"
   ]
  },
  {
   "attachments": {},
   "cell_type": "markdown",
   "metadata": {},
   "source": [
    "#### determine segment similarity between segments\n",
    "\n",
    "a simple example of comparing audio segments based on audio features and determining if they are similar or different."
   ]
  },
  {
   "cell_type": "code",
   "execution_count": null,
   "metadata": {},
   "outputs": [],
   "source": [
    "import librosa\n",
    "import numpy as np\n",
    "import os\n",
    "\n",
    "# Function to extract audio features (e.g., MFCCs) from a segment\n",
    "def extract_features(segment, target_length, sample_rate):\n",
    "    mfccs = librosa.feature.mfcc(y=segment, sr=sample_rate, n_mfcc=13)\n",
    "    \n",
    "    # Pad or truncate the feature vector to the target length\n",
    "    if mfccs.shape[1] < target_length:\n",
    "        mfccs = np.pad(mfccs, ((0, 0), (0, target_length - mfccs.shape[1])), mode='constant')\n",
    "    else:\n",
    "        mfccs = mfccs[:, :target_length]\n",
    "    \n",
    "    return mfccs.flatten()\n",
    "\n",
    "# Function to calculate Euclidean distance between two MFCC vectors\n",
    "def euclidean_distance(vector1, vector2):\n",
    "    print(f\"shape1:{vector1.shape} shape2:{vector2.shape}\")\n",
    "    return np.linalg.norm(vector1 - vector2)\n",
    "\n",
    "def compute_average_similarity(current_mfcc_vector, speakers):\n",
    "    # Your MFCC vector\n",
    "    vector_1 = current_mfcc_vector #np.array(...)  # Replace with your MFCC vector\n",
    "\n",
    "    # Your dictionary of speakers and their MFCC arrays\n",
    "    #speakers = {\n",
    "    #    'Speaker1': [np.array(...), np.array(...), ...],  # Replace with MFCC arrays\n",
    "    #    'Speaker2': [np.array(...), np.array(...), ...],  # Replace with MFCC arrays\n",
    "    #    # Add more speakers and MFCC arrays as needed\n",
    "    #}\n",
    "\n",
    "    # Initialize variables to track the closest speaker and distance\n",
    "    closest_speaker = None\n",
    "    min_distance = float('inf')\n",
    "\n",
    "    # Calculate the average distance for each speaker\n",
    "    for speaker, mfcc_arrays in speakers.items():\n",
    "\n",
    "        print(f\"SET HERE: {mfcc_arrays}\")\n",
    "        # Calculate the average MFCC vector for the current speaker\n",
    "        average_vector = np.mean(mfcc_arrays, axis=0)\n",
    "        \n",
    "        # Calculate the Euclidean distance between vector_1 and the average MFCC vector\n",
    "        distance = euclidean_distance(vector_1, average_vector)\n",
    "        \n",
    "        # Check if this is the closest speaker so far\n",
    "        if distance < min_distance:\n",
    "            min_distance = distance\n",
    "            closest_speaker = speaker\n",
    "\n",
    "    # Assign vector_1 to the closest speaker\n",
    "    print(f\"Vector_1 belongs to {closest_speaker} with a minimum distance of {min_distance}\")\n",
    "\n",
    "\n",
    "def merge_cluster_segments(merged_speaker_segments, audio_file):\n",
    "    # Load the audio file\n",
    "    #audio_file =   # Replace with the path to your audio file\n",
    "    y, sr = librosa.load(audio_file, sr=None)\n",
    "\n",
    "\n",
    "    # Define the start and stop times of speech segments (in seconds)\n",
    "    df = speach_activity_detection(filename=audio_file)\n",
    "    timestamps = df.iloc[:][['start', 'stop']].values\n",
    "\n",
    "\n",
    "    segment_times = timestamps# time may cause issues, check later #[(0, 2), (2, 5), (5, 8)]  # Adjust as needed\n",
    "\n",
    "    # Set a fixed length for the feature vectors\n",
    "    target_length = 1000  # You can adjust this based on your needs\n",
    "\n",
    "\n",
    "    # Initialize a dictionary to store segments for each speaker\n",
    "    speaker_segments = {}\n",
    "    speaker_segments_timestamps = {}\n",
    "    current_speaker = None  # Keep track of the current speaker\n",
    "\n",
    "    test_segment = y[int(segment_times[0][0] * sr):int(segment_times[0][1] * sr)]\n",
    "    print(f\"start: {int(segment_times[0][0] * sr)} stop: {int(segment_times[0][1] * sr)} \\n seg: \\n{test_segment}\")\n",
    "    # Compare speech segments\n",
    "    for i, (start, stop) in enumerate(segment_times):\n",
    "        segment = y[int(start * sr):int(stop * sr)]\n",
    "        print(f\"pass {segment} \\n\\n\")\n",
    "        if i > 0:\n",
    "            print(f\"INDEX {i} ---- start; {int(segment_times[i-1][0] * sr)} stop: {int(segment_times[i-1][1] * sr)}\")\n",
    "            previous_segment = y[int(segment_times[i-1][0] * sr):int(segment_times[i-1][1] * sr)]\n",
    "            \n",
    "            # Extract features from the current and previous segments\n",
    "            features_current = extract_features(segment, target_length, sr)\n",
    "            features_previous = extract_features(previous_segment, target_length, sr)\n",
    "            print(\"previous mfccs\", features_previous)\n",
    "            # Compute a similarity measure (e.g., cosine similarity) between the feature vectors        \n",
    "            similarity = np.dot(features_current, features_previous) / (np.linalg.norm(features_current) * np.linalg.norm(features_previous))\n",
    "            \n",
    "            print(f\"Segment {i}: Similarity to previous segment: {similarity:.2f}\")\n",
    "\n",
    "\n",
    "            #compute_average_similarity(features_current, merged_speaker_segments)\n",
    "\n",
    "            # You can add logic here to determine if the segments are similar or different based on the similarity measure.\n",
    "            \n",
    "            # Check if the similarity is above 0.5 to group segments under the same speaker\n",
    "            if similarity > 0.5:\n",
    "                if current_speaker is None:\n",
    "                    print(f\"new speaker: \")\n",
    "                    current_speaker = f\"speaker_{len(speaker_segments) + 1}\"\n",
    "                if current_speaker not in speaker_segments:\n",
    "                    speaker_segments[current_speaker] = []\n",
    "                    speaker_segments_timestamps[current_speaker] = []\n",
    "                if i == 1 and similarity > 0.5:\n",
    "                    print(f\"segment!!!!:0 {segment_times[0]}\")\n",
    "                    print(f\" segg {test_segment.shape} \\n\\nprev_segg: {previous_segment.shape}\")\n",
    "                    if np.array_equal(test_segment, previous_segment):\n",
    "                        print(f\"these two are the same\")\n",
    "                        previous_start = segment_times[0][0]\n",
    "                        previous_stop = segment_times[0][1]\n",
    "                        speaker_segments_timestamps[current_speaker].append((previous_start, previous_stop))\n",
    "                        speaker_segments[current_speaker].append(features_previous)\n",
    "\n",
    "                speaker_segments_timestamps[current_speaker].append((start, stop))\n",
    "                speaker_segments[current_speaker].append(features_current)\n",
    "            else:\n",
    "                current_speaker = f\"speaker_{len(speaker_segments) + 1}\"\n",
    "                if current_speaker not in speaker_segments:\n",
    "                    speaker_segments[current_speaker] = []\n",
    "                    speaker_segments_timestamps[current_speaker] = []\n",
    "                speaker_segments_timestamps[current_speaker].append((start, stop))\n",
    "                speaker_segments[current_speaker].append(features_current)\n",
    "                #current_speaker = None  # Reset the current speaker\n",
    "\n",
    "    # Post-processing step: Merge segments that belong to the same speaker\n",
    "\n",
    "    current_speaker = None\n",
    "    for speaker, segments in speaker_segments_timestamps.items():\n",
    "        if current_speaker is None:\n",
    "            current_speaker = speaker\n",
    "            merged_speaker_segments[current_speaker] = segments\n",
    "        else:\n",
    "            last_segment = merged_speaker_segments[current_speaker][-1]\n",
    "            if segments[0][0] - last_segment[1] < 1.0:  # Adjust the threshold as needed\n",
    "                merged_speaker_segments[current_speaker].extend(segments)\n",
    "            else:\n",
    "                current_speaker = speaker\n",
    "                merged_speaker_segments[current_speaker] = segments\n",
    "\n",
    "    # The `merged_speaker_segments` dictionary now contains merged segments grouped by speakers\n",
    "    print(\"Merged Speaker Segments:\")\n",
    "    for speaker, segments in merged_speaker_segments.items():\n",
    "        print(f\"{speaker}: {segments}\")\n",
    "    return merged_speaker_segments\n",
    "\n",
    "\n",
    "merged_speaker_segments = {}\n",
    "\n",
    "normalised_audio = 'audio/temp/output_normalized_audio.wav'\n",
    "\n",
    "directory = 'audio/chunks/'\n",
    "merge_speakers = {}\n",
    "idx = 0\n",
    "for filename in os.listdir(directory):\n",
    "    f = os.path.join(directory, filename)\n",
    "    \n",
    "    if os.path.isfile(f) and f.endswith(\".wav\"):\n",
    "        #audio_to_enhance = f#\"audio/chunks/recorded_audio_20230819_231924.wav\"\n",
    "        #audio 1\n",
    "        #audio 5\n",
    "        if idx  >= 2:\n",
    "            break\n",
    "        \n",
    "        enhance_audio_signal(audio_path=f)\n",
    "\n",
    "        merge_speakers = merge_cluster_segments(merged_speaker_segments, normalised_audio)\n",
    "        idx += 1 \n",
    "        print( f\"speaker keys: {merge_speakers.keys()}\")"
   ]
  },
  {
   "attachments": {},
   "cell_type": "markdown",
   "metadata": {},
   "source": [
    "What to do tomorrow is to add a mechanism that takes the returned speaker clusters and every loop resegment the clusters "
   ]
  },
  {
   "cell_type": "code",
   "execution_count": null,
   "metadata": {},
   "outputs": [],
   "source": [
    "import librosa\n",
    "\n",
    "# Load the audio file\n",
    "audio_file = 'audio/chunks/recorded_audio_20230819_231924.wav'\n",
    "y, sr = librosa.load(audio_file, sr=None)"
   ]
  },
  {
   "cell_type": "code",
   "execution_count": null,
   "metadata": {},
   "outputs": [],
   "source": [
    "# Example using noisereduce\n",
    "from noisereduce import reduce_noise\n",
    "\n",
    "reduced_audio = reduce_noise(y=y, sr=sr)\n"
   ]
  },
  {
   "attachments": {},
   "cell_type": "markdown",
   "metadata": {},
   "source": [
    "# -------------------------------------------\n",
    "# UPDATED CLUSTERING\n",
    "# -------------------------------------------"
   ]
  },
  {
   "cell_type": "code",
   "execution_count": 1,
   "metadata": {},
   "outputs": [],
   "source": [
    "import src.utils.audio_utils as audio_utils\n",
    "import modules.pyannote as pyannote\n",
    "import modules.whisper as whisper\n",
    "import src.utils.system_utils as system_utils\n",
    "import os"
   ]
  },
  {
   "cell_type": "code",
   "execution_count": 2,
   "metadata": {},
   "outputs": [
    {
     "name": "stdout",
     "output_type": "stream",
     "text": [
      "Model is English-only and has 71,825,408 parameters.\n"
     ]
    }
   ],
   "source": [
    "transcription_model  = whisper.load_model()"
   ]
  },
  {
   "cell_type": "code",
   "execution_count": 10,
   "metadata": {},
   "outputs": [
    {
     "name": "stdout",
     "output_type": "stream",
     "text": [
      "Recording... Press 'q' to stop.\n",
      "Recording stopped.\n"
     ]
    }
   ],
   "source": [
    "#audio_utils.start_continuous_recording(True, False)"
   ]
  },
  {
   "cell_type": "code",
   "execution_count": null,
   "metadata": {},
   "outputs": [],
   "source": [
    "audio = 'enhanced_audio/chunks/recorded_audio_20230905_205810.wav'\n",
    "transcript_obj = whisper.get_transcription_object(transcription_model, audio)"
   ]
  },
  {
   "cell_type": "code",
   "execution_count": 8,
   "metadata": {},
   "outputs": [
    {
     "data": {
      "text/html": [
       "<div>\n",
       "<style scoped>\n",
       "    .dataframe tbody tr th:only-of-type {\n",
       "        vertical-align: middle;\n",
       "    }\n",
       "\n",
       "    .dataframe tbody tr th {\n",
       "        vertical-align: top;\n",
       "    }\n",
       "\n",
       "    .dataframe thead th {\n",
       "        text-align: right;\n",
       "    }\n",
       "</style>\n",
       "<table border=\"1\" class=\"dataframe\">\n",
       "  <thead>\n",
       "    <tr style=\"text-align: right;\">\n",
       "      <th></th>\n",
       "      <th>id</th>\n",
       "      <th>seek</th>\n",
       "      <th>start</th>\n",
       "      <th>end</th>\n",
       "      <th>text</th>\n",
       "      <th>temperature</th>\n",
       "      <th>avg_logprob</th>\n",
       "      <th>compression_ratio</th>\n",
       "      <th>no_speech_prob</th>\n",
       "    </tr>\n",
       "  </thead>\n",
       "  <tbody>\n",
       "    <tr>\n",
       "      <th>0</th>\n",
       "      <td>0</td>\n",
       "      <td>0</td>\n",
       "      <td>0.00</td>\n",
       "      <td>6.44</td>\n",
       "      <td>What's for the people? I don't know how many ...</td>\n",
       "      <td>0.0</td>\n",
       "      <td>-0.555832</td>\n",
       "      <td>1.168224</td>\n",
       "      <td>0.383926</td>\n",
       "    </tr>\n",
       "    <tr>\n",
       "      <th>1</th>\n",
       "      <td>1</td>\n",
       "      <td>0</td>\n",
       "      <td>6.44</td>\n",
       "      <td>6.80</td>\n",
       "      <td>to you.</td>\n",
       "      <td>0.0</td>\n",
       "      <td>-0.555832</td>\n",
       "      <td>1.168224</td>\n",
       "      <td>0.383926</td>\n",
       "    </tr>\n",
       "    <tr>\n",
       "      <th>2</th>\n",
       "      <td>2</td>\n",
       "      <td>0</td>\n",
       "      <td>6.80</td>\n",
       "      <td>9.64</td>\n",
       "      <td>Skip. What's he really like?</td>\n",
       "      <td>0.0</td>\n",
       "      <td>-0.555832</td>\n",
       "      <td>1.168224</td>\n",
       "      <td>0.383926</td>\n",
       "    </tr>\n",
       "  </tbody>\n",
       "</table>\n",
       "</div>"
      ],
      "text/plain": [
       "   id  seek  start   end                                               text   \n",
       "0   0     0   0.00  6.44   What's for the people? I don't know how many ...  \\\n",
       "1   1     0   6.44  6.80                                            to you.   \n",
       "2   2     0   6.80  9.64                       Skip. What's he really like?   \n",
       "\n",
       "   temperature  avg_logprob  compression_ratio  no_speech_prob  \n",
       "0          0.0    -0.555832           1.168224        0.383926  \n",
       "1          0.0    -0.555832           1.168224        0.383926  \n",
       "2          0.0    -0.555832           1.168224        0.383926  "
      ]
     },
     "execution_count": 8,
     "metadata": {},
     "output_type": "execute_result"
    }
   ],
   "source": [
    "transcript_obj[1]"
   ]
  },
  {
   "cell_type": "code",
   "execution_count": 3,
   "metadata": {},
   "outputs": [],
   "source": [
    "DOTENV_PATH = './venv/env_variables.env'\n",
    "PYANNOTE_ACCESS_TOKEN = pyannote.get_pyannote_access_token(DOTENV_PATH)"
   ]
  },
  {
   "cell_type": "code",
   "execution_count": 4,
   "metadata": {},
   "outputs": [
    {
     "name": "stderr",
     "output_type": "stream",
     "text": [
      "The torchaudio backend is switched to 'soundfile'. Note that 'sox_io' is not supported on Windows.\n",
      "torchvision is not available - cannot save figures\n",
      "The torchaudio backend is switched to 'soundfile'. Note that 'sox_io' is not supported on Windows.\n",
      "Lightning automatically upgraded your loaded checkpoint from v1.5.4 to v2.0.7. To apply the upgrade to your files permanently, run `python -m pytorch_lightning.utilities.upgrade_checkpoint --file C:\\Users\\adamb\\.cache\\torch\\pyannote\\models--pyannote--segmentation\\snapshots\\c4c8ceafcbb3a7a280c2d357aee9fbc9b0be7f9b\\pytorch_model.bin`\n"
     ]
    },
    {
     "name": "stdout",
     "output_type": "stream",
     "text": [
      "Model was trained with pyannote.audio 0.0.1, yours is 2.1.1. Bad things might happen unless you revert pyannote.audio to 0.x.\n",
      "Model was trained with torch 1.10.0+cu102, yours is 2.0.1+cpu. Bad things might happen unless you revert torch to 1.x.\n"
     ]
    }
   ],
   "source": [
    "pyannote_pipeline = pyannote.get_pyannote_pipeline(pyannote_access_token=PYANNOTE_ACCESS_TOKEN)"
   ]
  },
  {
   "cell_type": "code",
   "execution_count": 21,
   "metadata": {},
   "outputs": [
    {
     "data": {
      "text/html": [
       "<div>\n",
       "<style scoped>\n",
       "    .dataframe tbody tr th:only-of-type {\n",
       "        vertical-align: middle;\n",
       "    }\n",
       "\n",
       "    .dataframe tbody tr th {\n",
       "        vertical-align: top;\n",
       "    }\n",
       "\n",
       "    .dataframe thead th {\n",
       "        text-align: right;\n",
       "    }\n",
       "</style>\n",
       "<table border=\"1\" class=\"dataframe\">\n",
       "  <thead>\n",
       "    <tr style=\"text-align: right;\">\n",
       "      <th></th>\n",
       "      <th>start</th>\n",
       "      <th>stop</th>\n",
       "      <th>speaker</th>\n",
       "    </tr>\n",
       "  </thead>\n",
       "  <tbody>\n",
       "    <tr>\n",
       "      <th>0</th>\n",
       "      <td>0.01</td>\n",
       "      <td>2.33</td>\n",
       "      <td>SPEAKER_00</td>\n",
       "    </tr>\n",
       "    <tr>\n",
       "      <th>1</th>\n",
       "      <td>3.08</td>\n",
       "      <td>4.56</td>\n",
       "      <td>SPEAKER_00</td>\n",
       "    </tr>\n",
       "  </tbody>\n",
       "</table>\n",
       "</div>"
      ],
      "text/plain": [
       "   start  stop     speaker\n",
       "0   0.01  2.33  SPEAKER_00\n",
       "1   3.08  4.56  SPEAKER_00"
      ]
     },
     "execution_count": 21,
     "metadata": {},
     "output_type": "execute_result"
    }
   ],
   "source": [
    "diarization = pyannote.get_diarization_speaker_info_df(pyannote_pipeline, audio)\n",
    "diarization\n"
   ]
  },
  {
   "cell_type": "code",
   "execution_count": 12,
   "metadata": {},
   "outputs": [
    {
     "data": {
      "text/html": [
       "<div>\n",
       "<style scoped>\n",
       "    .dataframe tbody tr th:only-of-type {\n",
       "        vertical-align: middle;\n",
       "    }\n",
       "\n",
       "    .dataframe tbody tr th {\n",
       "        vertical-align: top;\n",
       "    }\n",
       "\n",
       "    .dataframe thead th {\n",
       "        text-align: right;\n",
       "    }\n",
       "</style>\n",
       "<table border=\"1\" class=\"dataframe\">\n",
       "  <thead>\n",
       "    <tr style=\"text-align: right;\">\n",
       "      <th></th>\n",
       "      <th>id</th>\n",
       "      <th>seek</th>\n",
       "      <th>start</th>\n",
       "      <th>end</th>\n",
       "      <th>text</th>\n",
       "      <th>temperature</th>\n",
       "      <th>avg_logprob</th>\n",
       "      <th>compression_ratio</th>\n",
       "      <th>no_speech_prob</th>\n",
       "    </tr>\n",
       "  </thead>\n",
       "  <tbody>\n",
       "    <tr>\n",
       "      <th>0</th>\n",
       "      <td>0</td>\n",
       "      <td>0</td>\n",
       "      <td>0.00</td>\n",
       "      <td>6.44</td>\n",
       "      <td>What's for the people? I don't know how many ...</td>\n",
       "      <td>0.0</td>\n",
       "      <td>-0.555832</td>\n",
       "      <td>1.168224</td>\n",
       "      <td>0.383926</td>\n",
       "    </tr>\n",
       "    <tr>\n",
       "      <th>1</th>\n",
       "      <td>1</td>\n",
       "      <td>0</td>\n",
       "      <td>6.44</td>\n",
       "      <td>6.80</td>\n",
       "      <td>to you.</td>\n",
       "      <td>0.0</td>\n",
       "      <td>-0.555832</td>\n",
       "      <td>1.168224</td>\n",
       "      <td>0.383926</td>\n",
       "    </tr>\n",
       "    <tr>\n",
       "      <th>2</th>\n",
       "      <td>2</td>\n",
       "      <td>0</td>\n",
       "      <td>6.80</td>\n",
       "      <td>9.64</td>\n",
       "      <td>Skip. What's he really like?</td>\n",
       "      <td>0.0</td>\n",
       "      <td>-0.555832</td>\n",
       "      <td>1.168224</td>\n",
       "      <td>0.383926</td>\n",
       "    </tr>\n",
       "  </tbody>\n",
       "</table>\n",
       "</div>"
      ],
      "text/plain": [
       "   id  seek  start   end                                               text   \n",
       "0   0     0   0.00  6.44   What's for the people? I don't know how many ...  \\\n",
       "1   1     0   6.44  6.80                                            to you.   \n",
       "2   2     0   6.80  9.64                       Skip. What's he really like?   \n",
       "\n",
       "   temperature  avg_logprob  compression_ratio  no_speech_prob  \n",
       "0          0.0    -0.555832           1.168224        0.383926  \n",
       "1          0.0    -0.555832           1.168224        0.383926  \n",
       "2          0.0    -0.555832           1.168224        0.383926  "
      ]
     },
     "execution_count": 12,
     "metadata": {},
     "output_type": "execute_result"
    }
   ],
   "source": [
    "transcript_obj[1]\n"
   ]
  },
  {
   "cell_type": "code",
   "execution_count": 5,
   "metadata": {},
   "outputs": [],
   "source": [
    "import pandas as pd\n",
    "import numpy as np\n",
    "#find overlapping speakers\n",
    "def transcription_without_overlapping_speakers(diarization, transcript_obj):\n",
    "    overlaps_list = []\n",
    "    for _, row in diarization.iterrows():\n",
    "        start = row['start']\n",
    "        stop = row['stop']\n",
    "        speaker = row['speaker']\n",
    "\n",
    "        xx_inds = ~((transcript_obj[1]['end'] < start) | (transcript_obj[1]['start'] > stop))\n",
    "        overlapped_text = transcript_obj[1].loc[xx_inds, :]\n",
    "        overlapped_text['speaker_start'] = start\n",
    "        overlapped_text['speaker_end'] = stop\n",
    "        overlapped_text['speaker'] = speaker\n",
    "        overlaps_list.append(overlapped_text)\n",
    "\n",
    "    #compute overlap duration\n",
    "    columns_to_drop = ['seek', 'temperature', 'avg_logprob', 'compression_ratio', 'no_speech_prob']\n",
    "    all_overlaps = pd.concat(overlaps_list)\n",
    "    all_overlaps['max_start'] = np.maximum(all_overlaps['start'], \n",
    "                                        all_overlaps['speaker_start'])\n",
    "    all_overlaps['min_end'] = np.minimum(all_overlaps['end'],\n",
    "                                        all_overlaps['speaker_end'])\n",
    "    all_overlaps['overlap_duration'] = all_overlaps['min_end'] - all_overlaps['max_start']\n",
    "\n",
    "    all_overlaps.drop(columns=columns_to_drop, inplace=True)\n",
    "    all_overlaps = all_overlaps.reset_index(drop=True)\n",
    "\n",
    "    #pick only one text/speaker combination for each text\n",
    "    max_overlap_idx = all_overlaps.groupby('id')['overlap_duration'].idxmax()\n",
    "    all_overlaps = all_overlaps.loc[max_overlap_idx, :]\n",
    "    return all_overlaps\n"
   ]
  },
  {
   "cell_type": "code",
   "execution_count": 5,
   "metadata": {},
   "outputs": [
    {
     "data": {
      "text/plain": [
       "[[1, 2, 4], [6, 7, 8]]"
      ]
     },
     "execution_count": 5,
     "metadata": {},
     "output_type": "execute_result"
    }
   ],
   "source": [
    "arr1 = [[1, 2, 4]]\n",
    "arr2 = [6, 7, 8]\n",
    "arr1.append(arr2)\n",
    "arr1"
   ]
  },
  {
   "cell_type": "code",
   "execution_count": 3,
   "metadata": {},
   "outputs": [
    {
     "name": "stdout",
     "output_type": "stream",
     "text": [
      "Directory 'test/audio' created.\n",
      "Folder structure created successfully.\n",
      "Folder structure created successfully.\n",
      "Folder structure created successfully.\n",
      "Folder structure created successfully.\n",
      "Folder structure created successfully.\n"
     ]
    }
   ],
   "source": [
    "ROOT_FOLDER = 'test/audio'\n",
    "audio_subfolders = ['chunks', 'temp', 'speaker_segments', 'temp/speaker_segements', 'temp/normalized_audio']\n",
    "\n",
    "for folder in audio_subfolders:\n",
    "    system_utils.create_folder_structure(ROOT_FOLDER, folder)"
   ]
  },
  {
   "cell_type": "code",
   "execution_count": 10,
   "metadata": {},
   "outputs": [
    {
     "name": "stdout",
     "output_type": "stream",
     "text": [
      "================================================================\n",
      "\n",
      "================================================================\n",
      "\n",
      "================================================================\n",
      "\n",
      "================================================================\n",
      "\n",
      "================================================================\n",
      "\n",
      "================================================================\n",
      "\n",
      "================================================================\n",
      "\n"
     ]
    }
   ],
   "source": [
    "enh_path = 'enhanced_audio/has_perm//'\n",
    "enhanced_files = os.listdir(enh_path)\n",
    "for i, file in enumerate(enhanced_files):\n",
    "    print(\"================================================================\\n\")\n",
    "    file_name = os.path.join(enh_path, file)\n",
    "    audio_utils.enhance_audio_signal(file_name, f'enhanced_audio/enhanced/{file}')"
   ]
  },
  {
   "cell_type": "code",
   "execution_count": 2,
   "metadata": {},
   "outputs": [
    {
     "name": "stdout",
     "output_type": "stream",
     "text": [
      "File 'enhanced_audio/has_perm/recorded_audio_20230906_155457.wav' has read permissions.\n",
      "File 'enhanced_audio/has_perm/recorded_audio_20230906_155507.wav' has read permissions.\n",
      "File 'enhanced_audio/has_perm/recorded_audio_20230906_155517.wav' has read permissions.\n",
      "File 'enhanced_audio/has_perm/recorded_audio_20230906_155527.wav' has read permissions.\n",
      "File 'enhanced_audio/has_perm/recorded_audio_20230906_155537.wav' has read permissions.\n",
      "File 'enhanced_audio/has_perm/recorded_audio_20230906_155547.wav' has read permissions.\n",
      "File 'enhanced_audio/has_perm/recorded_audio_20230906_155557.wav' has read permissions.\n",
      "File 'enhanced_audio/has_perm/recorded_audio_20230906_155607.wav' has read permissions.\n",
      "File 'enhanced_audio/has_perm/recorded_audio_20230906_155617.wav' has read permissions.\n",
      "File 'enhanced_audio/has_perm/recorded_audio_20230906_164623.wav' has read permissions.\n",
      "File 'enhanced_audio/has_perm/recorded_audio_20230906_164633.wav' has read permissions.\n",
      "File 'enhanced_audio/has_perm/recorded_audio_20230906_164643.wav' has read permissions.\n",
      "File 'enhanced_audio/has_perm/recorded_audio_20230906_164653.wav' has read permissions.\n"
     ]
    }
   ],
   "source": [
    "import os\n",
    "for i, path in enumerate(os.listdir('enhanced_audio/has_perm/')):\n",
    "    file_path = os.path.join('enhanced_audio/has_perm/', path)\n",
    "    if os.access(file_path, os.R_OK):\n",
    "        print(f\"File '{file_path}' has read permissions.\")\n",
    "    else:\n",
    "        print(f\"File '{file_path}' does not have read permissions. Attempting to change permissions.\")\n",
    "        os.chmod(file_path, 0o644) "
   ]
  },
  {
   "cell_type": "code",
   "execution_count": 6,
   "metadata": {},
   "outputs": [
    {
     "name": "stdout",
     "output_type": "stream",
     "text": [
      "================================================================\n",
      "\n",
      "start: 0.0 - stop: 10.0\n",
      " speaker SPEAKER_00:  human voices and translate them in real time as well as keeping track of who is \n",
      "================================================================\n",
      "\n",
      "================================================================\n",
      "\n",
      "start: 0.0 - stop: 5.84\n",
      " speaker SPEAKER_00:  talking and when they are talking. So like you can see the software, what is \n",
      "start: 5.84 - stop: 11.44\n",
      " speaker SPEAKER_00:  what it is doing actually in the background, is it's taking \n",
      "================================================================\n",
      "\n",
      "================================================================\n",
      "\n",
      "start: 0.0 - stop: 6.88\n",
      " speaker SPEAKER_00:  from the stream that I'm currently generating from the audio stream that I'm currently generating it is creating \n",
      "start: 7.5200000000000005 - stop: 9.52\n",
      " speaker SPEAKER_00:  10 seconds clips \n",
      "================================================================\n",
      "\n",
      "================================================================\n",
      "\n",
      "start: 0.0 - stop: 9.88\n",
      " speaker SPEAKER_00:  every of course 10 seconds, that it will then use to one perform speaker diarization \n",
      "================================================================\n",
      "\n",
      "================================================================\n",
      "\n",
      "start: 0.0 - stop: 7.36\n",
      " speaker SPEAKER_00:  of 1776, the declaration of the 13th United States of America, \n",
      "start: 7.36 - stop: 10.6\n",
      " speaker SPEAKER_00:  won in the course of human events. \n",
      "================================================================\n",
      "\n",
      "================================================================\n",
      "\n",
      "start: 0.0 - stop: 6.5\n",
      " speaker SPEAKER_00:  It becomes necessary for one people to dissolve the political bends which are connected them with another. \n",
      "start: 6.5 - stop: 10.0\n",
      " speaker SPEAKER_00:  And to assume among the powers of the Earth, the surprise of the Earth, \n",
      "================================================================\n",
      "\n",
      "================================================================\n",
      "\n",
      "start: 0.0 - stop: 6.24\n",
      " speaker SPEAKER_00:  and equal station to which the laws of nature and of nature's goals entitle them. \n",
      "start: 6.24 - stop: 9.84\n",
      " speaker SPEAKER_00:  Addison respect to the opinions of mankind requires that. \n",
      "================================================================\n",
      "\n"
     ]
    }
   ],
   "source": [
    "import os\n",
    "transcription_object_list = []\n",
    "enh_path = 'enhanced_audio/enhanced/'\n",
    "enhanced_files = os.listdir(enh_path)\n",
    "\n",
    "for i, file in enumerate(enhanced_files):\n",
    "    print(\"================================================================\\n\")\n",
    "    file_name = os.path.join(enh_path, file)\n",
    "    #file_name = 'enhanced_audio/enhanced/recorded_audio_20230906_155507.wav'\n",
    "    #audio_utils.enhance_audio_signal(file_name, f'enhanced_audio/enhanced/{file}')\n",
    "    diarization = pyannote.get_diarization_speaker_info_df(pyannote_pipeline, file_name)\n",
    "    transcript_obj = whisper.get_transcription_object(transcription_model, file_name)\n",
    "    all_overlaps = transcription_without_overlapping_speakers(diarization, transcript_obj)\n",
    "    \n",
    "    transcription_object_list.append(all_overlaps)\n",
    "    \n",
    "    entries_count = all_overlaps.shape[0]\n",
    "    for i, row in all_overlaps.iterrows():\n",
    "        start = row['start']\n",
    "        stop = row['end']\n",
    "        text = row['text']\n",
    "        speaker = row['speaker']\n",
    "\n",
    "        \n",
    "        print(f\"start: {start} - stop: {stop}\\n speaker {speaker}: {text} \")\n",
    "    pyannote.cluster_audio_chunks(all_overlaps, 'enhanced_audio/non_silent/', f'enhanced_audio/enhanced/{file}', [])\n",
    "    print(\"================================================================\\n\")\n",
    "    #print(row['text'])\n",
    "\n",
    "\n"
   ]
  },
  {
   "cell_type": "code",
   "execution_count": 21,
   "metadata": {},
   "outputs": [
    {
     "data": {
      "text/html": [
       "<div>\n",
       "<style scoped>\n",
       "    .dataframe tbody tr th:only-of-type {\n",
       "        vertical-align: middle;\n",
       "    }\n",
       "\n",
       "    .dataframe tbody tr th {\n",
       "        vertical-align: top;\n",
       "    }\n",
       "\n",
       "    .dataframe thead th {\n",
       "        text-align: right;\n",
       "    }\n",
       "</style>\n",
       "<table border=\"1\" class=\"dataframe\">\n",
       "  <thead>\n",
       "    <tr style=\"text-align: right;\">\n",
       "      <th></th>\n",
       "      <th>id</th>\n",
       "      <th>start</th>\n",
       "      <th>end</th>\n",
       "      <th>text</th>\n",
       "      <th>speaker_start</th>\n",
       "      <th>speaker_end</th>\n",
       "      <th>speaker</th>\n",
       "      <th>max_start</th>\n",
       "      <th>min_end</th>\n",
       "      <th>overlap_duration</th>\n",
       "    </tr>\n",
       "  </thead>\n",
       "  <tbody>\n",
       "    <tr>\n",
       "      <th>0</th>\n",
       "      <td>0</td>\n",
       "      <td>0.00</td>\n",
       "      <td>5.84</td>\n",
       "      <td>talking and when they are talking. So like yo...</td>\n",
       "      <td>0.01</td>\n",
       "      <td>9.99</td>\n",
       "      <td>SPEAKER_00</td>\n",
       "      <td>0.01</td>\n",
       "      <td>5.84</td>\n",
       "      <td>5.83</td>\n",
       "    </tr>\n",
       "    <tr>\n",
       "      <th>1</th>\n",
       "      <td>1</td>\n",
       "      <td>5.84</td>\n",
       "      <td>11.44</td>\n",
       "      <td>what it is doing actually in the background, ...</td>\n",
       "      <td>0.01</td>\n",
       "      <td>9.99</td>\n",
       "      <td>SPEAKER_00</td>\n",
       "      <td>5.84</td>\n",
       "      <td>9.99</td>\n",
       "      <td>4.15</td>\n",
       "    </tr>\n",
       "  </tbody>\n",
       "</table>\n",
       "</div>"
      ],
      "text/plain": [
       "   id  start    end                                               text   \n",
       "0   0   0.00   5.84   talking and when they are talking. So like yo...  \\\n",
       "1   1   5.84  11.44   what it is doing actually in the background, ...   \n",
       "\n",
       "   speaker_start  speaker_end     speaker  max_start  min_end   \n",
       "0           0.01         9.99  SPEAKER_00       0.01     5.84  \\\n",
       "1           0.01         9.99  SPEAKER_00       5.84     9.99   \n",
       "\n",
       "   overlap_duration  \n",
       "0              5.83  \n",
       "1              4.15  "
      ]
     },
     "execution_count": 21,
     "metadata": {},
     "output_type": "execute_result"
    }
   ],
   "source": [
    "transcription_object_list[1]"
   ]
  },
  {
   "cell_type": "code",
   "execution_count": 14,
   "metadata": {},
   "outputs": [
    {
     "data": {
      "text/html": [
       "<div>\n",
       "<style scoped>\n",
       "    .dataframe tbody tr th:only-of-type {\n",
       "        vertical-align: middle;\n",
       "    }\n",
       "\n",
       "    .dataframe tbody tr th {\n",
       "        vertical-align: top;\n",
       "    }\n",
       "\n",
       "    .dataframe thead th {\n",
       "        text-align: right;\n",
       "    }\n",
       "</style>\n",
       "<table border=\"1\" class=\"dataframe\">\n",
       "  <thead>\n",
       "    <tr style=\"text-align: right;\">\n",
       "      <th></th>\n",
       "      <th>text</th>\n",
       "      <th>speaker_start</th>\n",
       "      <th>speaker_end</th>\n",
       "      <th>clock_counter</th>\n",
       "      <th>file_path</th>\n",
       "      <th>speaker</th>\n",
       "    </tr>\n",
       "  </thead>\n",
       "  <tbody>\n",
       "    <tr>\n",
       "      <th>0</th>\n",
       "      <td>years ago, the light has been seen ever since.</td>\n",
       "      <td>0.01</td>\n",
       "      <td>9.99</td>\n",
       "      <td>0.0</td>\n",
       "      <td>test/audio/temp/speaker_segements/crop_at_end_...</td>\n",
       "      <td>SPEAKER_01</td>\n",
       "    </tr>\n",
       "    <tr>\n",
       "      <th>1</th>\n",
       "      <td>Ghost lights or spook lights are seen all ove...</td>\n",
       "      <td>0.01</td>\n",
       "      <td>9.99</td>\n",
       "      <td>0.0</td>\n",
       "      <td>test/audio/temp/speaker_segements/crop_at_end_...</td>\n",
       "      <td>SPEAKER_01</td>\n",
       "    </tr>\n",
       "    <tr>\n",
       "      <th>2</th>\n",
       "      <td>to be the spirits of the dead.</td>\n",
       "      <td>0.01</td>\n",
       "      <td>9.99</td>\n",
       "      <td>0.0</td>\n",
       "      <td>test/audio/temp/speaker_segements/crop_at_end_...</td>\n",
       "      <td>SPEAKER_01</td>\n",
       "    </tr>\n",
       "    <tr>\n",
       "      <th>3</th>\n",
       "      <td>from the stream that I'm currently generating...</td>\n",
       "      <td>0.01</td>\n",
       "      <td>9.99</td>\n",
       "      <td>10.0</td>\n",
       "      <td>test/audio/temp/speaker_segements/crop_at_end_...</td>\n",
       "      <td>SPEAKER_03</td>\n",
       "    </tr>\n",
       "    <tr>\n",
       "      <th>4</th>\n",
       "      <td>10 seconds clips</td>\n",
       "      <td>0.01</td>\n",
       "      <td>9.99</td>\n",
       "      <td>10.0</td>\n",
       "      <td>test/audio/temp/speaker_segements/crop_at_end_...</td>\n",
       "      <td>SPEAKER_03</td>\n",
       "    </tr>\n",
       "    <tr>\n",
       "      <th>5</th>\n",
       "      <td>It becomes necessary for one people to dissol...</td>\n",
       "      <td>0.01</td>\n",
       "      <td>9.99</td>\n",
       "      <td>20.0</td>\n",
       "      <td>test/audio/temp/speaker_segements/crop_at_end_...</td>\n",
       "      <td>SPEAKER_02</td>\n",
       "    </tr>\n",
       "    <tr>\n",
       "      <th>6</th>\n",
       "      <td>And to assume among the powers of the Earth, ...</td>\n",
       "      <td>0.01</td>\n",
       "      <td>9.99</td>\n",
       "      <td>20.0</td>\n",
       "      <td>test/audio/temp/speaker_segements/crop_at_end_...</td>\n",
       "      <td>SPEAKER_02</td>\n",
       "    </tr>\n",
       "    <tr>\n",
       "      <th>7</th>\n",
       "      <td>It becomes necessary for one people to dissol...</td>\n",
       "      <td>0.01</td>\n",
       "      <td>9.99</td>\n",
       "      <td>20.0</td>\n",
       "      <td>test/audio/temp/speaker_segements/crop_at_end_...</td>\n",
       "      <td>SPEAKER_01</td>\n",
       "    </tr>\n",
       "    <tr>\n",
       "      <th>8</th>\n",
       "      <td>And to assume among the powers of the Earth, ...</td>\n",
       "      <td>0.01</td>\n",
       "      <td>9.99</td>\n",
       "      <td>20.0</td>\n",
       "      <td>test/audio/temp/speaker_segements/crop_at_end_...</td>\n",
       "      <td>SPEAKER_01</td>\n",
       "    </tr>\n",
       "    <tr>\n",
       "      <th>9</th>\n",
       "      <td>from the stream that I'm currently generating...</td>\n",
       "      <td>0.01</td>\n",
       "      <td>9.99</td>\n",
       "      <td>10.0</td>\n",
       "      <td>test/audio/temp/speaker_segements/crop_at_end_...</td>\n",
       "      <td>SPEAKER_02</td>\n",
       "    </tr>\n",
       "    <tr>\n",
       "      <th>10</th>\n",
       "      <td>10 seconds clips</td>\n",
       "      <td>0.01</td>\n",
       "      <td>9.99</td>\n",
       "      <td>10.0</td>\n",
       "      <td>test/audio/temp/speaker_segements/crop_at_end_...</td>\n",
       "      <td>SPEAKER_02</td>\n",
       "    </tr>\n",
       "    <tr>\n",
       "      <th>11</th>\n",
       "      <td>from the stream that I'm currently generating...</td>\n",
       "      <td>0.01</td>\n",
       "      <td>9.99</td>\n",
       "      <td>10.0</td>\n",
       "      <td>test/audio/temp/speaker_segements/crop_at_end_...</td>\n",
       "      <td>SPEAKER_03</td>\n",
       "    </tr>\n",
       "    <tr>\n",
       "      <th>12</th>\n",
       "      <td>10 seconds clips</td>\n",
       "      <td>0.01</td>\n",
       "      <td>9.99</td>\n",
       "      <td>10.0</td>\n",
       "      <td>test/audio/temp/speaker_segements/crop_at_end_...</td>\n",
       "      <td>SPEAKER_03</td>\n",
       "    </tr>\n",
       "    <tr>\n",
       "      <th>13</th>\n",
       "      <td>years ago, the light has been seen ever since.</td>\n",
       "      <td>0.01</td>\n",
       "      <td>9.99</td>\n",
       "      <td>0.0</td>\n",
       "      <td>test/audio/temp/speaker_segements/crop_at_end_...</td>\n",
       "      <td>SPEAKER_03</td>\n",
       "    </tr>\n",
       "    <tr>\n",
       "      <th>14</th>\n",
       "      <td>Ghost lights or spook lights are seen all ove...</td>\n",
       "      <td>0.01</td>\n",
       "      <td>9.99</td>\n",
       "      <td>0.0</td>\n",
       "      <td>test/audio/temp/speaker_segements/crop_at_end_...</td>\n",
       "      <td>SPEAKER_03</td>\n",
       "    </tr>\n",
       "    <tr>\n",
       "      <th>15</th>\n",
       "      <td>to be the spirits of the dead.</td>\n",
       "      <td>0.01</td>\n",
       "      <td>9.99</td>\n",
       "      <td>0.0</td>\n",
       "      <td>test/audio/temp/speaker_segements/crop_at_end_...</td>\n",
       "      <td>SPEAKER_03</td>\n",
       "    </tr>\n",
       "    <tr>\n",
       "      <th>16</th>\n",
       "      <td>years ago, the light has been seen ever since.</td>\n",
       "      <td>0.01</td>\n",
       "      <td>9.99</td>\n",
       "      <td>0.0</td>\n",
       "      <td>test/audio/temp/speaker_segements/crop_at_end_...</td>\n",
       "      <td>SPEAKER_03</td>\n",
       "    </tr>\n",
       "    <tr>\n",
       "      <th>17</th>\n",
       "      <td>Ghost lights or spook lights are seen all ove...</td>\n",
       "      <td>0.01</td>\n",
       "      <td>9.99</td>\n",
       "      <td>0.0</td>\n",
       "      <td>test/audio/temp/speaker_segements/crop_at_end_...</td>\n",
       "      <td>SPEAKER_03</td>\n",
       "    </tr>\n",
       "    <tr>\n",
       "      <th>18</th>\n",
       "      <td>to be the spirits of the dead.</td>\n",
       "      <td>0.01</td>\n",
       "      <td>9.99</td>\n",
       "      <td>0.0</td>\n",
       "      <td>test/audio/temp/speaker_segements/crop_at_end_...</td>\n",
       "      <td>SPEAKER_03</td>\n",
       "    </tr>\n",
       "    <tr>\n",
       "      <th>19</th>\n",
       "      <td>human voices and translate them in real time ...</td>\n",
       "      <td>0.01</td>\n",
       "      <td>9.99</td>\n",
       "      <td>70.0</td>\n",
       "      <td>test/audio/temp/speaker_segements/crop_at_end_...</td>\n",
       "      <td>SPEAKER_01</td>\n",
       "    </tr>\n",
       "    <tr>\n",
       "      <th>20</th>\n",
       "      <td>human voices and translate them in real time ...</td>\n",
       "      <td>0.01</td>\n",
       "      <td>9.99</td>\n",
       "      <td>70.0</td>\n",
       "      <td>test/audio/temp/speaker_segements/crop_at_end_...</td>\n",
       "      <td>SPEAKER_01</td>\n",
       "    </tr>\n",
       "    <tr>\n",
       "      <th>21</th>\n",
       "      <td>Suddenly, a mysterious orb of light appears i...</td>\n",
       "      <td>0.01</td>\n",
       "      <td>9.99</td>\n",
       "      <td>90.0</td>\n",
       "      <td>test/audio/temp/speaker_segements/crop_at_end_...</td>\n",
       "      <td>SPEAKER_01</td>\n",
       "    </tr>\n",
       "    <tr>\n",
       "      <th>22</th>\n",
       "      <td>the ground.</td>\n",
       "      <td>0.01</td>\n",
       "      <td>9.99</td>\n",
       "      <td>90.0</td>\n",
       "      <td>test/audio/temp/speaker_segements/crop_at_end_...</td>\n",
       "      <td>SPEAKER_01</td>\n",
       "    </tr>\n",
       "    <tr>\n",
       "      <th>23</th>\n",
       "      <td>You get the sense that the light is aware of ...</td>\n",
       "      <td>0.01</td>\n",
       "      <td>9.99</td>\n",
       "      <td>90.0</td>\n",
       "      <td>test/audio/temp/speaker_segements/crop_at_end_...</td>\n",
       "      <td>SPEAKER_01</td>\n",
       "    </tr>\n",
       "    <tr>\n",
       "      <th>24</th>\n",
       "      <td>It darts around, beckoning you.</td>\n",
       "      <td>0.01</td>\n",
       "      <td>9.99</td>\n",
       "      <td>90.0</td>\n",
       "      <td>test/audio/temp/speaker_segements/crop_at_end_...</td>\n",
       "      <td>SPEAKER_01</td>\n",
       "    </tr>\n",
       "  </tbody>\n",
       "</table>\n",
       "</div>"
      ],
      "text/plain": [
       "                                                 text  speaker_start   \n",
       "0      years ago, the light has been seen ever since.           0.01  \\\n",
       "1    Ghost lights or spook lights are seen all ove...           0.01   \n",
       "2                      to be the spirits of the dead.           0.01   \n",
       "3    from the stream that I'm currently generating...           0.01   \n",
       "4                                    10 seconds clips           0.01   \n",
       "5    It becomes necessary for one people to dissol...           0.01   \n",
       "6    And to assume among the powers of the Earth, ...           0.01   \n",
       "7    It becomes necessary for one people to dissol...           0.01   \n",
       "8    And to assume among the powers of the Earth, ...           0.01   \n",
       "9    from the stream that I'm currently generating...           0.01   \n",
       "10                                   10 seconds clips           0.01   \n",
       "11   from the stream that I'm currently generating...           0.01   \n",
       "12                                   10 seconds clips           0.01   \n",
       "13     years ago, the light has been seen ever since.           0.01   \n",
       "14   Ghost lights or spook lights are seen all ove...           0.01   \n",
       "15                     to be the spirits of the dead.           0.01   \n",
       "16     years ago, the light has been seen ever since.           0.01   \n",
       "17   Ghost lights or spook lights are seen all ove...           0.01   \n",
       "18                     to be the spirits of the dead.           0.01   \n",
       "19   human voices and translate them in real time ...           0.01   \n",
       "20   human voices and translate them in real time ...           0.01   \n",
       "21   Suddenly, a mysterious orb of light appears i...           0.01   \n",
       "22                                        the ground.           0.01   \n",
       "23   You get the sense that the light is aware of ...           0.01   \n",
       "24                    It darts around, beckoning you.           0.01   \n",
       "\n",
       "    speaker_end  clock_counter   \n",
       "0          9.99            0.0  \\\n",
       "1          9.99            0.0   \n",
       "2          9.99            0.0   \n",
       "3          9.99           10.0   \n",
       "4          9.99           10.0   \n",
       "5          9.99           20.0   \n",
       "6          9.99           20.0   \n",
       "7          9.99           20.0   \n",
       "8          9.99           20.0   \n",
       "9          9.99           10.0   \n",
       "10         9.99           10.0   \n",
       "11         9.99           10.0   \n",
       "12         9.99           10.0   \n",
       "13         9.99            0.0   \n",
       "14         9.99            0.0   \n",
       "15         9.99            0.0   \n",
       "16         9.99            0.0   \n",
       "17         9.99            0.0   \n",
       "18         9.99            0.0   \n",
       "19         9.99           70.0   \n",
       "20         9.99           70.0   \n",
       "21         9.99           90.0   \n",
       "22         9.99           90.0   \n",
       "23         9.99           90.0   \n",
       "24         9.99           90.0   \n",
       "\n",
       "                                            file_path     speaker  \n",
       "0   test/audio/temp/speaker_segements/crop_at_end_...  SPEAKER_01  \n",
       "1   test/audio/temp/speaker_segements/crop_at_end_...  SPEAKER_01  \n",
       "2   test/audio/temp/speaker_segements/crop_at_end_...  SPEAKER_01  \n",
       "3   test/audio/temp/speaker_segements/crop_at_end_...  SPEAKER_03  \n",
       "4   test/audio/temp/speaker_segements/crop_at_end_...  SPEAKER_03  \n",
       "5   test/audio/temp/speaker_segements/crop_at_end_...  SPEAKER_02  \n",
       "6   test/audio/temp/speaker_segements/crop_at_end_...  SPEAKER_02  \n",
       "7   test/audio/temp/speaker_segements/crop_at_end_...  SPEAKER_01  \n",
       "8   test/audio/temp/speaker_segements/crop_at_end_...  SPEAKER_01  \n",
       "9   test/audio/temp/speaker_segements/crop_at_end_...  SPEAKER_02  \n",
       "10  test/audio/temp/speaker_segements/crop_at_end_...  SPEAKER_02  \n",
       "11  test/audio/temp/speaker_segements/crop_at_end_...  SPEAKER_03  \n",
       "12  test/audio/temp/speaker_segements/crop_at_end_...  SPEAKER_03  \n",
       "13  test/audio/temp/speaker_segements/crop_at_end_...  SPEAKER_03  \n",
       "14  test/audio/temp/speaker_segements/crop_at_end_...  SPEAKER_03  \n",
       "15  test/audio/temp/speaker_segements/crop_at_end_...  SPEAKER_03  \n",
       "16  test/audio/temp/speaker_segements/crop_at_end_...  SPEAKER_03  \n",
       "17  test/audio/temp/speaker_segements/crop_at_end_...  SPEAKER_03  \n",
       "18  test/audio/temp/speaker_segements/crop_at_end_...  SPEAKER_03  \n",
       "19  test/audio/temp/speaker_segements/crop_at_end_...  SPEAKER_01  \n",
       "20  test/audio/temp/speaker_segements/crop_at_end_...  SPEAKER_01  \n",
       "21  test/audio/temp/speaker_segements/crop_at_end_...  SPEAKER_01  \n",
       "22  test/audio/temp/speaker_segements/crop_at_end_...  SPEAKER_01  \n",
       "23  test/audio/temp/speaker_segements/crop_at_end_...  SPEAKER_01  \n",
       "24  test/audio/temp/speaker_segements/crop_at_end_...  SPEAKER_01  "
      ]
     },
     "execution_count": 14,
     "metadata": {},
     "output_type": "execute_result"
    }
   ],
   "source": [
    "file = 'test/transcripts/data_20230908155122.csv'\n",
    "df = pd.read_csv(file)\n",
    "df"
   ]
  },
  {
   "cell_type": "code",
   "execution_count": 13,
   "metadata": {},
   "outputs": [
    {
     "data": {
      "text/html": [
       "<div>\n",
       "<style scoped>\n",
       "    .dataframe tbody tr th:only-of-type {\n",
       "        vertical-align: middle;\n",
       "    }\n",
       "\n",
       "    .dataframe tbody tr th {\n",
       "        vertical-align: top;\n",
       "    }\n",
       "\n",
       "    .dataframe thead th {\n",
       "        text-align: right;\n",
       "    }\n",
       "</style>\n",
       "<table border=\"1\" class=\"dataframe\">\n",
       "  <thead>\n",
       "    <tr style=\"text-align: right;\">\n",
       "      <th></th>\n",
       "      <th>start</th>\n",
       "      <th>stop</th>\n",
       "      <th>speaker</th>\n",
       "    </tr>\n",
       "  </thead>\n",
       "  <tbody>\n",
       "    <tr>\n",
       "      <th>0</th>\n",
       "      <td>0.01</td>\n",
       "      <td>9.99</td>\n",
       "      <td>SPEAKER_00</td>\n",
       "    </tr>\n",
       "  </tbody>\n",
       "</table>\n",
       "</div>"
      ],
      "text/plain": [
       "   start  stop     speaker\n",
       "0   0.01  9.99  SPEAKER_00"
      ]
     },
     "execution_count": 13,
     "metadata": {},
     "output_type": "execute_result"
    }
   ],
   "source": [
    "diarization"
   ]
  },
  {
   "cell_type": "code",
   "execution_count": 14,
   "metadata": {},
   "outputs": [
    {
     "data": {
      "text/html": [
       "<div>\n",
       "<style scoped>\n",
       "    .dataframe tbody tr th:only-of-type {\n",
       "        vertical-align: middle;\n",
       "    }\n",
       "\n",
       "    .dataframe tbody tr th {\n",
       "        vertical-align: top;\n",
       "    }\n",
       "\n",
       "    .dataframe thead th {\n",
       "        text-align: right;\n",
       "    }\n",
       "</style>\n",
       "<table border=\"1\" class=\"dataframe\">\n",
       "  <thead>\n",
       "    <tr style=\"text-align: right;\">\n",
       "      <th></th>\n",
       "      <th>id</th>\n",
       "      <th>start</th>\n",
       "      <th>end</th>\n",
       "      <th>text</th>\n",
       "      <th>speaker_start</th>\n",
       "      <th>speaker_end</th>\n",
       "      <th>speaker</th>\n",
       "      <th>max_start</th>\n",
       "      <th>min_end</th>\n",
       "      <th>overlap_duration</th>\n",
       "    </tr>\n",
       "  </thead>\n",
       "  <tbody>\n",
       "    <tr>\n",
       "      <th>0</th>\n",
       "      <td>0</td>\n",
       "      <td>0.00</td>\n",
       "      <td>6.24</td>\n",
       "      <td>and equal station to which the laws of nature...</td>\n",
       "      <td>0.01</td>\n",
       "      <td>9.99</td>\n",
       "      <td>SPEAKER_00</td>\n",
       "      <td>0.01</td>\n",
       "      <td>6.24</td>\n",
       "      <td>6.23</td>\n",
       "    </tr>\n",
       "    <tr>\n",
       "      <th>1</th>\n",
       "      <td>1</td>\n",
       "      <td>6.24</td>\n",
       "      <td>9.84</td>\n",
       "      <td>Addison respect to the opinions of mankind re...</td>\n",
       "      <td>0.01</td>\n",
       "      <td>9.99</td>\n",
       "      <td>SPEAKER_00</td>\n",
       "      <td>6.24</td>\n",
       "      <td>9.84</td>\n",
       "      <td>3.60</td>\n",
       "    </tr>\n",
       "  </tbody>\n",
       "</table>\n",
       "</div>"
      ],
      "text/plain": [
       "   id  start   end                                               text   \n",
       "0   0   0.00  6.24   and equal station to which the laws of nature...  \\\n",
       "1   1   6.24  9.84   Addison respect to the opinions of mankind re...   \n",
       "\n",
       "   speaker_start  speaker_end     speaker  max_start  min_end   \n",
       "0           0.01         9.99  SPEAKER_00       0.01     6.24  \\\n",
       "1           0.01         9.99  SPEAKER_00       6.24     9.84   \n",
       "\n",
       "   overlap_duration  \n",
       "0              6.23  \n",
       "1              3.60  "
      ]
     },
     "execution_count": 14,
     "metadata": {},
     "output_type": "execute_result"
    }
   ],
   "source": [
    "all_overlaps"
   ]
  },
  {
   "cell_type": "code",
   "execution_count": 53,
   "metadata": {},
   "outputs": [
    {
     "data": {
      "text/plain": [
       "0"
      ]
     },
     "execution_count": 53,
     "metadata": {},
     "output_type": "execute_result"
    }
   ],
   "source": [
    "int(0/10)"
   ]
  },
  {
   "cell_type": "code",
   "execution_count": 50,
   "metadata": {},
   "outputs": [
    {
     "name": "stdout",
     "output_type": "stream",
     "text": [
      "0    0.0\n",
      "1    2.0\n",
      "Name: start, dtype: float64\n",
      "0    2.0\n",
      "1    3.0\n",
      "Name: end, dtype: float64\n",
      "0     type and Vikings to see if that comes up.\n",
      "1                                 There you go.\n",
      "Name: text, dtype: object\n",
      "================================================================\n",
      "0    0.0\n",
      "1    2.0\n",
      "Name: start, dtype: float64\n",
      "0    2.0\n",
      "1    3.0\n",
      "Name: end, dtype: float64\n",
      "0     type and Vikings to see if that comes up.\n",
      "1                                 There you go.\n",
      "Name: text, dtype: object\n",
      "================================================================\n"
     ]
    }
   ],
   "source": [
    "\n",
    "filtered_df = all_overlaps[(all_overlaps['speaker_start'] == 0.01) & (all_overlaps['speaker_end'] == 2.99)]\n",
    "last_instance = filtered_df#.iloc[-1]\n",
    "for k, v in last_instance.iterrows():\n",
    "    print(last_instance['start'])\n",
    "    print(last_instance['end']) \n",
    "    print(last_instance['text'])\n",
    "    print(\"================================================================\")\n"
   ]
  },
  {
   "cell_type": "code",
   "execution_count": 23,
   "metadata": {},
   "outputs": [
    {
     "name": "stderr",
     "output_type": "stream",
     "text": [
      "Lightning automatically upgraded your loaded checkpoint from v1.2.7 to v2.0.7. To apply the upgrade to your files permanently, run `python -m pytorch_lightning.utilities.upgrade_checkpoint --file C:\\Users\\adamb\\.cache\\torch\\pyannote\\models--pyannote--embedding\\snapshots\\ef54f1b59c9fbef89ea2bab0e27b4a5dd9cfce36\\pytorch_model.bin`\n",
      "Lightning automatically upgraded your loaded checkpoint from v1.2.7 to v2.0.7. To apply the upgrade to your files permanently, run `python -m pytorch_lightning.utilities.upgrade_checkpoint --file C:\\Users\\adamb\\.cache\\torch\\pyannote\\models--pyannote--embedding\\snapshots\\ef54f1b59c9fbef89ea2bab0e27b4a5dd9cfce36\\pytorch_model.bin`\n"
     ]
    },
    {
     "name": "stdout",
     "output_type": "stream",
     "text": [
      "Model was trained with pyannote.audio 0.0.1, yours is 2.1.1. Bad things might happen unless you revert pyannote.audio to 0.x.\n",
      "Model was trained with torch 1.8.1+cu102, yours is 2.0.1+cpu. Bad things might happen unless you revert torch to 1.x.\n",
      "Model was trained with pyannote.audio 0.0.1, yours is 2.1.1. Bad things might happen unless you revert pyannote.audio to 0.x.\n",
      "Model was trained with torch 1.8.1+cu102, yours is 2.0.1+cpu. Bad things might happen unless you revert torch to 1.x.\n"
     ]
    }
   ],
   "source": [
    "embedding_model = pyannote.get_embedding_model(PYANNOTE_ACCESS_TOKEN)\n",
    "\n",
    "#guest_1 = 'enhanced_audio/test_clips/recorded_audio_crop_SPEAKER_00__1_20230906_200743.wav'\n",
    "#guest_2 = 'enhanced_audio/test_clips/recorded_audio_crop_SPEAKER_00__1_20230906_200819.wav'\n",
    "#guest_3 = 'enhanced_audio/test_clips/recorded_audio_crop_SPEAKER_00__2_20230906_200807.wav'\n",
    "#guest_4 = 'enhanced_audio/test_clips/recorded_audio_crop_SPEAKER_00__2_20230906_200842.wav'\n",
    "\n",
    "#pat_1 = 'enhanced_audio/test_clips/recorded_audio_crop_SPEAKER_00__2_20230906_200931.wav'\n",
    "#pat_2 = 'enhanced_audio/test_clips/recorded_audio_crop_SPEAKER_01__3_20230906_200923.wav'\n",
    "#sim = 1 - pyannote.embedding_cosine_similarity(embedding_model, guest_3, guest_4)\n",
    "#sim"
   ]
  },
  {
   "attachments": {},
   "cell_type": "markdown",
   "metadata": {},
   "source": [
    "# CLUSTERING"
   ]
  },
  {
   "cell_type": "code",
   "execution_count": 25,
   "metadata": {},
   "outputs": [
    {
     "name": "stdout",
     "output_type": "stream",
     "text": [
      "i  0\n",
      "i  1\n",
      "i  2\n",
      "i  3\n",
      "i  4\n",
      "i  5\n",
      "i  6\n",
      "i  7\n",
      "i  8\n",
      "i  9\n",
      "i  10\n",
      "i  11\n"
     ]
    },
    {
     "data": {
      "image/png": "[encoded data removed]",
      "text/plain": [
       "<Figure size 640x480 with 1 Axes>"
      ]
     },
     "metadata": {},
     "output_type": "display_data"
    },
    {
     "name": "stdout",
     "output_type": "stream",
     "text": [
      "cluster:  3   ['test/audio/temp/speaker_segements/crop_at_end_recorded_audio_20230907_223245_s1.wav_SPEAKER_00__0_20230908_174952.wav', 'test/audio/temp/speaker_segements/crop_at_end_recorded_audio_20230907_223255_s1.wav_SPEAKER_00__1_20230908_175101.wav', 'test/audio/temp/speaker_segements/crop_at_end_recorded_audio_20230907_223305_s1.wav_SPEAKER_00__1_20230908_175112.wav', 'test/audio/temp/speaker_segements/crop_at_end_recorded_audio_20230907_223315_s1.wav_SPEAKER_00__0_20230908_175049.wav'] \n",
      "\n",
      "cluster:  2   ['test/audio/temp/speaker_segements/crop_at_end_recorded_audio_20230907_223415_s2.wav_SPEAKER_00__1_20230908_175057.wav', 'test/audio/temp/speaker_segements/crop_at_end_recorded_audio_20230907_223425_s2.wav_SPEAKER_00__1_20230908_175053.wav', 'test/audio/temp/speaker_segements/crop_at_end_recorded_audio_20230907_223435_s2.wav_SPEAKER_00__1_20230908_175108.wav'] \n",
      "\n",
      "cluster:  1   ['test/audio/temp/speaker_segements/crop_at_end_recorded_audio_20230908_133604_s3.wav_SPEAKER_00__2_20230908_175120.wav', 'test/audio/temp/speaker_segements/crop_at_end_recorded_audio_20230908_133614_s3.wav_SPEAKER_00__3_20230908_175017.wav', 'test/audio/temp/speaker_segements/crop_at_end_recorded_audio_20230908_133624_s3.wav_SPEAKER_01__1_20230908_175105.wav', 'test/audio/temp/speaker_segements/crop_at_end_recorded_audio_20230908_133634_s3.wav_SPEAKER_00__2_20230908_175116.wav', 'test/audio/temp/speaker_segements/crop_at_end_recorded_audio_20230908_133644_s3.wav_SPEAKER_00__2_20230908_175038.wav'] \n",
      "\n"
     ]
    }
   ],
   "source": [
    "import os\n",
    "import numpy as np\n",
    "from sklearn.metrics.pairwise import cosine_similarity\n",
    "from scipy.cluster.hierarchy import linkage, dendrogram, fcluster\n",
    "from models.cluster_point import ClusterPoint\n",
    "\n",
    "CLUSTER_ROOT = 'test/audio/temp/speaker_segements/'#'enhanced_audio/test_clips/'\n",
    "\n",
    "def init_embeddings_cluster(CLUSTER_ROOT, embedding_model):\n",
    "    cluster_point = ClusterPoint()\n",
    "    cluster_files = os.listdir(CLUSTER_ROOT) \n",
    "    embeddings_dict = {}\n",
    "    for i, file in enumerate(cluster_files):\n",
    "        file_path = os.path.join(CLUSTER_ROOT, file)\n",
    "        print(\"i \", i)\n",
    "        if file_path not in embeddings_dict:\n",
    "            embeddings_dict[file_path] = pyannote.get_speaker_embedding_vector(embedding_model, file_path)\n",
    "\n",
    "    embedding_arrays = np.array(list(embeddings_dict.values()))\n",
    "    cosine_similarity_matrix = cosine_similarity(embedding_arrays, embedding_arrays)\n",
    "\n",
    "    # Compute linkage matrix\n",
    "    linkage_matrix = linkage(1 - cosine_similarity_matrix, method='ward')\n",
    "\n",
    "    # Create a dendrogram\n",
    "    dendrogram(linkage_matrix)\n",
    "\n",
    "    # Plot the dendrogram (optional)\n",
    "    import matplotlib.pyplot as plt\n",
    "    plt.show()\n",
    "\n",
    "        # Set a threshold or number of clusters based on your visual inspection\n",
    "    threshold = 1.4  # Adjust this value as needed\n",
    "\n",
    "    # Cut the dendrogram to obtain cluster labels\n",
    "    cluster_labels = fcluster(linkage_matrix, t=threshold, criterion='distance')\n",
    "    cluster_labels\n",
    "\n",
    "    # Create a dictionary to associate file names with cluster labels\n",
    "    clustered_data = {}\n",
    "    clustered_embeddings = {}\n",
    "    for i, (file_name, embedding) in enumerate(embeddings_dict.items()):\n",
    "        cluster_label = cluster_labels[i]\n",
    "        if cluster_label not in clustered_data:\n",
    "            clustered_data[cluster_label] = []\n",
    "            clustered_embeddings[cluster_label] = []\n",
    "        clustered_data[cluster_label].append(file_name)\n",
    "        clustered_embeddings[cluster_label].append(embedding)\n",
    "        \n",
    "        #system_utils.delete_specific_file(file_name)\n",
    "\n",
    "    # Now, clustered_data contains clusters as keys and lists of file names as values\n",
    "    for i in clustered_data:\n",
    "        print(\"cluster: \", i, \" \",clustered_data[i],\"\\n\")\n",
    "    \n",
    "    return clustered_embeddings\n",
    "\n",
    "clustered_embeddings = init_embeddings_cluster(CLUSTER_ROOT, embedding_model)"
   ]
  },
  {
   "cell_type": "code",
   "execution_count": 11,
   "metadata": {},
   "outputs": [
    {
     "data": {
      "text/plain": [
       "array([1, 1, 1], dtype=int32)"
      ]
     },
     "execution_count": 11,
     "metadata": {},
     "output_type": "execute_result"
    }
   ],
   "source": []
  },
  {
   "cell_type": "code",
   "execution_count": 12,
   "metadata": {},
   "outputs": [
    {
     "name": "stdout",
     "output_type": "stream",
     "text": [
      "cluster:  1   ['enhanced_audio/test_clips/recorded_audio_crop_SPEAKER_00__1_20230906_200743.wav', 'enhanced_audio/test_clips/recorded_audio_crop_SPEAKER_00__1_20230906_200819.wav', 'enhanced_audio/test_clips/recorded_audio_crop_SPEAKER_00__2_20230906_200807.wav'] \n",
      "\n"
     ]
    }
   ],
   "source": []
  },
  {
   "cell_type": "code",
   "execution_count": 22,
   "metadata": {},
   "outputs": [
    {
     "name": "stdout",
     "output_type": "stream",
     "text": [
      "1\n",
      "Cosine Similarity: 0.4007475\n"
     ]
    }
   ],
   "source": [
    "# Compute cosine similarity\n",
    "#similarity = cosine_similarity([clustered_embeddings[0]], [clustered_embeddings[1]])\n",
    "emb_to_compare = clustered_embeddings[2]\n",
    "emb_to_compare_length = len(emb_to_compare)\n",
    "# The similarity variable now contains the cosine similarity value between array1 and array2\n",
    "#print(\"Cosine Similarity:\", similarity[0][0])\n",
    "\n",
    "for i, (k, embs) in enumerate(clustered_embeddings.items()):\n",
    "    print(file)\n",
    "    #print(i,\"\",clustered_embeddings[k],\"\\n\")\n",
    "    similarity = cosine_similarity(np.array(list(clustered_embeddings[1])), np.array(list(clustered_embeddings[2])))\n",
    "    print(\"Cosine Similarity:\", similarity[0][0])\n",
    "    break"
   ]
  },
  {
   "cell_type": "code",
   "execution_count": 24,
   "metadata": {},
   "outputs": [],
   "source": [
    "#import random\n",
    "\n",
    "#def get_embedding_sample(embedding_list_1, embedding_list_2):\n",
    "#    l_3 = []\n",
    "#    # Check if list_1 is bigger than list_2\n",
    "#    if len(embedding_list_1) > len(embedding_list_2):\n",
    "#        # Randomly split list_1 into two parts of the same length as list_2\n",
    "#        l_3 = random.sample(embedding_list_1, len(embedding_list_2))  # Randomly select elements from list_1\n",
    "#    else:\n",
    "#        # Randomly grow list_1 to the size of list_2 based on its own elements\n",
    "#        l_3 = random.choices(embedding_list_1, k=len(embedding_list_2)) \n",
    "#    return l_3"
   ]
  },
  {
   "cell_type": "code",
   "execution_count": 34,
   "metadata": {},
   "outputs": [
    {
     "name": "stdout",
     "output_type": "stream",
     "text": [
      "shape : 2\n",
      " v shape (1, 512) - v_1 shape (3, 512)\n",
      "Cosine Similarities: [0.2108496]\n",
      "speaker  -1\n"
     ]
    },
    {
     "data": {
      "text/plain": [
       "-1"
      ]
     },
     "execution_count": 34,
     "metadata": {},
     "output_type": "execute_result"
    }
   ],
   "source": [
    "file_path = 'enhanced_audio/test_clips/recorded_audio_crop_SPEAKER_01__3_20230906_200923.wav'\n",
    "#file_path = 'enhanced_audio/test_clips/recorded_audio_crop_SPEAKER_00__3_20230906_200854.wav'\n",
    "\n",
    "def get_speaker_key(embedding_model, clustered_embeddings_dict, file_path):\n",
    "    # Compute cosine similarity for each pair of arrays\n",
    "    dict_after_clustering = {}\n",
    "\n",
    "    dict_after_clustering[2] = pyannote.get_speaker_embedding_vector(embedding_model, file_path)#clustered_embeddings[3]\n",
    "    similarities = []\n",
    "    #identity_cluster = -1\n",
    "    #hihghest_similarity_score = -1\n",
    "    for _, (_, v) in enumerate(dict_after_clustering.items()):\n",
    "        for _, (_, v_1) in enumerate(clustered_embeddings_dict.items()):\n",
    "            v = np.array(list(v))\n",
    "            v_1 = np.array(list(v_1))\n",
    "            if len(v.shape) < 2:\n",
    "                v = v.reshape(1, -1)\n",
    "            if len(v_1.shape) < 2:\n",
    "                v_1 = v_1.reshape(1, -1)\n",
    "            print(f\"shape : {len(v_1.shape)}\")\n",
    "            print(f\" v shape {v.reshape(1, -1).shape} - v_1 shape {v_1.shape}\")\n",
    "            \n",
    "            similarity = cosine_similarity(v, v_1)[0][0]\n",
    "            similarities.append(similarity)\n",
    "\n",
    "    # The similarities list now contains the cosine similarities for each pair of arrays\n",
    "    print(\"Cosine Similarities:\", similarities)\n",
    "    max_index = np.argmax(similarities)\n",
    "    if similarities[max_index] < 0.6:\n",
    "        max_index = -1 \n",
    "    print(\"speaker \", max_index)\n",
    "    return max_index\n",
    "\n",
    "get_speaker_key(embedding_model, clustered_embeddings, file_path)\n",
    "\n"
   ]
  },
  {
   "cell_type": "code",
   "execution_count": 24,
   "metadata": {},
   "outputs": [
    {
     "data": {
      "text/html": [
       "<div>\n",
       "<style scoped>\n",
       "    .dataframe tbody tr th:only-of-type {\n",
       "        vertical-align: middle;\n",
       "    }\n",
       "\n",
       "    .dataframe tbody tr th {\n",
       "        vertical-align: top;\n",
       "    }\n",
       "\n",
       "    .dataframe thead th {\n",
       "        text-align: right;\n",
       "    }\n",
       "</style>\n",
       "<table border=\"1\" class=\"dataframe\">\n",
       "  <thead>\n",
       "    <tr style=\"text-align: right;\">\n",
       "      <th></th>\n",
       "      <th>file_name</th>\n",
       "      <th>start</th>\n",
       "      <th>stop</th>\n",
       "      <th>total_length</th>\n",
       "    </tr>\n",
       "  </thead>\n",
       "  <tbody>\n",
       "    <tr>\n",
       "      <th>0</th>\n",
       "      <td>recorded_audio_20230906_164623.wav</td>\n",
       "      <td>1.026</td>\n",
       "      <td>4.512</td>\n",
       "      <td>9.985</td>\n",
       "    </tr>\n",
       "    <tr>\n",
       "      <th>1</th>\n",
       "      <td>recorded_audio_20230906_164623.wav</td>\n",
       "      <td>5.175</td>\n",
       "      <td>9.985</td>\n",
       "      <td>9.985</td>\n",
       "    </tr>\n",
       "  </tbody>\n",
       "</table>\n",
       "</div>"
      ],
      "text/plain": [
       "                            file_name  start   stop  total_length\n",
       "0  recorded_audio_20230906_164623.wav  1.026  4.512         9.985\n",
       "1  recorded_audio_20230906_164623.wav  5.175  9.985         9.985"
      ]
     },
     "execution_count": 24,
     "metadata": {},
     "output_type": "execute_result"
    }
   ],
   "source": [
    "audio_utils.speach_activity_detection('enhanced_audio/enhanced/recorded_audio_20230906_164623.wav')"
   ]
  },
  {
   "cell_type": "code",
   "execution_count": 30,
   "metadata": {},
   "outputs": [
    {
     "data": {
      "text/html": [
       "<div>\n",
       "<style scoped>\n",
       "    .dataframe tbody tr th:only-of-type {\n",
       "        vertical-align: middle;\n",
       "    }\n",
       "\n",
       "    .dataframe tbody tr th {\n",
       "        vertical-align: top;\n",
       "    }\n",
       "\n",
       "    .dataframe thead th {\n",
       "        text-align: right;\n",
       "    }\n",
       "</style>\n",
       "<table border=\"1\" class=\"dataframe\">\n",
       "  <thead>\n",
       "    <tr style=\"text-align: right;\">\n",
       "      <th></th>\n",
       "      <th>start</th>\n",
       "      <th>stop</th>\n",
       "      <th>speaker</th>\n",
       "    </tr>\n",
       "  </thead>\n",
       "  <tbody>\n",
       "    <tr>\n",
       "      <th>0</th>\n",
       "      <td>1.00</td>\n",
       "      <td>3.51</td>\n",
       "      <td>SPEAKER_00</td>\n",
       "    </tr>\n",
       "    <tr>\n",
       "      <th>1</th>\n",
       "      <td>3.51</td>\n",
       "      <td>9.99</td>\n",
       "      <td>SPEAKER_01</td>\n",
       "    </tr>\n",
       "  </tbody>\n",
       "</table>\n",
       "</div>"
      ],
      "text/plain": [
       "   start  stop     speaker\n",
       "0   1.00  3.51  SPEAKER_00\n",
       "1   3.51  9.99  SPEAKER_01"
      ]
     },
     "execution_count": 30,
     "metadata": {},
     "output_type": "execute_result"
    }
   ],
   "source": [
    "test = 'enhanced_audio/enhanced/recorded_audio_20230906_164623.wav'\n",
    "diarization = pyannote.get_diarization_speaker_info_df(pyannote_pipeline, test)\n",
    "diarization"
   ]
  },
  {
   "cell_type": "code",
   "execution_count": 31,
   "metadata": {},
   "outputs": [
    {
     "data": {
      "text/html": [
       "<div>\n",
       "<style scoped>\n",
       "    .dataframe tbody tr th:only-of-type {\n",
       "        vertical-align: middle;\n",
       "    }\n",
       "\n",
       "    .dataframe tbody tr th {\n",
       "        vertical-align: top;\n",
       "    }\n",
       "\n",
       "    .dataframe thead th {\n",
       "        text-align: right;\n",
       "    }\n",
       "</style>\n",
       "<table border=\"1\" class=\"dataframe\">\n",
       "  <thead>\n",
       "    <tr style=\"text-align: right;\">\n",
       "      <th></th>\n",
       "      <th>id</th>\n",
       "      <th>seek</th>\n",
       "      <th>start</th>\n",
       "      <th>end</th>\n",
       "      <th>text</th>\n",
       "      <th>temperature</th>\n",
       "      <th>avg_logprob</th>\n",
       "      <th>compression_ratio</th>\n",
       "      <th>no_speech_prob</th>\n",
       "    </tr>\n",
       "  </thead>\n",
       "  <tbody>\n",
       "    <tr>\n",
       "      <th>0</th>\n",
       "      <td>0</td>\n",
       "      <td>0</td>\n",
       "      <td>0.0</td>\n",
       "      <td>5.0</td>\n",
       "      <td>a very, very respected school.</td>\n",
       "      <td>0.0</td>\n",
       "      <td>-0.459736</td>\n",
       "      <td>1.243243</td>\n",
       "      <td>0.136985</td>\n",
       "    </tr>\n",
       "    <tr>\n",
       "      <th>1</th>\n",
       "      <td>1</td>\n",
       "      <td>0</td>\n",
       "      <td>5.0</td>\n",
       "      <td>8.0</td>\n",
       "      <td>Yeah, my wife and I, we lived in Plano for fi...</td>\n",
       "      <td>0.0</td>\n",
       "      <td>-0.459736</td>\n",
       "      <td>1.243243</td>\n",
       "      <td>0.136985</td>\n",
       "    </tr>\n",
       "    <tr>\n",
       "      <th>2</th>\n",
       "      <td>2</td>\n",
       "      <td>0</td>\n",
       "      <td>8.0</td>\n",
       "      <td>9.0</td>\n",
       "      <td>and my wife's from Houston.</td>\n",
       "      <td>0.0</td>\n",
       "      <td>-0.459736</td>\n",
       "      <td>1.243243</td>\n",
       "      <td>0.136985</td>\n",
       "    </tr>\n",
       "    <tr>\n",
       "      <th>3</th>\n",
       "      <td>3</td>\n",
       "      <td>0</td>\n",
       "      <td>9.0</td>\n",
       "      <td>10.0</td>\n",
       "      <td>I mean, she, we made it.</td>\n",
       "      <td>0.0</td>\n",
       "      <td>-0.459736</td>\n",
       "      <td>1.243243</td>\n",
       "      <td>0.136985</td>\n",
       "    </tr>\n",
       "  </tbody>\n",
       "</table>\n",
       "</div>"
      ],
      "text/plain": [
       "   id  seek  start   end                                               text   \n",
       "0   0     0    0.0   5.0                     a very, very respected school.  \\\n",
       "1   1     0    5.0   8.0   Yeah, my wife and I, we lived in Plano for fi...   \n",
       "2   2     0    8.0   9.0                        and my wife's from Houston.   \n",
       "3   3     0    9.0  10.0                           I mean, she, we made it.   \n",
       "\n",
       "   temperature  avg_logprob  compression_ratio  no_speech_prob  \n",
       "0          0.0    -0.459736           1.243243        0.136985  \n",
       "1          0.0    -0.459736           1.243243        0.136985  \n",
       "2          0.0    -0.459736           1.243243        0.136985  \n",
       "3          0.0    -0.459736           1.243243        0.136985  "
      ]
     },
     "execution_count": 31,
     "metadata": {},
     "output_type": "execute_result"
    }
   ],
   "source": [
    "test ='enhanced_audio/enhanced/recorded_audio_20230906_164623.wav' #'enhanced_audio/test_clips/recorded_audio_crop_SPEAKER_00__2_20230906_191648.wav'\n",
    "transcript_obj = whisper.get_transcription_object(transcription_model, test)\n",
    "transcript_obj[1]\n"
   ]
  },
  {
   "cell_type": "code",
   "execution_count": 32,
   "metadata": {},
   "outputs": [
    {
     "data": {
      "text/html": [
       "<div>\n",
       "<style scoped>\n",
       "    .dataframe tbody tr th:only-of-type {\n",
       "        vertical-align: middle;\n",
       "    }\n",
       "\n",
       "    .dataframe tbody tr th {\n",
       "        vertical-align: top;\n",
       "    }\n",
       "\n",
       "    .dataframe thead th {\n",
       "        text-align: right;\n",
       "    }\n",
       "</style>\n",
       "<table border=\"1\" class=\"dataframe\">\n",
       "  <thead>\n",
       "    <tr style=\"text-align: right;\">\n",
       "      <th></th>\n",
       "      <th>id</th>\n",
       "      <th>start</th>\n",
       "      <th>end</th>\n",
       "      <th>text</th>\n",
       "      <th>speaker_start</th>\n",
       "      <th>speaker_end</th>\n",
       "      <th>speaker</th>\n",
       "      <th>max_start</th>\n",
       "      <th>min_end</th>\n",
       "      <th>overlap_duration</th>\n",
       "    </tr>\n",
       "  </thead>\n",
       "  <tbody>\n",
       "    <tr>\n",
       "      <th>0</th>\n",
       "      <td>0</td>\n",
       "      <td>0.0</td>\n",
       "      <td>5.0</td>\n",
       "      <td>a very, very respected school.</td>\n",
       "      <td>1.00</td>\n",
       "      <td>3.51</td>\n",
       "      <td>SPEAKER_00</td>\n",
       "      <td>1.0</td>\n",
       "      <td>3.51</td>\n",
       "      <td>2.51</td>\n",
       "    </tr>\n",
       "    <tr>\n",
       "      <th>2</th>\n",
       "      <td>1</td>\n",
       "      <td>5.0</td>\n",
       "      <td>8.0</td>\n",
       "      <td>Yeah, my wife and I, we lived in Plano for fi...</td>\n",
       "      <td>3.51</td>\n",
       "      <td>9.99</td>\n",
       "      <td>SPEAKER_01</td>\n",
       "      <td>5.0</td>\n",
       "      <td>8.00</td>\n",
       "      <td>3.00</td>\n",
       "    </tr>\n",
       "    <tr>\n",
       "      <th>3</th>\n",
       "      <td>2</td>\n",
       "      <td>8.0</td>\n",
       "      <td>9.0</td>\n",
       "      <td>and my wife's from Houston.</td>\n",
       "      <td>3.51</td>\n",
       "      <td>9.99</td>\n",
       "      <td>SPEAKER_01</td>\n",
       "      <td>8.0</td>\n",
       "      <td>9.00</td>\n",
       "      <td>1.00</td>\n",
       "    </tr>\n",
       "    <tr>\n",
       "      <th>4</th>\n",
       "      <td>3</td>\n",
       "      <td>9.0</td>\n",
       "      <td>10.0</td>\n",
       "      <td>I mean, she, we made it.</td>\n",
       "      <td>3.51</td>\n",
       "      <td>9.99</td>\n",
       "      <td>SPEAKER_01</td>\n",
       "      <td>9.0</td>\n",
       "      <td>9.99</td>\n",
       "      <td>0.99</td>\n",
       "    </tr>\n",
       "  </tbody>\n",
       "</table>\n",
       "</div>"
      ],
      "text/plain": [
       "   id  start   end                                               text   \n",
       "0   0    0.0   5.0                     a very, very respected school.  \\\n",
       "2   1    5.0   8.0   Yeah, my wife and I, we lived in Plano for fi...   \n",
       "3   2    8.0   9.0                        and my wife's from Houston.   \n",
       "4   3    9.0  10.0                           I mean, she, we made it.   \n",
       "\n",
       "   speaker_start  speaker_end     speaker  max_start  min_end   \n",
       "0           1.00         3.51  SPEAKER_00        1.0     3.51  \\\n",
       "2           3.51         9.99  SPEAKER_01        5.0     8.00   \n",
       "3           3.51         9.99  SPEAKER_01        8.0     9.00   \n",
       "4           3.51         9.99  SPEAKER_01        9.0     9.99   \n",
       "\n",
       "   overlap_duration  \n",
       "0              2.51  \n",
       "2              3.00  \n",
       "3              1.00  \n",
       "4              0.99  "
      ]
     },
     "execution_count": 32,
     "metadata": {},
     "output_type": "execute_result"
    }
   ],
   "source": [
    "all_overlaps = transcription_without_overlapping_speakers(diarization, transcript_obj)\n",
    "all_overlaps"
   ]
  },
  {
   "cell_type": "code",
   "execution_count": null,
   "metadata": {},
   "outputs": [],
   "source": [
    "\n",
    "\n",
    "import librosa\n",
    "import torch\n",
    "import os\n",
    "\n",
    "sample_rate = 16000\n",
    "# Define parameters\n",
    "window_size = int(sample_rate * 0.03)  # 30 ms window size\n",
    "overlap = int(sample_rate * 0.015)  # 15 ms overlap\n",
    "\n",
    "# Define and load a pre-trained d-vector extraction model\n",
    "d_vector_model = torch.load('d_vector_model.pth')\n",
    "\n",
    "# Directory containing your audio clips\n",
    "audio_dir = 'enhanced_audio/chunks/'\n",
    "\n",
    "# List of audio clip filenames\n",
    "audio_files = os.listdir(audio_dir)\n",
    "\n",
    "# Initialize a dictionary to store d-vectors for each clip\n",
    "d_vectors_dict = {}\n",
    "\n",
    "for audio_file in audio_files:\n",
    "    # Load the audio clip\n",
    "    audio_path = os.path.join(audio_dir, audio_file)\n",
    "    audio, sample_rate = librosa.load(audio_path, sr=None)\n",
    "    print(sample_rate)\n",
    "\n",
    "    # Divide the audio into overlapping frames\n",
    "    frames = librosa.util.frame(audio, frame_length=window_size, hop_length=overlap)\n",
    "\n",
    "    # Extract MFCC features from each frame\n",
    "    mfcc_features = librosa.feature.mfcc(y=frames, sr=sample_rate)\n",
    "\n",
    "    # Extract d-vectors from MFCC features\n",
    "    d_vectors = []\n",
    "    for frame_mfcc in mfcc_features.T:\n",
    "        frame_mfcc = torch.Tensor(frame_mfcc)\n",
    "        d_vector = d_vector_model(frame_mfcc)\n",
    "        d_vectors.append(d_vector)\n",
    "\n",
    "    # Perform pooling (e.g., mean pooling) on d-vectors within the clip\n",
    "    pooled_d_vector = torch.mean(torch.stack(d_vectors), dim=0)\n",
    "\n",
    "    # Store the pooled d-vector in the dictionary\n",
    "    d_vectors_dict[audio_file] = pooled_d_vector\n"
   ]
  },
  {
   "cell_type": "code",
   "execution_count": null,
   "metadata": {},
   "outputs": [],
   "source": [
    "\n"
   ]
  },
  {
   "cell_type": "code",
   "execution_count": 17,
   "metadata": {},
   "outputs": [
    {
     "data": {
      "text/plain": [
       "0.9946786365975026"
      ]
     },
     "execution_count": 17,
     "metadata": {},
     "output_type": "execute_result"
    }
   ],
   "source": [
    "import librosa \n",
    "from scipy.spatial.distance import cdist\n",
    "\n",
    "audio_1 = 'archive/16000_pcm_speeches/audio/Benjamin_Netanyau/10.wav'\n",
    "audio_2 = 'archive/16000_pcm_speeches/audio/Jens_Stoltenberg/30.wav'\n",
    "num_mfcc = 13\n",
    "#embedding = pyannote.get_embedding_model(PYANNOTE_ACCESS_TOKEN)\n",
    "y_1, sr_1 = librosa.load(audio_1, sr=None)\n",
    "y_2, sr_2 = librosa.load(audio_2, sr=None)\n",
    "\n",
    "mfccs_1 = librosa.feature.mfcc(y=y_1, sr=sr_1, n_mfcc=num_mfcc)\n",
    "mfccs_2 = librosa.feature.mfcc(y=y_2, sr=sr_2, n_mfcc=num_mfcc)\n",
    "\n",
    "mfccs_1 = mfccs_1.T\n",
    "mfccs_2 = mfccs_2.T\n",
    "\n",
    "eulr = 1 - cdist(mfccs_1, mfccs_2, metric=\"cosine\")[0,0]\n",
    "eulr\n",
    "\n",
    "#diff = pyannote.embedding_cosine_similarity(embedding, audio_1, audio_2)\n",
    "#diff"
   ]
  },
  {
   "cell_type": "code",
   "execution_count": null,
   "metadata": {},
   "outputs": [],
   "source": [
    "import os\n",
    "import src.utils.audio_utils as audio_utils\n",
    "SPEAKER_CLUSTER_LOCATION = 'enhanced_audio/test_clips/'\n",
    "\n",
    "content = os.listdir('enhanced_audio/chunks/')\n",
    "for path in content:\n",
    "    print(path)\n",
    "    path_item = os.path.join('enhanced_audio/chunks/', path)\n",
    "    audio_utils.enhance_audio_signal(path_item, f'enhanced_audio/enhanced/{path}')\n",
    "    diarization = pyannote.get_diarization_speaker_info_df(pyannote_pipeline, f'enhanced_audio/enhanced/{path}')\n",
    "    pyannote.cluster_audio_chunks(diarization, SPEAKER_CLUSTER_LOCATION, f'enhanced_audio/enhanced/{path}')\n"
   ]
  },
  {
   "cell_type": "code",
   "execution_count": 15,
   "metadata": {},
   "outputs": [
    {
     "name": "stderr",
     "output_type": "stream",
     "text": [
      "Lightning automatically upgraded your loaded checkpoint from v1.5.4 to v2.0.7. To apply the upgrade to your files permanently, run `python -m pytorch_lightning.utilities.upgrade_checkpoint --file C:\\Users\\adamb\\.cache\\torch\\pyannote\\models--pyannote--segmentation\\snapshots\\ea322af152f0db03fcd5fd3d170ca28dc14c72a9\\pytorch_model.bin`\n"
     ]
    },
    {
     "name": "stdout",
     "output_type": "stream",
     "text": [
      "Model was trained with pyannote.audio 0.0.1, yours is 2.1.1. Bad things might happen unless you revert pyannote.audio to 0.x.\n",
      "Model was trained with torch 1.10.0+cu102, yours is 2.0.1+cpu. Bad things might happen unless you revert torch to 1.x.\n"
     ]
    }
   ],
   "source": [
    "from pyannote.audio.pipelines import OverlappedSpeechDetection\n",
    "from pyannote.audio import Model\n",
    "\n",
    "dotenv_path = 'venv/env_variables.env'\n",
    "TOKEN = pyannote.get_pyannote_access_token(dotenv_path)\n",
    "model = Model.from_pretrained(\"pyannote/segmentation\", \n",
    "                              use_auth_token=TOKEN)\n",
    "HYPER_PARAMETERS = {\n",
    "  # onset/offset activation thresholds\n",
    "  \"onset\": 0.5, \"offset\": 0.5,\n",
    "  # remove speech regions shorter than that many seconds.\n",
    "  \"min_duration_on\": 0.0,\n",
    "  # fill non-speech regions shorter than that many seconds.\n",
    "  \"min_duration_off\": 0.0\n",
    "}\n",
    "\n",
    "pipeline = OverlappedSpeechDetection(segmentation=model)\n",
    "pipeline.instantiate(HYPER_PARAMETERS)\n",
    "osd = pipeline(\"enhanced_audio/test_clips/recorded_audio_crop_SPEAKER_00__2_20230906_182427.wav\")\n"
   ]
  },
  {
   "cell_type": "code",
   "execution_count": 16,
   "metadata": {},
   "outputs": [
    {
     "data": {
      "image/png": "[encoded data removed]",
      "text/plain": [
       "<pyannote.core.annotation.Annotation at 0x22688720110>"
      ]
     },
     "execution_count": 16,
     "metadata": {},
     "output_type": "execute_result"
    }
   ],
   "source": [
    "osd"
   ]
  },
  {
   "cell_type": "code",
   "execution_count": null,
   "metadata": {},
   "outputs": [],
   "source": [
    "\n",
    "folder_path = 'enhanced_audio/chunks/'\n",
    "folder_contents = os.listdir(folder_path)\n",
    "diarization_dict = {}\n",
    "global_counter = 0.0\n",
    "for i, item in enumerate(folder_contents):\n",
    "    item_path = os.path.join(folder_path, item)\n",
    "    audio_utils.enhance_audio_signal(item_path, f'enhanced_audio/enhanced/{item}')\n",
    "    diarization_dict = pyannote.get_diarization_speaker_info_df(pyannote_pipeline, f'enhanced_audio/enhanced/{item}')\n",
    "    print(f'file: {item} dict: {diarization_dict}\\n')\n",
    "    for _, row in diarization_dict.iterrows():\n",
    "        audio_utils.crop_wav(item_path, f'enhanced_audio/test_clips/{item}_{row[\"speaker\"]}_{(float(row[\"stop\"]) + global_counter)}.wav', float(row[\"start\"]), float(row[\"stop\"]))\n",
    "    #audio_utils.c\n",
    "    global_counter += 10\n",
    "\n"
   ]
  },
  {
   "cell_type": "code",
   "execution_count": null,
   "metadata": {},
   "outputs": [],
   "source": [
    "embedding_model = pyannote.get_embedding_model(PYANNOTE_ACCESS_TOKEN)"
   ]
  },
  {
   "cell_type": "code",
   "execution_count": null,
   "metadata": {},
   "outputs": [],
   "source": [
    "import os \n",
    "from pydub import AudioSegment\n",
    "\n",
    "cluster_file = 'enhanced_audio/test_clips/'\n",
    "folder_contents = os.listdir(cluster_file)\n",
    "speakers_embeddings_list = {}\n",
    "for i, item in enumerate(folder_contents):\n",
    "    item_path = os.path.join(cluster_file, item)\n",
    "    print(\"============> \",item_path)\n",
    "    #audio = AudioSegment.from_file(item_path)\n",
    "    #length_in_seconds = len(audio) / 1000.0\n",
    "    \n",
    "    #if length_in_seconds >= 1:\n",
    "    #    print(length_in_seconds)\n",
    "    speaker_embedding = pyannote.get_speaker_embedding_vector(embedding_model, item_path)\n",
    "    #speaker_embedding = mfcc_vectors[i]\n",
    "    speakers_embeddings_list[item_path] = speaker_embedding"
   ]
  },
  {
   "cell_type": "code",
   "execution_count": null,
   "metadata": {},
   "outputs": [],
   "source": []
  },
  {
   "cell_type": "code",
   "execution_count": null,
   "metadata": {},
   "outputs": [],
   "source": [
    "from scipy.spatial.distance import cdist\n",
    "from pydub import AudioSegment\n",
    "\n",
    "cluster_file = 'enhanced_audio/test_clips/'\n",
    "folder_contents = os.listdir(cluster_file)\n",
    "seen = []\n",
    "comp = {}\n",
    "for i, item in enumerate(folder_contents):\n",
    "    item_path = os.path.join(cluster_file, item)\n",
    "    #emb_1 = speakers_embeddings_list[item_path]\n",
    "    folder_contents_y = os.listdir(cluster_file)\n",
    "    for y, item_y in enumerate(folder_contents_y):\n",
    "        current_path = os.path.join(cluster_file, item_y)\n",
    "        audio = AudioSegment.from_file(item_path)\n",
    "        length_in_seconds = len(audio) / 1000.0\n",
    "        if (item_y in seen) or (i == y) or (length_in_seconds < 1):\n",
    "            pass\n",
    "\n",
    "        else:\n",
    "            #emb_1 = pyannote.get_speaker_embedding_vector(embedding_model, item_path)\n",
    "            #emb_2 = pyannote.get_speaker_embedding_vector(embedding_model, current_path)\n",
    "            #similarity = 1 - cdist(embedding1.reshape(1, -1), embedding2.reshape(1, -1), metric=\"cosine\")[0,0]\n",
    "            similarity = pyannote.embedding_cosine_similarity(embedding_model, item_path, current_path)\n",
    "            if similarity > 0.65:\n",
    "                if item_path not in comp:\n",
    "                    comp[item_path] = []\n",
    "                    comp[item_path].append(current_path)\n",
    "                else:\n",
    "                    comp[item_path].append(current_path)\n",
    "    seen.append(item_path)\n",
    "    #system_utils.delete_specific_file(item_path)"
   ]
  },
  {
   "attachments": {},
   "cell_type": "markdown",
   "metadata": {},
   "source": [
    "##### Diarization based uterrances"
   ]
  },
  {
   "cell_type": "code",
   "execution_count": 31,
   "metadata": {},
   "outputs": [],
   "source": [
    "import librosa\n",
    "import numpy as np\n",
    "import os\n",
    "from sklearn.cluster import DBSCAN\n",
    "import numpy as np\n",
    "from sklearn.preprocessing import StandardScaler\n",
    "import matplotlib.pyplot as plt\n",
    "\n",
    "num_mfcc = 13  # Number of MFCC coefficients to extract\n",
    "frame_length = 25  # Frame length in milliseconds\n",
    "hop_length = 10    # Hop length in milliseconds\n",
    "\n",
    "def extract_mfcc(audio_file):\n",
    "    # Load the audio file\n",
    "    y, sr = librosa.load(audio_file, sr=None)\n",
    "\n",
    "    # Extract MFCC features\n",
    "    mfccs = librosa.feature.mfcc(y=y, sr=sr, n_mfcc=num_mfcc, hop_length=int(hop_length * sr / 1000),\n",
    "                                 n_fft=int(frame_length * sr / 1000))\n",
    "\n",
    "    # Transpose the MFCC matrix to have time frames as rows\n",
    "    mfccs = mfccs.T\n",
    "\n",
    "    return mfccs\n",
    "\n",
    "audio_dir = 'enhanced_audio/chunks/'  # Replace with the directory containing your audio files\n",
    "\n",
    "mfcc_file_pairs = []\n",
    "\n",
    "for filename in os.listdir(audio_dir):\n",
    "    if filename.endswith('.wav'):\n",
    "        audio_file = os.path.join(audio_dir, filename)\n",
    "        mfcc = extract_mfcc(audio_file)\n",
    "        #print(f\"mfcc len {len(mfcc)}\")\n",
    "        #mfcc_file_pairs.append((mfcc, audio_file))\n",
    "\n",
    "        for i, vector in enumerate(mfcc):\n",
    "            mfcc_file_pairs.append((vector, audio_file))\n",
    "\n",
    "# Concatenate the MFCC vectors into a single NumPy array\n",
    "mfcc_data = np.vstack([pair[0] for pair in mfcc_file_pairs])"
   ]
  },
  {
   "cell_type": "code",
   "execution_count": null,
   "metadata": {},
   "outputs": [],
   "source": [
    "mfcc_file_pairs[0][1]"
   ]
  },
  {
   "cell_type": "code",
   "execution_count": 37,
   "metadata": {},
   "outputs": [
    {
     "data": {
      "image/png": "[encoded data removed]",
      "text/plain": [
       "<Figure size 640x480 with 1 Axes>"
      ]
     },
     "metadata": {},
     "output_type": "display_data"
    }
   ],
   "source": [
    "\n",
    "\n",
    "\n",
    "#Concatenate the MFCC vectors into a single NumPy array, which will serve as the input data for DBSCAN:\n",
    "#mfcc_data = np.vstack(mfcc_vectors)\n",
    "\n",
    "\n",
    "scaler = StandardScaler()\n",
    "mfcc_data_normalized = scaler.fit_transform(mfcc_data)\n",
    "\n",
    "eps = 0.55  # Adjust as needed\n",
    "min_samples = 5  # Adjust as needed\n",
    "\n",
    "dbscan = DBSCAN(eps=eps, min_samples=min_samples)\n",
    "labels = dbscan.fit_predict(mfcc_data_normalized)\n",
    "#print(len(labels))\n",
    "\n",
    "\n",
    "# Create a dictionary to map labels to audio files\n",
    "label_to_audio_file = {}\n",
    "\n",
    "for i, label in enumerate(labels):\n",
    "    #print(f\"index {i}\")\n",
    "    audio_file = mfcc_file_pairs[i][1]\n",
    "    #print(\"audio ___> \",audio_file)\n",
    "    if label in label_to_audio_file:\n",
    "        label_to_audio_file[label].append(audio_file)\n",
    "    else:\n",
    "        label_to_audio_file[label] = [audio_file]\n",
    "\n",
    "#for label, audio_file in zip(labels, [pair[1] for pair in mfcc_file_pairs]):\n",
    "#    print(\"in label \", label)\n",
    "#    if label in label_to_audio_file:\n",
    "        \n",
    "#        label_to_audio_file[label].append(audio_file)\n",
    "#    else:\n",
    "#        label_to_audio_file[label] = [audio_file]\n",
    "\n",
    "# Plot the clustered data\n",
    "unique_labels = np.unique(labels)\n",
    "for label in unique_labels:\n",
    "    if label == -1:\n",
    "        # Plot noise points in black\n",
    "        plt.scatter(mfcc_data_normalized[labels == label, 0], mfcc_data_normalized[labels == label, 1], c='black', marker='o', s=10)\n",
    "    else:\n",
    "        # Plot data points belonging to clusters with different colors\n",
    "        plt.scatter(mfcc_data_normalized[labels == label, 0], mfcc_data_normalized[labels == label, 1], label=f'Cluster {label}')\n",
    "\n",
    "plt.legend()\n",
    "plt.title('DBSCAN Clustering of MFCC Vectors')\n",
    "plt.xlabel('Feature 1')\n",
    "plt.ylabel('Feature 2')\n",
    "plt.show()\n"
   ]
  },
  {
   "cell_type": "code",
   "execution_count": 38,
   "metadata": {},
   "outputs": [
    {
     "name": "stdout",
     "output_type": "stream",
     "text": [
      "enhanced_audio/chunks/recorded_audio_20230905_205840.wav: 3\n",
      "enhanced_audio/chunks/recorded_audio_20230905_205830.wav: 2\n",
      "enhanced_audio/chunks/recorded_audio_20230905_205810.wav: 1\n",
      "enhanced_audio/chunks/recorded_audio_20230905_205910.wav: 1\n",
      "enhanced_audio/chunks/recorded_audio_20230905_205911.wav: 1\n"
     ]
    }
   ],
   "source": [
    "#label_to_audio_file[0]\n",
    "\n",
    "# Use numpy's unique function with return_counts=True\n",
    "unique_elements, frequencies = np.unique(label_to_audio_file[0], return_counts=True)\n",
    "\n",
    "# Create a dictionary to store the frequencies\n",
    "frequency_dict = dict(zip(unique_elements, frequencies))\n",
    "\n",
    "# Sort the dictionary by frequency in descending order\n",
    "sorted_frequency_dict = dict(sorted(frequency_dict.items(), key=lambda item: item[1], reverse=True))\n",
    "\n",
    "# Print the frequencies in descending order\n",
    "for element, frequency in sorted_frequency_dict.items():\n",
    "    print(f\"{element}: {frequency}\")"
   ]
  },
  {
   "cell_type": "code",
   "execution_count": null,
   "metadata": {},
   "outputs": [],
   "source": [
    "\n",
    "\n",
    "\n",
    "#Concatenate the MFCC vectors into a single NumPy array, which will serve as the input data for DBSCAN:\n",
    "mfcc_data = np.vstack(mfcc_vectors)\n",
    "\n",
    "\n",
    "scaler = StandardScaler()\n",
    "mfcc_data_normalized = scaler.fit_transform(mfcc_data)\n",
    "\n",
    "eps = 0.7  # Adjust as needed\n",
    "min_samples = 5  # Adjust as needed\n",
    "\n",
    "dbscan = DBSCAN(eps=eps, min_samples=min_samples)\n",
    "labels = dbscan.fit_predict(mfcc_data_normalized)\n",
    "\n",
    "\n",
    "\n",
    "# Plot the clustered data\n",
    "unique_labels = np.unique(labels)\n",
    "for label in unique_labels:\n",
    "    if label == -1:\n",
    "        # Plot noise points in black\n",
    "        plt.scatter(mfcc_data_normalized[labels == label, 0], mfcc_data_normalized[labels == label, 1], c='black', marker='o', s=10)\n",
    "    else:\n",
    "        # Plot data points belonging to clusters with different colors\n",
    "        plt.scatter(mfcc_data_normalized[labels == label, 0], mfcc_data_normalized[labels == label, 1], label=f'Cluster {label}')\n",
    "\n",
    "plt.legend()\n",
    "plt.title('DBSCAN Clustering of MFCC Vectors')\n",
    "plt.xlabel('Feature 1')\n",
    "plt.ylabel('Feature 2')\n",
    "plt.show()\n"
   ]
  },
  {
   "cell_type": "code",
   "execution_count": null,
   "metadata": {},
   "outputs": [],
   "source": [
    "\n"
   ]
  },
  {
   "cell_type": "code",
   "execution_count": null,
   "metadata": {},
   "outputs": [],
   "source": []
  },
  {
   "cell_type": "code",
   "execution_count": null,
   "metadata": {},
   "outputs": [],
   "source": [
    "from scipy.spatial.distance import cdist\n",
    "import numpy as np\n",
    "from sklearn.decomposition import PCA\n",
    "# Standardize the data to have zero mean and unit variance\n",
    "scaler = StandardScaler()\n",
    "X_standardized = scaler.fit_transform(list(speakers_embeddings_list.values()))\n",
    "\n",
    "\n",
    "\n",
    "dict_ = {}\n",
    "item_1 = X_standardized#list(speakers_embeddings_list.values())[0]\n",
    "len(X_standardized[0])\n",
    "#dict_[len(dict_)] = item_1\n",
    "#for key, embedding in X_standardized:#speakers_embeddings_list.items():\n",
    "#    distance = 1 - cdist(item_1.reshape(1, -1), embedding.reshape(1, -1), metric=\"cosine\")[0,0]\n",
    "    #sim = 1 - pyannote.embedding_cosine_similarity(speakers_embeddings_list[0], dict_[i])\n",
    "#    print(f\"{key} sim with index {0}, similarity: {distance}\")"
   ]
  },
  {
   "cell_type": "code",
   "execution_count": null,
   "metadata": {},
   "outputs": [],
   "source": [
    "from sklearn.preprocessing import StandardScaler\n",
    "from sklearn.decomposition import PCA\n",
    "# Standardize the data to have zero mean and unit variance\n",
    "scaler = StandardScaler()\n",
    "item_1 = item_1 * 100000\n",
    "X_standardized = scaler.fit_transform(list(speakers_embeddings_list.values()))\n",
    "X_standardized\n",
    "\n",
    "# Create the PCA model with 95% variance retention\n",
    "pca = PCA(n_components=0.95)\n",
    "\n",
    "# Fit the PCA model to the standardized data\n",
    "X_pca = pca.fit_transform(X_standardized)\n",
    "X_pca\n",
    "\n",
    "#item_1.reshape(1, -1)"
   ]
  },
  {
   "attachments": {},
   "cell_type": "markdown",
   "metadata": {},
   "source": [
    "##### transcription based uterrances"
   ]
  },
  {
   "cell_type": "code",
   "execution_count": null,
   "metadata": {},
   "outputs": [],
   "source": []
  },
  {
   "cell_type": "code",
   "execution_count": null,
   "metadata": {},
   "outputs": [],
   "source": [
    "import numpy as np\n",
    "import matplotlib.pyplot as plt\n",
    "from sklearn.cluster import DBSCAN\n",
    "\n",
    "# Create a DBSCAN instance\n",
    "dbscan = DBSCAN(eps=0.5, min_samples=5)\n",
    "\n",
    "# Fit the DBSCAN model to your data\n",
    "clusters = dbscan.fit_predict(list(speakers_embeddings_list.values()))\n",
    "clusters"
   ]
  },
  {
   "cell_type": "code",
   "execution_count": null,
   "metadata": {},
   "outputs": [],
   "source": [
    "reduced_audio"
   ]
  },
  {
   "cell_type": "code",
   "execution_count": null,
   "metadata": {},
   "outputs": [],
   "source": []
  }
 ],
 "metadata": {
  "kernelspec": {
   "display_name": "tensorflow_base",
   "language": "python",
   "name": "python3"
  },
  "language_info": {
   "codemirror_mode": {
    "name": "ipython",
    "version": 3
   },
   "file_extension": ".py",
   "mimetype": "text/x-python",
   "name": "python",
   "nbconvert_exporter": "python",
   "pygments_lexer": "ipython3",
   "version": "3.11.0"
  },
  "orig_nbformat": 4
 },
 "nbformat": 4,
 "nbformat_minor": 2
}
